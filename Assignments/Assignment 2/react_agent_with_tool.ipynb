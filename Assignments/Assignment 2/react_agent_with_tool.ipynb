{
 "cells": [
  {
   "cell_type": "markdown",
   "metadata": {},
   "source": [
    "## Assignment 2\n",
    "1. you have to create one **supervisor node**\n",
    "2. router function\n",
    "3. 3.1 llm call (**llm node**)\n",
    "    \n",
    "    3.2 RAG (**rag node**)\n",
    "    \n",
    "    3.3 web scrapping (internet) (**web scrapper node**)\n",
    "    \n",
    "4. created one more one for **validation** of generated output → explore the validation part\n",
    "5. if validation going to be **fail** in that again go to **supervisor** and then supervisor will again decide what needs to be call **next**\n",
    "6. once the **validation will pass** then only generated the final output"
   ]
  },
  {
   "cell_type": "markdown",
   "metadata": {},
   "source": [
    "### Configure the model and embeddings"
   ]
  },
  {
   "cell_type": "code",
   "execution_count": 2,
   "metadata": {},
   "outputs": [
    {
     "name": "stderr",
     "output_type": "stream",
     "text": [
      "c:\\Users\\aayushisharma\\OneDrive - Nagarro\\Agentic AI training\\course hands on\\Assignments\\.venv\\Lib\\site-packages\\tqdm\\auto.py:21: TqdmWarning: IProgress not found. Please update jupyter and ipywidgets. See https://ipywidgets.readthedocs.io/en/stable/user_install.html\n",
      "  from .autonotebook import tqdm as notebook_tqdm\n"
     ]
    },
    {
     "data": {
      "text/plain": [
       "384"
      ]
     },
     "execution_count": 2,
     "metadata": {},
     "output_type": "execute_result"
    }
   ],
   "source": [
    "import os\n",
    "from dotenv import load_dotenv\n",
    "from langchain_google_genai import ChatGoogleGenerativeAI\n",
    "from langchain_huggingface import HuggingFaceEmbeddings\n",
    "\n",
    "load_dotenv()\n",
    "os.environ[\"GOOGLE_API_KEY\"] = os.getenv(\"GOOGLE_API_KEY\")\n",
    "os.environ[\"HUGGING_FACE_API\"] = os.getenv(\"HUGGING_FACE_API\")\n",
    "\n",
    "llm = ChatGoogleGenerativeAI(model=\"gemini-1.5-flash\")\n",
    "\n",
    "embeddings = HuggingFaceEmbeddings(model_name=\"BAAI/bge-small-en\")\n",
    "len(embeddings.embed_query(\"hi\"))\n"
   ]
  },
  {
   "cell_type": "code",
   "execution_count": 12,
   "metadata": {},
   "outputs": [],
   "source": [
    "import operator\n",
    "from typing import List\n",
    "from pydantic import BaseModel , Field\n",
    "from langchain.prompts import PromptTemplate\n",
    "from typing import TypedDict, Annotated, Sequence\n",
    "from langchain_core.messages import BaseMessage\n",
    "from langchain_core.output_parsers import StrOutputParser\n",
    "from langchain_core.prompts import ChatPromptTemplate, PromptTemplate\n",
    "from langchain_core.runnables import RunnablePassthrough\n",
    "from langchain_core.messages import HumanMessage, AIMessage\n",
    "from langgraph.graph import StateGraph,END, START\n",
    "from langchain.output_parsers import PydanticOutputParser\n",
    "from langchain.document_loaders import PyPDFLoader, PyMuPDFLoader\n",
    "from langchain.text_splitter import RecursiveCharacterTextSplitter\n",
    "from langchain.embeddings import HuggingFaceEmbeddings\n",
    "from langchain.vectorstores import FAISS\n",
    "from langchain_community.tools import DuckDuckGoSearchRun"
   ]
  },
  {
   "cell_type": "markdown",
   "metadata": {},
   "source": [
    "### Creating our own Pydantic parser"
   ]
  },
  {
   "cell_type": "code",
   "execution_count": 4,
   "metadata": {},
   "outputs": [
    {
     "data": {
      "text/plain": [
       "'The output should be formatted as a JSON instance that conforms to the JSON schema below.\\n\\nAs an example, for the schema {\"properties\": {\"foo\": {\"title\": \"Foo\", \"description\": \"a list of strings\", \"type\": \"array\", \"items\": {\"type\": \"string\"}}}, \"required\": [\"foo\"]}\\nthe object {\"foo\": [\"bar\", \"baz\"]} is a well-formatted instance of the schema. The object {\"properties\": {\"foo\": [\"bar\", \"baz\"]}} is not well-formatted.\\n\\nHere is the output schema:\\n```\\n{\"properties\": {\"Topic\": {\"description\": \"selected topic\", \"title\": \"Topic\", \"type\": \"string\"}, \"Reasoning\": {\"description\": \"Reasoning behind topic selection\", \"title\": \"Reasoning\", \"type\": \"string\"}}, \"required\": [\"Topic\", \"Reasoning\"]}\\n```'"
      ]
     },
     "execution_count": 4,
     "metadata": {},
     "output_type": "execute_result"
    }
   ],
   "source": [
    "class TopicSelectionParser(BaseModel):\n",
    "    Topic:str=Field(description=\"selected topic\")\n",
    "    Reasoning:str=Field(description='Reasoning behind topic selection')\n",
    "\n",
    "parser = PydanticOutputParser(pydantic_object=TopicSelectionParser)\n",
    "parser.get_format_instructions()"
   ]
  },
  {
   "cell_type": "code",
   "execution_count": 5,
   "metadata": {},
   "outputs": [],
   "source": [
    "# Custom state\n",
    "class AgentState(TypedDict):\n",
    "    messages: Annotated[Sequence[BaseMessage], operator.add]"
   ]
  },
  {
   "cell_type": "markdown",
   "metadata": {},
   "source": [
    "### creating supervisor and router function"
   ]
  },
  {
   "cell_type": "code",
   "execution_count": 25,
   "metadata": {},
   "outputs": [],
   "source": [
    "#Node 1\n",
    "def supervisor_function(state: AgentState):\n",
    "    print(\"-> SUPERVISOR ->\")\n",
    "    question = state[\"messages\"][-1]\n",
    "\n",
    "    template=\"\"\"\n",
    "    Your task is to classify the given user query into one of the following related categories: [Constitution,LLM, Latest]. If question is about \n",
    "    Indian constitution then Constitution, if question is generic then LLM and if question is about some recent thing which you don't know then Latest.\n",
    "    Only respond with the category name and nothing else.\n",
    "\n",
    "    User query: {question}\n",
    "    {format_instructions}\n",
    "    \"\"\"\n",
    "\n",
    "    prompt = PromptTemplate(\n",
    "        template=template,\n",
    "        input_variables=[\"question\"],\n",
    "        partial_variables={\"format_instructions\": parser.get_format_instructions()}\n",
    "    )\n",
    "\n",
    "    chain = prompt | llm | parser\n",
    "    result = chain.invoke({\"question\":question})\n",
    "    return {\"messages\": [result.Topic]}\n",
    "\n",
    "#Router function\n",
    "def router(state:AgentState):\n",
    "    print(\"-> ROUTER ->\")\n",
    "    last_message = state[\"messages\"][-1]\n",
    "\n",
    "    if \"constitution\" in last_message.lower():\n",
    "        return \"RAG CALL\"\n",
    "    elif \"latest\" in last_message.lower():\n",
    "        return \"WEB CALL\"\n",
    "    else:\n",
    "        return \"LLM CALL\"\n",
    "    "
   ]
  },
  {
   "cell_type": "code",
   "execution_count": 11,
   "metadata": {},
   "outputs": [],
   "source": [
    "file_path = \"20240716890312078.pdf\"\n",
    "loader = PyMuPDFLoader(file_path=file_path)\n",
    "docs = loader.load()\n",
    "\n",
    "text_splitter = RecursiveCharacterTextSplitter(chunk_size=1000, chunk_overlap=200)\n",
    "chunks = text_splitter.split_documents(docs)\n",
    "\n",
    "vector_store = FAISS.from_documents(chunks,embeddings)\n",
    "retriever = vector_store.as_retriever()"
   ]
  },
  {
   "cell_type": "markdown",
   "metadata": {},
   "source": [
    "### creating rag, llm and web search function"
   ]
  },
  {
   "cell_type": "code",
   "execution_count": 35,
   "metadata": {},
   "outputs": [],
   "source": [
    "def format_docs(docs):\n",
    "    return \"\\n\\n\".join(doc.page_content for doc in docs)\n",
    "\n",
    "#Rag Node\n",
    "def rag_function(state:AgentState):\n",
    "    print(\"-> RAG Call ->\")\n",
    "    question = state[\"messages\"][0]\n",
    "    prompt=PromptTemplate(\n",
    "        template=\"\"\"You are an assistant for question-answering tasks. Use the following pieces \n",
    "        of retrieved context to answer the question. If you don't know the answer, \n",
    "        just say that you don't know. Use three sentences maximum and keep the\n",
    "        answer concise.\\nQuestion: {question} \\nContext: {context} \\nAnswer:\"\"\",\n",
    "        \n",
    "        input_variables=['context', 'question']\n",
    "    )\n",
    "\n",
    "    rag_chain = (\n",
    "        {\"context\": retriever | format_docs, \"question\": RunnablePassthrough()}\n",
    "        | prompt \n",
    "        | llm\n",
    "    )\n",
    "\n",
    "    result = rag_chain.invoke(question)\n",
    "    return {\"messages\": [result]}\n",
    "\n",
    "\n",
    "# LLM Function\n",
    "def llm_function(state:AgentState):\n",
    "    print(\"-> LLM Call ->\")\n",
    "    question = state[\"messages\"][0]\n",
    "    \n",
    "    # Normal LLM call\n",
    "    complete_query = \"Answer the follow question with you knowledge of the real world. Following is the user question: \" + question\n",
    "    response = llm.invoke(complete_query)\n",
    "    return {\"messages\": [response.content]}\n",
    "\n",
    "\n",
    "#Web Search Node\n",
    "def search_web(state:AgentState):\n",
    "    search  = DuckDuckGoSearchRun()\n",
    "    result = search.invoke({\"query\": state[\"messages\"][0]})\n",
    "    return {\"messages\": [result]}\n"
   ]
  },
  {
   "cell_type": "markdown",
   "metadata": {},
   "source": [
    "### Creating validation function"
   ]
  },
  {
   "cell_type": "code",
   "execution_count": 39,
   "metadata": {},
   "outputs": [],
   "source": [
    "#Validator function\n",
    "def validation(state:AgentState):\n",
    "    \n",
    "    question = state[\"messages\"][0]\n",
    "    answer=state[\"messages\"][-1]\n",
    "    \n",
    "    print(\"answer\",answer)\n",
    "    \n",
    "    template=\"\"\"\n",
    "    Your task is to check if the response is related to the user question. \n",
    "    Only respond with yes or no and nothing else.\n",
    "\n",
    "    User query: {question}\n",
    "    response: {answer}\n",
    "    {format_instructions}\n",
    "    \"\"\"\n",
    "    \n",
    "    prompt= PromptTemplate(\n",
    "        template=template,\n",
    "        input_variable=[\"question\",\"answer\"],\n",
    "        partial_variables={\"format_instructions\": parser.get_format_instructions()}\n",
    "    )\n",
    "    \n",
    "    \n",
    "    chain= prompt | llm | parser\n",
    "    \n",
    "    response = chain.invoke({\"question\":question,\"answer\":answer})\n",
    "    \n",
    "    print(\"Parsed response:\", response)\n",
    "    \n",
    "    return {\"messages\": [response.Topic]}\n",
    "\n",
    "#validation router\n",
    "def router_1(state:AgentState):\n",
    "    print(\"-> ROUTER_1 ->\")\n",
    "    \n",
    "    last_message=state[\"messages\"][-1]\n",
    "    print(\"last_message:\", last_message)\n",
    "    \n",
    "    if \"yes\" in last_message.lower():\n",
    "        return \"yes\"\n",
    "    else:\n",
    "        return \"no\""
   ]
  },
  {
   "cell_type": "markdown",
   "metadata": {},
   "source": [
    "### Creating workflow"
   ]
  },
  {
   "cell_type": "code",
   "execution_count": 40,
   "metadata": {},
   "outputs": [],
   "source": [
    "workflow = StateGraph(AgentState)\n",
    "workflow.add_node(\"Supervisor\",supervisor_function)\n",
    "workflow.add_node(\"RAG\",rag_function)\n",
    "workflow.add_node(\"LLM\",llm_function)\n",
    "workflow.add_node(\"WEB SEARCH\",search_web)\n",
    "workflow.add_node(\"VALIDATION\",validation)\n",
    "workflow.set_entry_point(\"Supervisor\")\n",
    "workflow.add_conditional_edges(\n",
    "    \"Supervisor\",\n",
    "    router,\n",
    "    {\n",
    "        \"RAG CALL\": \"RAG\",\n",
    "        \"LLM CALL\": \"LLM\",\n",
    "        \"WEB CALL\": \"WEB SEARCH\"\n",
    "    }\n",
    ")\n",
    "\n",
    "workflow.add_edge(\"RAG\",\"VALIDATION\")\n",
    "workflow.add_edge(\"LLM\",\"VALIDATION\")\n",
    "workflow.add_edge(\"WEB SEARCH\",\"VALIDATION\")\n",
    "\n",
    "workflow.add_conditional_edges(\n",
    "    \"VALIDATION\",\n",
    "    router_1,\n",
    "    {\n",
    "        \"yes\":END,\n",
    "        \"no\":\"Supervisor\"\n",
    "    }\n",
    ")\n",
    "app=workflow.compile()"
   ]
  },
  {
   "cell_type": "code",
   "execution_count": 27,
   "metadata": {},
   "outputs": [
    {
     "data": {
      "image/png": "[encoded data removed]",
      "text/plain": [
       "<IPython.core.display.Image object>"
      ]
     },
     "metadata": {},
     "output_type": "display_data"
    }
   ],
   "source": [
    "from IPython.display import Image, display\n",
    "display(Image(app.get_graph(xray=True).draw_mermaid_png()))"
   ]
  },
  {
   "cell_type": "code",
   "execution_count": 41,
   "metadata": {},
   "outputs": [
    {
     "name": "stdout",
     "output_type": "stream",
     "text": [
      "-> SUPERVISOR ->\n",
      "-> ROUTER ->\n",
      "-> LLM Call ->\n",
      "answer How to Make Black Tea:\n",
      "\n",
      "1. **Boil Water:**  Heat fresh, cold water to a rolling boil.  The temperature is important; generally, water around 200-212°F (93-100°C) is best for black tea.\n",
      "\n",
      "2. **Warm the Teapot (Optional but Recommended):**  Pour a small amount of boiling water into your teapot and swirl it around to warm it. This helps maintain the tea's temperature and prevents it from cooling down too quickly. Empty the water.\n",
      "\n",
      "3. **Add Tea Leaves:** Add one teaspoon of loose leaf black tea or one tea bag per cup of water to the warmed teapot.  Adjust the amount to your taste; some prefer stronger tea.\n",
      "\n",
      "4. **Pour Water Over Tea Leaves:** Slowly pour the boiling water over the tea leaves, ensuring all the leaves are submerged.\n",
      "\n",
      "5. **Steep:** Let the tea steep for 3-5 minutes. Steeping time affects the strength and bitterness of the tea.  Experiment to find your preferred strength.  Longer steeping times generally result in a stronger, more bitter brew.\n",
      "\n",
      "6. **Remove Tea Leaves:** If using loose leaf tea, remove the leaves from the teapot using a strainer or tea infuser. If using tea bags, remove the tea bag.\n",
      "\n",
      "7. **Serve and Enjoy:** Pour the tea into your cup and enjoy! You can add milk, sugar, lemon, or honey to taste.\n",
      "Parsed response: Topic='yes' Reasoning=\"The response provides a step-by-step guide on how to make black tea, directly answering the user's question.\"\n",
      "-> ROUTER_1 ->\n",
      "last_message: yes\n"
     ]
    },
    {
     "data": {
      "text/plain": [
       "{'messages': ['How to make black tea?, list down in simple steps',\n",
       "  'LLM',\n",
       "  \"How to Make Black Tea:\\n\\n1. **Boil Water:**  Heat fresh, cold water to a rolling boil.  The temperature is important; generally, water around 200-212°F (93-100°C) is best for black tea.\\n\\n2. **Warm the Teapot (Optional but Recommended):**  Pour a small amount of boiling water into your teapot and swirl it around to warm it. This helps maintain the tea's temperature and prevents it from cooling down too quickly. Empty the water.\\n\\n3. **Add Tea Leaves:** Add one teaspoon of loose leaf black tea or one tea bag per cup of water to the warmed teapot.  Adjust the amount to your taste; some prefer stronger tea.\\n\\n4. **Pour Water Over Tea Leaves:** Slowly pour the boiling water over the tea leaves, ensuring all the leaves are submerged.\\n\\n5. **Steep:** Let the tea steep for 3-5 minutes. Steeping time affects the strength and bitterness of the tea.  Experiment to find your preferred strength.  Longer steeping times generally result in a stronger, more bitter brew.\\n\\n6. **Remove Tea Leaves:** If using loose leaf tea, remove the leaves from the teapot using a strainer or tea infuser. If using tea bags, remove the tea bag.\\n\\n7. **Serve and Enjoy:** Pour the tea into your cup and enjoy! You can add milk, sugar, lemon, or honey to taste.\",\n",
       "  'yes']}"
      ]
     },
     "execution_count": 41,
     "metadata": {},
     "output_type": "execute_result"
    }
   ],
   "source": [
    "state={\"messages\":[\"How to make black tea?, list down in simple steps\"]}\n",
    "app.invoke(state)"
   ]
  },
  {
   "cell_type": "code",
   "execution_count": 42,
   "metadata": {},
   "outputs": [
    {
     "name": "stdout",
     "output_type": "stream",
     "text": [
      "-> SUPERVISOR ->\n",
      "-> ROUTER ->\n",
      "-> RAG Call ->\n",
      "answer content=\"Fundamental duties of Indian citizens include abiding by the Constitution and respecting its ideals, cherishing national struggle ideals, and upholding India's sovereignty.  Other duties involve promoting harmony, preserving cultural heritage, protecting the environment, and developing scientific temper.  A complete list is detailed in Article 51A of the Constitution.\" additional_kwargs={} response_metadata={'prompt_feedback': {'block_reason': 0, 'safety_ratings': []}, 'finish_reason': 'STOP', 'model_name': 'gemini-1.5-flash', 'safety_ratings': []} id='run--4ba34328-1d40-437e-b2ab-94fc1222fa76-0' usage_metadata={'input_tokens': 898, 'output_tokens': 65, 'total_tokens': 963, 'input_token_details': {'cache_read': 0}}\n",
      "Parsed response: Topic='yes' Reasoning=\"The response directly addresses the user's request by providing information about fundamental duties, even referencing the relevant constitutional article.\"\n",
      "-> ROUTER_1 ->\n",
      "last_message: yes\n"
     ]
    },
    {
     "data": {
      "text/plain": [
       "{'messages': ['List all the fundamental duties?',\n",
       "  'Constitution',\n",
       "  AIMessage(content=\"Fundamental duties of Indian citizens include abiding by the Constitution and respecting its ideals, cherishing national struggle ideals, and upholding India's sovereignty.  Other duties involve promoting harmony, preserving cultural heritage, protecting the environment, and developing scientific temper.  A complete list is detailed in Article 51A of the Constitution.\", additional_kwargs={}, response_metadata={'prompt_feedback': {'block_reason': 0, 'safety_ratings': []}, 'finish_reason': 'STOP', 'model_name': 'gemini-1.5-flash', 'safety_ratings': []}, id='run--4ba34328-1d40-437e-b2ab-94fc1222fa76-0', usage_metadata={'input_tokens': 898, 'output_tokens': 65, 'total_tokens': 963, 'input_token_details': {'cache_read': 0}}),\n",
       "  'yes']}"
      ]
     },
     "execution_count": 42,
     "metadata": {},
     "output_type": "execute_result"
    }
   ],
   "source": [
    "state={\"messages\":[\"List all the fundamental duties?\"]}\n",
    "app.invoke(state)"
   ]
  },
  {
   "cell_type": "code",
   "execution_count": 44,
   "metadata": {},
   "outputs": [
    {
     "name": "stdout",
     "output_type": "stream",
     "text": [
      "-> SUPERVISOR ->\n",
      "-> ROUTER ->\n",
      "answer Elon Musk's net worth soared by $19 billion on Monday, making him the biggest gainer of the day after Tesla's long-awaited robotaxi launch in Austin, according to Bloomberg's Billionaire Index. Elon Musk Becomes $27 Billion Poorer As Trump Quarrel Eats Into Net Worth Elon Musk's net worth fell by the equivalent of almost five times Trump's $5.5 billion net worth Thursday. Elon Musk is a South African-born Canadian-American businessman, inventor, and investor who has a net worth of $368 billion. Elon Musk is currently the richest person in the world. In November ... Elon Musk holds the title of the world's richest person . He has a net worth of $365.3 billion as of April 2025, according to the latest Forbes data. Elon Musk claimed the top spot overall, making ... Each net worth figure is updated every business day after the close of trading in New York. Stakes in publicly traded companies are valued using the share's most recent closing price.\n",
      "Parsed response: Topic='yes' Reasoning=\"The response directly addresses the user's question by providing information about Elon Musk's net worth, including different estimations and updates over time.\"\n",
      "-> ROUTER_1 ->\n",
      "last_message: yes\n"
     ]
    },
    {
     "data": {
      "text/plain": [
       "{'messages': ['what is the net worth of Elon Musk',\n",
       "  'Latest',\n",
       "  \"Elon Musk's net worth soared by $19 billion on Monday, making him the biggest gainer of the day after Tesla's long-awaited robotaxi launch in Austin, according to Bloomberg's Billionaire Index. Elon Musk Becomes $27 Billion Poorer As Trump Quarrel Eats Into Net Worth Elon Musk's net worth fell by the equivalent of almost five times Trump's $5.5 billion net worth Thursday. Elon Musk is a South African-born Canadian-American businessman, inventor, and investor who has a net worth of $368 billion. Elon Musk is currently the richest person in the world. In November ... Elon Musk holds the title of the world's richest person . He has a net worth of $365.3 billion as of April 2025, according to the latest Forbes data. Elon Musk claimed the top spot overall, making ... Each net worth figure is updated every business day after the close of trading in New York. Stakes in publicly traded companies are valued using the share's most recent closing price.\",\n",
       "  'yes']}"
      ]
     },
     "execution_count": 44,
     "metadata": {},
     "output_type": "execute_result"
    }
   ],
   "source": [
    "state={\"messages\":[\"what is the net worth of Elon Musk\"]}\n",
    "app.invoke(state)"
   ]
  },
  {
   "cell_type": "code",
   "execution_count": null,
   "metadata": {},
   "outputs": [],
   "source": []
  }
 ],
 "metadata": {
  "kernelspec": {
   "display_name": ".venv",
   "language": "python",
   "name": "python3"
  },
  "language_info": {
   "codemirror_mode": {
    "name": "ipython",
    "version": 3
   },
   "file_extension": ".py",
   "mimetype": "text/x-python",
   "name": "python",
   "nbconvert_exporter": "python",
   "pygments_lexer": "ipython3",
   "version": "3.11.0"
  }
 },
 "nbformat": 4,
 "nbformat_minor": 2
}
