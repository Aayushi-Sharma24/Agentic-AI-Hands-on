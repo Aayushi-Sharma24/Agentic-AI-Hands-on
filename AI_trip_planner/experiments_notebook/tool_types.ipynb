{
 "cells": [
  {
   "cell_type": "markdown",
   "metadata": {},
   "source": [
    "### 3 ways to create tools"
   ]
  },
  {
   "cell_type": "code",
   "execution_count": null,
   "metadata": {
    "vscode": {
     "languageId": "plaintext"
    }
   },
   "outputs": [],
   "source": [
    "from langchain.tools import tool\n",
    "\n",
    "@tool\n",
    "def multiply(a: int, b: int) -> int:\n",
    "    \"\"\"\n",
    "    Multiply two integers.\n",
    "\n",
    "    Args:\n",
    "        a (int): The first integer.\n",
    "        b (int): The second integer.\n",
    "\n",
    "    Returns:\n",
    "        int: The product of a and b.\n",
    "    \"\"\"\n",
    "    return a * b"
   ]
  },
  {
   "cell_type": "code",
   "execution_count": null,
   "metadata": {
    "vscode": {
     "languageId": "plaintext"
    }
   },
   "outputs": [],
   "source": [
    "from langchain_core.tools import StructuredTool\n",
    "\n",
    "class WeatherInput(BaseModel):\n",
    "    city: str\n",
    "\n",
    "def get_weather(city: str) -> str:\n",
    "    \"\"\"\n",
    "    Get the weather for a given city.\n",
    "\n",
    "    Args:\n",
    "        city (str): The name of the city.\n",
    "\n",
    "    Returns:\n",
    "        str: A string describing the weather in the city.\n",
    "    \"\"\"\n",
    "    return f\"The weather in {city} is sunny.\"\n",
    "\n",
    "weather_tool = StructuredTool.from_function(\n",
    "    func=get_weather,\n",
    "    name=\"get_weather\",\n",
    "    description=\"Fetches real-time weather data for a city\",\n",
    "    args_schema=WeatherInput,  \n",
    ")"
   ]
  },
  {
   "cell_type": "code",
   "execution_count": null,
   "metadata": {
    "vscode": {
     "languageId": "plaintext"
    }
   },
   "outputs": [],
   "source": [
    "class WeatherInput(BaseModel):\n",
    "    city: str = Field(..., description=\"City name\")\n",
    "    units: str = Field(\"metric\", description=\"metric or imperial\")\n",
    "\n",
    "class GetWeatherTool(StructuredTool):\n",
    "    name: ClassVar[str] = \"get_weather\"           \n",
    "    description: ClassVar[str] = (\n",
    "        \"Fetches weather data for a city\"\n",
    "    )\n",
    "    args_schema: ClassVar[Type[BaseModel]] = WeatherInput\n",
    "\n",
    "    def _run(self, city: str, units: str = \"metric\") -> str:\n",
    "        return get_weather(city, units)"
   ]
  }
 ],
 "metadata": {
  "language_info": {
   "name": "python"
  }
 },
 "nbformat": 4,
 "nbformat_minor": 2
}
