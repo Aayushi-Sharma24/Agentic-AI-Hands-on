{
 "cells": [
  {
   "cell_type": "markdown",
   "id": "cd4535d2",
   "metadata": {},
   "source": [
    "# Bi-Encoder Re-ranker (Score Fusion)\n",
    "\n",
    "The embeddings of documents and query is done separately"
   ]
  },
  {
   "cell_type": "code",
   "execution_count": null,
   "id": "9f85ae5b",
   "metadata": {},
   "outputs": [
    {
     "name": "stderr",
     "output_type": "stream",
     "text": [
      "Xet Storage is enabled for this repo, but the 'hf_xet' package is not installed. Falling back to regular HTTP download. For better performance, install the package with: `pip install huggingface_hub[hf_xet]` or `pip install hf_xet`\n",
      "Batches: 100%|██████████| 1/1 [00:00<00:00,  2.70it/s]\n"
     ]
    },
    {
     "data": {
      "text/plain": [
       "384"
      ]
     },
     "execution_count": 5,
     "metadata": {},
     "output_type": "execute_result"
    }
   ],
   "source": [
    "from sentence_transformers import SentenceTransformer\n",
    "\n",
    "documents = [\n",
    "    \"This is a list which containing sample documents.\",\n",
    "    \"Keywords are important for keyword-based search.\",\n",
    "    \"Document analysis involves extracting keywords.\",\n",
    "    \"Keyword-based search relies on sparse embeddings.\",\n",
    "    \"Understanding document structure aids in keyword extraction.\",\n",
    "    \"Efficient keyword extraction enhances search accuracy.\",\n",
    "    \"Semantic similarity improves document retrieval performance.\",\n",
    "    \"Machine learning algorithms can optimize keyword extraction methods.\"\n",
    "]\n",
    "\n",
    "model = SentenceTransformer('sentence-transformers/all-MiniLM-L6-v2')\n",
    "\n",
    "# Encoding documents\n",
    "document_embeddings = model.encode(documents, show_progress_bar=True)\n",
    "len(document_embeddings[0])"
   ]
  },
  {
   "cell_type": "code",
   "execution_count": null,
   "id": "97c9b9b6",
   "metadata": {},
   "outputs": [
    {
     "data": {
      "text/plain": [
       "384"
      ]
     },
     "execution_count": 6,
     "metadata": {},
     "output_type": "execute_result"
    }
   ],
   "source": [
    "# Encoding the query\n",
    "query = \"Natural language processing techniques enhance keyword extraction efficiency.\"\n",
    "query_embedding = model.encode(query)\n",
    "len(query_embedding)"
   ]
  },
  {
   "cell_type": "code",
   "execution_count": null,
   "id": "0d18b7b1",
   "metadata": {},
   "outputs": [
    {
     "data": {
      "text/plain": [
       "array([[0.2058035 , 0.56699526, 0.6105436 , 0.5538638 , 0.7148342 ,\n",
       "        0.81133276, 0.3977112 , 0.7649621 ]], dtype=float32)"
      ]
     },
     "execution_count": 7,
     "metadata": {},
     "output_type": "execute_result"
    }
   ],
   "source": [
    "import numpy as np\n",
    "from sklearn.metrics.pairwise import cosine_similarity\n",
    "\n",
    "# Calculating cosine similarity between the query and document embeddings\n",
    "similarities = cosine_similarity(np.array([query_embedding]), document_embeddings)\n",
    "similarities"
   ]
  },
  {
   "cell_type": "code",
   "execution_count": 8,
   "id": "b831e962",
   "metadata": {},
   "outputs": [
    {
     "data": {
      "text/plain": [
       "np.int64(5)"
      ]
     },
     "execution_count": 8,
     "metadata": {},
     "output_type": "execute_result"
    }
   ],
   "source": [
    "most_similar_index = np.argmax(similarities)\n",
    "most_similar_index"
   ]
  },
  {
   "cell_type": "code",
   "execution_count": 9,
   "id": "d400d06f",
   "metadata": {},
   "outputs": [
    {
     "data": {
      "text/plain": [
       "'Efficient keyword extraction enhances search accuracy.'"
      ]
     },
     "execution_count": 9,
     "metadata": {},
     "output_type": "execute_result"
    }
   ],
   "source": [
    "most_similar_document = documents[most_similar_index]\n",
    "most_similar_document"
   ]
  },
  {
   "cell_type": "code",
   "execution_count": 10,
   "id": "1fb73ace",
   "metadata": {},
   "outputs": [
    {
     "data": {
      "text/plain": [
       "np.float32(0.81133276)"
      ]
     },
     "execution_count": 10,
     "metadata": {},
     "output_type": "execute_result"
    }
   ],
   "source": [
    "similarity_score = similarities[0][most_similar_index]\n",
    "similarity_score"
   ]
  },
  {
   "cell_type": "code",
   "execution_count": 11,
   "id": "d0feed6b",
   "metadata": {},
   "outputs": [
    {
     "data": {
      "text/plain": [
       "array([5, 7, 4, 2, 1, 3, 6, 0])"
      ]
     },
     "execution_count": 11,
     "metadata": {},
     "output_type": "execute_result"
    }
   ],
   "source": [
    "sorted_indices = np.argsort(similarities[0])[::-1]\n",
    "sorted_indices"
   ]
  },
  {
   "cell_type": "code",
   "execution_count": 12,
   "id": "170d0084",
   "metadata": {},
   "outputs": [
    {
     "data": {
      "text/plain": [
       "[('Efficient keyword extraction enhances search accuracy.',\n",
       "  np.float32(0.81133276)),\n",
       " ('Machine learning algorithms can optimize keyword extraction methods.',\n",
       "  np.float32(0.7649621)),\n",
       " ('Understanding document structure aids in keyword extraction.',\n",
       "  np.float32(0.7148342)),\n",
       " ('Document analysis involves extracting keywords.', np.float32(0.6105436)),\n",
       " ('Keywords are important for keyword-based search.', np.float32(0.56699526)),\n",
       " ('Keyword-based search relies on sparse embeddings.', np.float32(0.5538638)),\n",
       " ('Semantic similarity improves document retrieval performance.',\n",
       "  np.float32(0.3977112)),\n",
       " ('This is a list which containing sample documents.', np.float32(0.2058035))]"
      ]
     },
     "execution_count": 12,
     "metadata": {},
     "output_type": "execute_result"
    }
   ],
   "source": [
    "ranked_documents = [(documents[i], similarities[0][i]) for i in sorted_indices]\n",
    "ranked_documents"
   ]
  },
  {
   "cell_type": "code",
   "execution_count": 13,
   "metadata": {},
   "outputs": [
    {
     "name": "stdout",
     "output_type": "stream",
     "text": [
      "Ranked Documents:\n",
      "Rank 1: Document - 'Efficient keyword extraction enhances search accuracy.', Similarity Score - 0.8113327622413635\n",
      "Rank 2: Document - 'Machine learning algorithms can optimize keyword extraction methods.', Similarity Score - 0.7649620771408081\n",
      "Rank 3: Document - 'Understanding document structure aids in keyword extraction.', Similarity Score - 0.7148342132568359\n",
      "Rank 4: Document - 'Document analysis involves extracting keywords.', Similarity Score - 0.6105436086654663\n",
      "Rank 5: Document - 'Keywords are important for keyword-based search.', Similarity Score - 0.5669952630996704\n",
      "Rank 6: Document - 'Keyword-based search relies on sparse embeddings.', Similarity Score - 0.5538638234138489\n",
      "Rank 7: Document - 'Semantic similarity improves document retrieval performance.', Similarity Score - 0.3977111876010895\n",
      "Rank 8: Document - 'This is a list which containing sample documents.', Similarity Score - 0.2058034986257553\n"
     ]
    }
   ],
   "source": [
    "print(\"Ranked Documents:\")\n",
    "for rank, (document, similarity) in enumerate(ranked_documents, start=1):\n",
    "    print(f\"Rank {rank}: Document - '{document}', Similarity Score - {similarity}\")\n",
    "    "
   ]
  },
  {
   "cell_type": "code",
   "execution_count": 14,
   "id": "b6f33b28",
   "metadata": {},
   "outputs": [
    {
     "name": "stdout",
     "output_type": "stream",
     "text": [
      "Top 4 Documents:\n",
      "Rank 1: Document - 'Efficient keyword extraction enhances search accuracy.', Similarity Score - 0.8113327622413635\n",
      "Rank 2: Document - 'Machine learning algorithms can optimize keyword extraction methods.', Similarity Score - 0.7649620771408081\n",
      "Rank 3: Document - 'Understanding document structure aids in keyword extraction.', Similarity Score - 0.7148342132568359\n",
      "Rank 4: Document - 'Document analysis involves extracting keywords.', Similarity Score - 0.6105436086654663\n"
     ]
    }
   ],
   "source": [
    "print(\"Top 4 Documents:\")\n",
    "for rank, (document, similarity) in enumerate(ranked_documents[:4], start=1):\n",
    "    print(f\"Rank {rank}: Document - '{document}', Similarity Score - {similarity}\")"
   ]
  },
  {
   "cell_type": "code",
   "execution_count": null,
   "id": "fc4fc1f8",
   "metadata": {},
   "outputs": [
    {
     "name": "stdout",
     "output_type": "stream",
     "text": [
      "['Efficient keyword extraction enhances search accuracy.', 'Machine learning algorithms can optimize keyword extraction methods.', 'Understanding document structure aids in keyword extraction.', 'Document analysis involves extracting keywords.']\n"
     ]
    },
    {
     "data": {
      "text/plain": [
       "[['Efficient', 'keyword', 'extraction', 'enhances', 'search', 'accuracy.'],\n",
       " ['Machine',\n",
       "  'learning',\n",
       "  'algorithms',\n",
       "  'can',\n",
       "  'optimize',\n",
       "  'keyword',\n",
       "  'extraction',\n",
       "  'methods.'],\n",
       " ['Understanding',\n",
       "  'document',\n",
       "  'structure',\n",
       "  'aids',\n",
       "  'in',\n",
       "  'keyword',\n",
       "  'extraction.'],\n",
       " ['Document', 'analysis', 'involves', 'extracting', 'keywords.']]"
      ]
     },
     "execution_count": 16,
     "metadata": {},
     "output_type": "execute_result"
    }
   ],
   "source": [
    "from rank_bm25 import BM25Okapi\n",
    "\n",
    "top_4_documents = [doc[0] for doc in ranked_documents[:4]]\n",
    "print(top_4_documents)\n",
    "# Tokenizing the top 4 documents\n",
    "tokenized_top_4_documents = [doc.split() for doc in top_4_documents]\n",
    "tokenized_top_4_documents"
   ]
  },
  {
   "cell_type": "code",
   "execution_count": null,
   "id": "7a278224",
   "metadata": {},
   "outputs": [
    {
     "data": {
      "text/plain": [
       "['Natural',\n",
       " 'language',\n",
       " 'processing',\n",
       " 'techniques',\n",
       " 'enhance',\n",
       " 'keyword',\n",
       " 'extraction',\n",
       " 'efficiency.']"
      ]
     },
     "execution_count": 17,
     "metadata": {},
     "output_type": "execute_result"
    }
   ],
   "source": [
    "# Tokenizing the query\n",
    "tokenized_query = query.split()\n",
    "tokenized_query"
   ]
  },
  {
   "cell_type": "code",
   "execution_count": null,
   "id": "3925952d",
   "metadata": {},
   "outputs": [
    {
     "data": {
      "text/plain": [
       "array([0.1907998 , 0.16686672, 0.17803252, 0.        ])"
      ]
     },
     "execution_count": 19,
     "metadata": {},
     "output_type": "execute_result"
    }
   ],
   "source": [
    "# Using BM25 for re-ranking\n",
    "bm25=BM25Okapi(tokenized_top_4_documents)\n",
    "bm25_scores = bm25.get_scores(tokenized_query)\n",
    "bm25_scores"
   ]
  },
  {
   "cell_type": "code",
   "execution_count": 20,
   "id": "aee74901",
   "metadata": {},
   "outputs": [
    {
     "data": {
      "text/plain": [
       "array([0, 2, 1, 3])"
      ]
     },
     "execution_count": 20,
     "metadata": {},
     "output_type": "execute_result"
    }
   ],
   "source": [
    "sorted_indices2 = np.argsort(bm25_scores)[::-1]\n",
    "sorted_indices2"
   ]
  },
  {
   "cell_type": "code",
   "execution_count": 21,
   "id": "40e07dc3",
   "metadata": {},
   "outputs": [
    {
     "data": {
      "text/plain": [
       "[('Efficient keyword extraction enhances search accuracy.',\n",
       "  np.float64(0.19079979534096053)),\n",
       " ('Understanding document structure aids in keyword extraction.',\n",
       "  np.float64(0.1780325227902643)),\n",
       " ('Machine learning algorithms can optimize keyword extraction methods.',\n",
       "  np.float64(0.1668667199671815)),\n",
       " ('Document analysis involves extracting keywords.', np.float64(0.0))]"
      ]
     },
     "execution_count": 21,
     "metadata": {},
     "output_type": "execute_result"
    }
   ],
   "source": [
    "reranked_documents = [(top_4_documents[i], bm25_scores[i]) for i in sorted_indices2]\n",
    "reranked_documents"
   ]
  },
  {
   "cell_type": "code",
   "execution_count": null,
   "id": "8ef4b5be",
   "metadata": {},
   "outputs": [
    {
     "name": "stdout",
     "output_type": "stream",
     "text": [
      "Rerank of top 4 Documents:\n",
      "Rank 1: Document - 'Efficient keyword extraction enhances search accuracy.', Similarity Score - 0.19079979534096053\n",
      "Rank 2: Document - 'Understanding document structure aids in keyword extraction.', Similarity Score - 0.1780325227902643\n",
      "Rank 3: Document - 'Machine learning algorithms can optimize keyword extraction methods.', Similarity Score - 0.1668667199671815\n",
      "Rank 4: Document - 'Document analysis involves extracting keywords.', Similarity Score - 0.0\n"
     ]
    }
   ],
   "source": [
    "# Rerank of top 4 Documents using BM25 scores\n",
    "print(\"Rerank of top 4 Documents:\")\n",
    "for rank, (document, similarity) in enumerate(reranked_documents, start=1):\n",
    "    print(f\"Rank {rank}: Document - '{document}', Similarity Score - {similarity}\")"
   ]
  },
  {
   "cell_type": "code",
   "execution_count": null,
   "id": "c32e43da",
   "metadata": {},
   "outputs": [
    {
     "data": {
      "text/plain": [
       "[('Efficient keyword extraction enhances search accuracy.',\n",
       "  np.float32(0.81133276)),\n",
       " ('Machine learning algorithms can optimize keyword extraction methods.',\n",
       "  np.float32(0.7649621)),\n",
       " ('Understanding document structure aids in keyword extraction.',\n",
       "  np.float32(0.7148342)),\n",
       " ('Document analysis involves extracting keywords.', np.float32(0.6105436))]"
      ]
     },
     "execution_count": 23,
     "metadata": {},
     "output_type": "execute_result"
    }
   ],
   "source": [
    "# Displaying the top 4 reranked documents\n",
    "ranked_documents[:4]\n"
   ]
  },
  {
   "cell_type": "markdown",
   "id": "c697d10b",
   "metadata": {},
   "source": [
    "# Cross Encoder\n",
    "\n",
    "The document and query embeddings are created together by the model"
   ]
  },
  {
   "cell_type": "code",
   "execution_count": 28,
   "id": "611fd228",
   "metadata": {},
   "outputs": [
    {
     "name": "stderr",
     "output_type": "stream",
     "text": [
      "c:\\Users\\aayus\\anaconda3\\envs\\.venv\\Lib\\site-packages\\huggingface_hub\\file_download.py:143: UserWarning: `huggingface_hub` cache-system uses symlinks by default to efficiently store duplicated files but your machine does not support them in C:\\Users\\aayus\\.cache\\huggingface\\hub\\models--cross-encoder--ms-marco-MiniLM-L-6-v2. Caching files will still work but in a degraded version that might require more space on your disk. This warning can be disabled by setting the `HF_HUB_DISABLE_SYMLINKS_WARNING` environment variable. For more details, see https://huggingface.co/docs/huggingface_hub/how-to-cache#limitations.\n",
      "To support symlinks on Windows, you either need to activate Developer Mode or to run Python as an administrator. In order to activate developer mode, see this article: https://docs.microsoft.com/en-us/windows/apps/get-started/enable-your-device-for-development\n",
      "  warnings.warn(message)\n",
      "Xet Storage is enabled for this repo, but the 'hf_xet' package is not installed. Falling back to regular HTTP download. For better performance, install the package with: `pip install huggingface_hub[hf_xet]` or `pip install hf_xet`\n"
     ]
    }
   ],
   "source": [
    "from sentence_transformers import CrossEncoder\n",
    "\n",
    "cross_encoder = CrossEncoder('cross-encoder/ms-marco-MiniLM-L-6-v2')"
   ]
  },
  {
   "cell_type": "code",
   "execution_count": 24,
   "id": "f76b7e7a",
   "metadata": {},
   "outputs": [
    {
     "name": "stdout",
     "output_type": "stream",
     "text": [
      "['Efficient keyword extraction enhances search accuracy.', 'Machine learning algorithms can optimize keyword extraction methods.', 'Understanding document structure aids in keyword extraction.', 'Document analysis involves extracting keywords.']\n",
      "Natural language processing techniques enhance keyword extraction efficiency.\n"
     ]
    }
   ],
   "source": [
    "print(top_4_documents)\n",
    "print(query)"
   ]
  },
  {
   "cell_type": "code",
   "execution_count": null,
   "id": "438322cf",
   "metadata": {},
   "outputs": [
    {
     "data": {
      "text/plain": [
       "[['Natural language processing techniques enhance keyword extraction efficiency.',\n",
       "  'Efficient keyword extraction enhances search accuracy.'],\n",
       " ['Natural language processing techniques enhance keyword extraction efficiency.',\n",
       "  'Machine learning algorithms can optimize keyword extraction methods.'],\n",
       " ['Natural language processing techniques enhance keyword extraction efficiency.',\n",
       "  'Understanding document structure aids in keyword extraction.'],\n",
       " ['Natural language processing techniques enhance keyword extraction efficiency.',\n",
       "  'Document analysis involves extracting keywords.']]"
      ]
     },
     "execution_count": 26,
     "metadata": {},
     "output_type": "execute_result"
    }
   ],
   "source": [
    "# Creating pairs of query and top 4 documents for cross-encoder\n",
    "pairs = []\n",
    "for doc in top_4_documents:\n",
    "    pairs.append([query, doc])\n",
    "\n",
    "pairs"
   ]
  },
  {
   "cell_type": "code",
   "execution_count": null,
   "id": "3851c285",
   "metadata": {},
   "outputs": [
    {
     "data": {
      "text/plain": [
       "array([ 3.1378732,  0.8421646, -2.9193015, -2.8781915], dtype=float32)"
      ]
     },
     "execution_count": 29,
     "metadata": {},
     "output_type": "execute_result"
    }
   ],
   "source": [
    "# Predicting scores using the cross-encoder\n",
    "scores = cross_encoder.predict(pairs)\n",
    "scores"
   ]
  },
  {
   "cell_type": "code",
   "execution_count": null,
   "id": "8ab0efe4",
   "metadata": {},
   "outputs": [
    {
     "data": {
      "text/plain": [
       "[(np.float32(3.1378732),\n",
       "  'Efficient keyword extraction enhances search accuracy.'),\n",
       " (np.float32(0.8421646),\n",
       "  'Machine learning algorithms can optimize keyword extraction methods.'),\n",
       " (np.float32(-2.8781915), 'Document analysis involves extracting keywords.'),\n",
       " (np.float32(-2.9193015),\n",
       "  'Understanding document structure aids in keyword extraction.')]"
      ]
     },
     "execution_count": 31,
     "metadata": {},
     "output_type": "execute_result"
    }
   ],
   "source": [
    "scored_docs = zip(scores, top_4_documents)\n",
    "\n",
    "# Reranking the documents based on cross-encoder scores\n",
    "reranked_document_cross_encoder = sorted(scored_docs, reverse=True)\n",
    "reranked_document_cross_encoder"
   ]
  },
  {
   "cell_type": "markdown",
   "id": "3eb65512",
   "metadata": {},
   "source": [
    "# Cohere Reranking"
   ]
  },
  {
   "cell_type": "code",
   "execution_count": 33,
   "id": "2d6f9822",
   "metadata": {},
   "outputs": [],
   "source": [
    "import cohere\n",
    "\n",
    "co = cohere.Client(\"nbDqU1hTVxWmXGbLYI6OnYhp4Cx40MZ5hOmO5oKX\")\n",
    "\n",
    "response = co.rerank(\n",
    "    model=\"rerank-english-v3.0\",\n",
    "    query=\"Natural language processing techniques enhance keyword extraction efficiency.\",\n",
    "    documents=top_4_documents,\n",
    "    return_documents=True\n",
    ")"
   ]
  },
  {
   "cell_type": "code",
   "execution_count": 34,
   "id": "18d81c97",
   "metadata": {},
   "outputs": [
    {
     "name": "stdout",
     "output_type": "stream",
     "text": [
      "Efficient keyword extraction enhances search accuracy.\n",
      "0.99411184\n"
     ]
    }
   ],
   "source": [
    "print(response.results[0].document.text)\n",
    "print(response.results[0].relevance_score)"
   ]
  },
  {
   "cell_type": "code",
   "execution_count": 35,
   "id": "351e3ef5",
   "metadata": {},
   "outputs": [
    {
     "name": "stdout",
     "output_type": "stream",
     "text": [
      "text: Efficient keyword extraction enhances search accuracy. score: 0.99411184\n",
      "text: Machine learning algorithms can optimize keyword extraction methods. score: 0.9129032\n",
      "text: Understanding document structure aids in keyword extraction. score: 0.32885265\n",
      "text: Document analysis involves extracting keywords. score: 0.02865267\n"
     ]
    }
   ],
   "source": [
    "for i in range(4):\n",
    "  print(f'text: {response.results[i].document.text} score: {response.results[i].relevance_score}')"
   ]
  },
  {
   "cell_type": "code",
   "execution_count": null,
   "id": "8bd9401f",
   "metadata": {},
   "outputs": [],
   "source": []
  },
  {
   "cell_type": "code",
   "execution_count": null,
   "id": "0101e0f0",
   "metadata": {},
   "outputs": [],
   "source": []
  },
  {
   "cell_type": "code",
   "execution_count": null,
   "id": "f9bc3440",
   "metadata": {},
   "outputs": [],
   "source": []
  },
  {
   "cell_type": "code",
   "execution_count": null,
   "id": "c90918df",
   "metadata": {},
   "outputs": [],
   "source": []
  },
  {
   "cell_type": "code",
   "execution_count": null,
   "id": "e76f5637",
   "metadata": {},
   "outputs": [],
   "source": []
  }
 ],
 "metadata": {
  "kernelspec": {
   "display_name": ".venv",
   "language": "python",
   "name": "python3"
  },
  "language_info": {
   "codemirror_mode": {
    "name": "ipython",
    "version": 3
   },
   "file_extension": ".py",
   "mimetype": "text/x-python",
   "name": "python",
   "nbconvert_exporter": "python",
   "pygments_lexer": "ipython3",
   "version": "3.12.11"
  }
 },
 "nbformat": 4,
 "nbformat_minor": 5
}
