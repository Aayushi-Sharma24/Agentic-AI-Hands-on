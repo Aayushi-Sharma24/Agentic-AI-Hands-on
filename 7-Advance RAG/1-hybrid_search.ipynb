{
 "cells": [
  {
   "cell_type": "markdown",
   "id": "3819b313",
   "metadata": {},
   "source": [
    "# Hybrid search / Ensemble Retreiver\n",
    "\n",
    "## understanding how TFIDF works with sparse embeddings"
   ]
  },
  {
   "cell_type": "code",
   "execution_count": null,
   "id": "87d1cce1",
   "metadata": {},
   "outputs": [],
   "source": [
    "from sklearn.feature_extraction.text import TfidfVectorizer\n",
    "from sklearn.metrics.pairwise import cosine_similarity\n",
    "import numpy as np\n",
    "\n",
    "# Sample documents\n",
    "documents = [\n",
    "    \"This is a list which containig sample documents.\",\n",
    "    \"Keywords are important for keyword-based search.\",\n",
    "    \n",
    "    \"Document analysis involves extracting keywords.\",\n",
    "    \"Keyword-based search relies on sparse embeddings.\"\n",
    "]\n",
    "\n",
    "query=\"keyword-based search\""
   ]
  },
  {
   "cell_type": "code",
   "execution_count": 3,
   "id": "971bff8d",
   "metadata": {},
   "outputs": [],
   "source": [
    "import re\n",
    "def preprocess_text(text):\n",
    "    # Convert text to lowercase\n",
    "    text = text.lower()\n",
    "    # Remove punctuation\n",
    "    text = re.sub(r'[^\\w\\s]', '', text)\n",
    "    return text\n"
   ]
  },
  {
   "cell_type": "code",
   "execution_count": null,
   "id": "e23e40de",
   "metadata": {},
   "outputs": [
    {
     "data": {
      "text/plain": [
       "['this is a list which containig sample documents',\n",
       " 'keywords are important for keywordbased search',\n",
       " 'document analysis involves extracting keywords',\n",
       " 'keywordbased search relies on sparse embeddings']"
      ]
     },
     "execution_count": 4,
     "metadata": {},
     "output_type": "execute_result"
    }
   ],
   "source": [
    "# Preprocess documents\n",
    "preprocess_documents=[preprocess_text(doc) for doc in documents]\n",
    "preprocess_documents"
   ]
  },
  {
   "cell_type": "code",
   "execution_count": 5,
   "id": "cd7c1694",
   "metadata": {},
   "outputs": [
    {
     "name": "stdout",
     "output_type": "stream",
     "text": [
      "Preprocessed Documents:\n",
      "this is a list which containig sample documents\n",
      "keywords are important for keywordbased search\n",
      "document analysis involves extracting keywords\n",
      "keywordbased search relies on sparse embeddings\n"
     ]
    }
   ],
   "source": [
    "print(\"Preprocessed Documents:\")\n",
    "for doc in preprocess_documents:\n",
    "    print(doc)"
   ]
  },
  {
   "cell_type": "code",
   "execution_count": 6,
   "id": "66621235",
   "metadata": {},
   "outputs": [
    {
     "name": "stdout",
     "output_type": "stream",
     "text": [
      "Preprocessed Query:\n",
      "keyword-based search\n"
     ]
    }
   ],
   "source": [
    "print(\"Preprocessed Query:\")\n",
    "print(query)"
   ]
  },
  {
   "cell_type": "code",
   "execution_count": null,
   "id": "70f1315d",
   "metadata": {},
   "outputs": [
    {
     "data": {
      "text/plain": [
       "'keywordbased search'"
      ]
     },
     "execution_count": 7,
     "metadata": {},
     "output_type": "execute_result"
    }
   ],
   "source": [
    "# Preprocess query\n",
    "preprocessed_query = preprocess_text(query)\n",
    "preprocessed_query"
   ]
  },
  {
   "cell_type": "code",
   "execution_count": null,
   "id": "727bef27",
   "metadata": {},
   "outputs": [
    {
     "data": {
      "text/plain": [
       "array([[0.        , 0.        , 0.37796447, 0.        , 0.37796447,\n",
       "        0.        , 0.        , 0.        , 0.        , 0.        ,\n",
       "        0.37796447, 0.        , 0.        , 0.37796447, 0.        ,\n",
       "        0.        , 0.37796447, 0.        , 0.        , 0.37796447,\n",
       "        0.37796447],\n",
       "       [0.        , 0.4533864 , 0.        , 0.        , 0.        ,\n",
       "        0.        , 0.        , 0.4533864 , 0.4533864 , 0.        ,\n",
       "        0.        , 0.35745504, 0.35745504, 0.        , 0.        ,\n",
       "        0.        , 0.        , 0.35745504, 0.        , 0.        ,\n",
       "        0.        ],\n",
       "       [0.46516193, 0.        , 0.        , 0.46516193, 0.        ,\n",
       "        0.        , 0.46516193, 0.        , 0.        , 0.46516193,\n",
       "        0.        , 0.        , 0.36673901, 0.        , 0.        ,\n",
       "        0.        , 0.        , 0.        , 0.        , 0.        ,\n",
       "        0.        ],\n",
       "       [0.        , 0.        , 0.        , 0.        , 0.        ,\n",
       "        0.43671931, 0.        , 0.        , 0.        , 0.        ,\n",
       "        0.        , 0.34431452, 0.        , 0.        , 0.43671931,\n",
       "        0.43671931, 0.        , 0.34431452, 0.43671931, 0.        ,\n",
       "        0.        ]])"
      ]
     },
     "execution_count": 8,
     "metadata": {},
     "output_type": "execute_result"
    }
   ],
   "source": [
    "# Create TF-IDF vectorizer and transform documents\n",
    "vector=TfidfVectorizer()\n",
    "X=vector.fit_transform(preprocess_documents)\n",
    "X.toarray()"
   ]
  },
  {
   "cell_type": "code",
   "execution_count": null,
   "id": "38c8f345",
   "metadata": {},
   "outputs": [
    {
     "data": {
      "text/plain": [
       "array([0.        , 0.        , 0.37796447, 0.        , 0.37796447,\n",
       "       0.        , 0.        , 0.        , 0.        , 0.        ,\n",
       "       0.37796447, 0.        , 0.        , 0.37796447, 0.        ,\n",
       "       0.        , 0.37796447, 0.        , 0.        , 0.37796447,\n",
       "       0.37796447])"
      ]
     },
     "execution_count": 9,
     "metadata": {},
     "output_type": "execute_result"
    }
   ],
   "source": [
    "#first senetence\n",
    "X.toarray()[0]"
   ]
  },
  {
   "cell_type": "code",
   "execution_count": null,
   "id": "93d0d793",
   "metadata": {},
   "outputs": [
    {
     "data": {
      "text/plain": [
       "array([[0.        ],\n",
       "       [0.50551777],\n",
       "       [0.        ],\n",
       "       [0.48693426]])"
      ]
     },
     "execution_count": 10,
     "metadata": {},
     "output_type": "execute_result"
    }
   ],
   "source": [
    "# Transform the query\n",
    "query_embedding=vector.transform([preprocessed_query])\n",
    "query_embedding.toarray()\n",
    "\n",
    "# Calculate cosine similarity between query and document embeddings\n",
    "similarities = cosine_similarity(X, query_embedding)\n",
    "similarities"
   ]
  },
  {
   "cell_type": "code",
   "execution_count": null,
   "id": "5a124259",
   "metadata": {},
   "outputs": [
    {
     "data": {
      "text/plain": [
       "array([[0],\n",
       "       [2],\n",
       "       [3],\n",
       "       [1]])"
      ]
     },
     "execution_count": 11,
     "metadata": {},
     "output_type": "execute_result"
    }
   ],
   "source": [
    "# Get the indices of the documents sorted by similarity\n",
    "np.argsort(similarities,axis=0)"
   ]
  },
  {
   "cell_type": "code",
   "execution_count": null,
   "id": "f2215bb0",
   "metadata": {},
   "outputs": [
    {
     "name": "stdout",
     "output_type": "stream",
     "text": [
      "Ranked Indices: [1 3 2 0]\n",
      "Ranked Documents: ['Keywords are important for keyword-based search.', 'Keyword-based search relies on sparse embeddings.', 'Document analysis involves extracting keywords.', 'This is a list which containig sample documents.']\n"
     ]
    }
   ],
   "source": [
    "# Get the ranked indices and documents\n",
    "ranked_indices=np.argsort(similarities,axis=0)[::-1].flatten()\n",
    "print(f\"Ranked Indices: {ranked_indices}\")\n",
    "ranked_documents = [documents[i] for i in ranked_indices]\n",
    "print(f\"Ranked Documents: {ranked_documents}\")"
   ]
  },
  {
   "cell_type": "code",
   "execution_count": 13,
   "id": "850e1c0a",
   "metadata": {},
   "outputs": [
    {
     "name": "stdout",
     "output_type": "stream",
     "text": [
      "Rank 1: Keywords are important for keyword-based search.\n",
      "Rank 2: Keyword-based search relies on sparse embeddings.\n",
      "Rank 3: Document analysis involves extracting keywords.\n",
      "Rank 4: This is a list which containig sample documents.\n"
     ]
    }
   ],
   "source": [
    "# Output the ranked documents\n",
    "for i, doc in enumerate(ranked_documents):\n",
    "    print(f\"Rank {i+1}: {doc}\")"
   ]
  },
  {
   "cell_type": "markdown",
   "id": "c38a48b4",
   "metadata": {},
   "source": [
    "## Dense Vectors -mock which can be created using sentence transformers"
   ]
  },
  {
   "cell_type": "code",
   "execution_count": null,
   "id": "e6d8b81a",
   "metadata": {},
   "outputs": [],
   "source": [
    "documents = [\n",
    "    \"This is a list which containig sample documents.\",\n",
    "    \"Keywords are important for keyword-based search.\",\n",
    "    \"Document analysis involves extracting keywords.\",\n",
    "    \"Keyword-based search relies on sparse embeddings.\"\n",
    "]\n",
    "\n",
    "query=\"keyword-based search\""
   ]
  },
  {
   "cell_type": "code",
   "execution_count": 14,
   "id": "0840213e",
   "metadata": {},
   "outputs": [],
   "source": [
    "document_embeddings = np.array([\n",
    "    [0.634, 0.234, 0.867, 0.042, 0.249],\n",
    "    [0.123, 0.456, 0.789, 0.321, 0.654],\n",
    "    [0.987, 0.654, 0.321, 0.123, 0.456]\n",
    "])"
   ]
  },
  {
   "cell_type": "code",
   "execution_count": 15,
   "id": "645784c6",
   "metadata": {},
   "outputs": [],
   "source": [
    "# Sample search query (represented as a dense vector)\n",
    "query_embedding = np.array([[0.789, 0.321, 0.654, 0.987, 0.123]])"
   ]
  },
  {
   "cell_type": "code",
   "execution_count": 16,
   "id": "28d19b2e",
   "metadata": {},
   "outputs": [
    {
     "data": {
      "text/plain": [
       "array([[0.73558979],\n",
       "       [0.67357898],\n",
       "       [0.71517305]])"
      ]
     },
     "execution_count": 16,
     "metadata": {},
     "output_type": "execute_result"
    }
   ],
   "source": [
    "# Calculate cosine similarity between query and documents\n",
    "similarities = cosine_similarity(document_embeddings, query_embedding)\n",
    "similarities"
   ]
  },
  {
   "cell_type": "code",
   "execution_count": 17,
   "id": "edbf894a",
   "metadata": {},
   "outputs": [
    {
     "data": {
      "text/plain": [
       "array([0, 2, 1])"
      ]
     },
     "execution_count": 17,
     "metadata": {},
     "output_type": "execute_result"
    }
   ],
   "source": [
    "ranked_indices = np.argsort(similarities, axis=0)[::-1].flatten()\n",
    "ranked_indices"
   ]
  },
  {
   "cell_type": "code",
   "execution_count": 18,
   "id": "14ae9552",
   "metadata": {},
   "outputs": [
    {
     "name": "stdout",
     "output_type": "stream",
     "text": [
      "Rank 1: Document 1\n",
      "Rank 2: Document 3\n",
      "Rank 3: Document 2\n"
     ]
    }
   ],
   "source": [
    "# Output the ranked documents\n",
    "for i, idx in enumerate(ranked_indices):\n",
    "    print(f\"Rank {i+1}: Document {idx+1}\")"
   ]
  },
  {
   "cell_type": "markdown",
   "id": "b54f0e22",
   "metadata": {},
   "source": [
    "## Creating RAG"
   ]
  },
  {
   "cell_type": "code",
   "execution_count": 21,
   "id": "225a890e",
   "metadata": {},
   "outputs": [],
   "source": [
    "doc_path=\"RAG_paper.pdf\""
   ]
  },
  {
   "cell_type": "code",
   "execution_count": 23,
   "id": "973415ad",
   "metadata": {},
   "outputs": [],
   "source": [
    "import os\n",
    "from dotenv import load_dotenv\n",
    "\n",
    "load_dotenv()\n",
    "os.environ[\"OPENAI_API_KEY\"] = os.getenv(\"OPENAI_API_KEY\")"
   ]
  },
  {
   "cell_type": "code",
   "execution_count": null,
   "id": "7f89de98",
   "metadata": {},
   "outputs": [
    {
     "name": "stderr",
     "output_type": "stream",
     "text": [
      "Ignoring wrong pointing object 31 0 (offset 0)\n",
      "Ignoring wrong pointing object 32 0 (offset 0)\n",
      "Ignoring wrong pointing object 89 0 (offset 0)\n"
     ]
    },
    {
     "data": {
      "text/plain": [
       "[Document(metadata={'producer': 'macOS Version 10.15.7 (Build 19H15) Quartz PDFContext', 'creator': 'LaTeX with hyperref', 'creationdate': \"D:20210107190157Z00'00'\", 'moddate': \"D:20210107190157Z00'00'\", 'source': 'RAG_paper.pdf', 'total_pages': 16, 'page': 0, 'page_label': '1'}, page_content='Retrieval-Augmented Generation for\\nKnowledge-Intensive NLP Tasks\\nPatrick Lewis†‡ , Ethan Perez?,\\nAleksandra Piktus† , Fabio Petroni† , Vladimir Karpukhin† , Naman Goyal† , Heinrich Küttler† ,'),\n",
       " Document(metadata={'producer': 'macOS Version 10.15.7 (Build 19H15) Quartz PDFContext', 'creator': 'LaTeX with hyperref', 'creationdate': \"D:20210107190157Z00'00'\", 'moddate': \"D:20210107190157Z00'00'\", 'source': 'RAG_paper.pdf', 'total_pages': 16, 'page': 0, 'page_label': '1'}, page_content='Mike Lewis† , Wen-tau Yih† , Tim Rocktäschel†‡ , Sebastian Riedel†‡ , Douwe Kiela†\\n† Facebook AI Research;‡ University College London;?New York University;\\nplewis@fb.com\\nAbstract'),\n",
       " Document(metadata={'producer': 'macOS Version 10.15.7 (Build 19H15) Quartz PDFContext', 'creator': 'LaTeX with hyperref', 'creationdate': \"D:20210107190157Z00'00'\", 'moddate': \"D:20210107190157Z00'00'\", 'source': 'RAG_paper.pdf', 'total_pages': 16, 'page': 0, 'page_label': '1'}, page_content='plewis@fb.com\\nAbstract\\nLarge pre-trained language models have been shown to store factual knowledge\\nin their parameters, and achieve state-of-the-art results when ﬁne-tuned on down-'),\n",
       " Document(metadata={'producer': 'macOS Version 10.15.7 (Build 19H15) Quartz PDFContext', 'creator': 'LaTeX with hyperref', 'creationdate': \"D:20210107190157Z00'00'\", 'moddate': \"D:20210107190157Z00'00'\", 'source': 'RAG_paper.pdf', 'total_pages': 16, 'page': 0, 'page_label': '1'}, page_content='stream NLP tasks. However, their ability to access and precisely manipulate\\nknowledge is still limited, and hence on knowledge-intensive tasks, their perfor-'),\n",
       " Document(metadata={'producer': 'macOS Version 10.15.7 (Build 19H15) Quartz PDFContext', 'creator': 'LaTeX with hyperref', 'creationdate': \"D:20210107190157Z00'00'\", 'moddate': \"D:20210107190157Z00'00'\", 'source': 'RAG_paper.pdf', 'total_pages': 16, 'page': 0, 'page_label': '1'}, page_content='mance lags behind task-speciﬁc architectures. Additionally, providing provenance\\nfor their decisions and updating their world knowledge remain open research prob-'),\n",
       " Document(metadata={'producer': 'macOS Version 10.15.7 (Build 19H15) Quartz PDFContext', 'creator': 'LaTeX with hyperref', 'creationdate': \"D:20210107190157Z00'00'\", 'moddate': \"D:20210107190157Z00'00'\", 'source': 'RAG_paper.pdf', 'total_pages': 16, 'page': 0, 'page_label': '1'}, page_content='lems. Pre-trained models with a differentiable access mechanism to explicit non-\\nparametric memory can overcome this issue, but have so far been only investigated'),\n",
       " Document(metadata={'producer': 'macOS Version 10.15.7 (Build 19H15) Quartz PDFContext', 'creator': 'LaTeX with hyperref', 'creationdate': \"D:20210107190157Z00'00'\", 'moddate': \"D:20210107190157Z00'00'\", 'source': 'RAG_paper.pdf', 'total_pages': 16, 'page': 0, 'page_label': '1'}, page_content='for extractive downstream tasks. We explore a general-purpose ﬁne-tuning recipe\\nfor retrieval-augmented generation (RAG) — models which combine pre-trained'),\n",
       " Document(metadata={'producer': 'macOS Version 10.15.7 (Build 19H15) Quartz PDFContext', 'creator': 'LaTeX with hyperref', 'creationdate': \"D:20210107190157Z00'00'\", 'moddate': \"D:20210107190157Z00'00'\", 'source': 'RAG_paper.pdf', 'total_pages': 16, 'page': 0, 'page_label': '1'}, page_content='parametric and non-parametric memory for language generation. We introduce\\nRAG models where the parametric memory is a pre-trained seq2seq model and'),\n",
       " Document(metadata={'producer': 'macOS Version 10.15.7 (Build 19H15) Quartz PDFContext', 'creator': 'LaTeX with hyperref', 'creationdate': \"D:20210107190157Z00'00'\", 'moddate': \"D:20210107190157Z00'00'\", 'source': 'RAG_paper.pdf', 'total_pages': 16, 'page': 0, 'page_label': '1'}, page_content='the non-parametric memory is a dense vector index of Wikipedia, accessed with\\na pre-trained neural retriever. We compare two RAG formulations, one which'),\n",
       " Document(metadata={'producer': 'macOS Version 10.15.7 (Build 19H15) Quartz PDFContext', 'creator': 'LaTeX with hyperref', 'creationdate': \"D:20210107190157Z00'00'\", 'moddate': \"D:20210107190157Z00'00'\", 'source': 'RAG_paper.pdf', 'total_pages': 16, 'page': 0, 'page_label': '1'}, page_content='conditions on the same retrieved passages across the whole generated sequence,\\nand another which can use different passages per token. We ﬁne-tune and evaluate'),\n",
       " Document(metadata={'producer': 'macOS Version 10.15.7 (Build 19H15) Quartz PDFContext', 'creator': 'LaTeX with hyperref', 'creationdate': \"D:20210107190157Z00'00'\", 'moddate': \"D:20210107190157Z00'00'\", 'source': 'RAG_paper.pdf', 'total_pages': 16, 'page': 0, 'page_label': '1'}, page_content='our models on a wide range of knowledge-intensive NLP tasks and set the state of\\nthe art on three open domain QA tasks, outperforming parametric seq2seq models'),\n",
       " Document(metadata={'producer': 'macOS Version 10.15.7 (Build 19H15) Quartz PDFContext', 'creator': 'LaTeX with hyperref', 'creationdate': \"D:20210107190157Z00'00'\", 'moddate': \"D:20210107190157Z00'00'\", 'source': 'RAG_paper.pdf', 'total_pages': 16, 'page': 0, 'page_label': '1'}, page_content='and task-speciﬁc retrieve-and-extract architectures. For language generation tasks,\\nwe ﬁnd that RAG models generate more speciﬁc, diverse and factual language than'),\n",
       " Document(metadata={'producer': 'macOS Version 10.15.7 (Build 19H15) Quartz PDFContext', 'creator': 'LaTeX with hyperref', 'creationdate': \"D:20210107190157Z00'00'\", 'moddate': \"D:20210107190157Z00'00'\", 'source': 'RAG_paper.pdf', 'total_pages': 16, 'page': 0, 'page_label': '1'}, page_content='a state-of-the-art parametric-only seq2seq baseline.\\n1 Introduction\\nPre-trained neural language models have been shown to learn a substantial amount of in-depth knowl-'),\n",
       " Document(metadata={'producer': 'macOS Version 10.15.7 (Build 19H15) Quartz PDFContext', 'creator': 'LaTeX with hyperref', 'creationdate': \"D:20210107190157Z00'00'\", 'moddate': \"D:20210107190157Z00'00'\", 'source': 'RAG_paper.pdf', 'total_pages': 16, 'page': 0, 'page_label': '1'}, page_content='edge from data [47]. They can do so without any access to an external memory, as a parameterized\\nimplicit knowledge base [51, 52]. While this development is exciting, such models do have down-'),\n",
       " Document(metadata={'producer': 'macOS Version 10.15.7 (Build 19H15) Quartz PDFContext', 'creator': 'LaTeX with hyperref', 'creationdate': \"D:20210107190157Z00'00'\", 'moddate': \"D:20210107190157Z00'00'\", 'source': 'RAG_paper.pdf', 'total_pages': 16, 'page': 0, 'page_label': '1'}, page_content='sides: They cannot easily expand or revise their memory, can’t straightforwardly provide insight into\\ntheir predictions, and may produce “hallucinations” [38]. Hybrid models that combine parametric'),\n",
       " Document(metadata={'producer': 'macOS Version 10.15.7 (Build 19H15) Quartz PDFContext', 'creator': 'LaTeX with hyperref', 'creationdate': \"D:20210107190157Z00'00'\", 'moddate': \"D:20210107190157Z00'00'\", 'source': 'RAG_paper.pdf', 'total_pages': 16, 'page': 0, 'page_label': '1'}, page_content='memory with non-parametric (i.e., retrieval-based) memories [20, 26, 48] can address some of these\\nissues because knowledge can be directly revised and expanded, and accessed knowledge can be'),\n",
       " Document(metadata={'producer': 'macOS Version 10.15.7 (Build 19H15) Quartz PDFContext', 'creator': 'LaTeX with hyperref', 'creationdate': \"D:20210107190157Z00'00'\", 'moddate': \"D:20210107190157Z00'00'\", 'source': 'RAG_paper.pdf', 'total_pages': 16, 'page': 0, 'page_label': '1'}, page_content='inspected and interpreted. REALM [20] and ORQA [31], two recently introduced models that\\ncombine masked language models [8] with a differentiable retriever, have shown promising results,'),\n",
       " Document(metadata={'producer': 'macOS Version 10.15.7 (Build 19H15) Quartz PDFContext', 'creator': 'LaTeX with hyperref', 'creationdate': \"D:20210107190157Z00'00'\", 'moddate': \"D:20210107190157Z00'00'\", 'source': 'RAG_paper.pdf', 'total_pages': 16, 'page': 0, 'page_label': '1'}, page_content='34th Conference on Neural Information Processing Systems (NeurIPS 2020), Vancouver, Canada.'),\n",
       " Document(metadata={'producer': 'macOS Version 10.15.7 (Build 19H15) Quartz PDFContext', 'creator': 'LaTeX with hyperref', 'creationdate': \"D:20210107190157Z00'00'\", 'moddate': \"D:20210107190157Z00'00'\", 'source': 'RAG_paper.pdf', 'total_pages': 16, 'page': 1, 'page_label': '2'}, page_content='The\\x03DiYineComed\\\\\\x03(x) T\\nQXeU\\\\EQcRdeU\\nT([)\\nMIPS pθ\\nGeneUaWoU¬Sѡ(PaUaPeWULc)\\nMaUgin-ali]eThiV\\x0314Wh\\x03cenWXU\\\\\\x03ZoUkiV\\x03diYided\\x03inWo\\x033VecWionV:\\x03\"InfeUno\",\"PXUgaWoUio\"\\x03&\"PaUadiVo\"\\x03\\x03\\x03\\x03\\x03\\x03\\x03\\x03\\x03(y)'),\n",
       " Document(metadata={'producer': 'macOS Version 10.15.7 (Build 19H15) Quartz PDFContext', 'creator': 'LaTeX with hyperref', 'creationdate': \"D:20210107190157Z00'00'\", 'moddate': \"D:20210107190157Z00'00'\", 'source': 'RAG_paper.pdf', 'total_pages': 16, 'page': 1, 'page_label': '2'}, page_content='End-to-End Backprop through T and¬pθ\\nBaUack\\x03Obama\\x03ZaVboUn\\x03in\\x03HaZaii.(x)FacW VeUiÀcaWiRQ: FacW QXeU\\\\\\nVXppoUWV\\x03(y)\\nQXeVWiRQ GeQeUaWiRQ\\nFacW VeUiÀcaWiRQ:LabeO GeQeUaWiRQ\\nDRcXmeQWIQde['),\n",
       " Document(metadata={'producer': 'macOS Version 10.15.7 (Build 19H15) Quartz PDFContext', 'creator': 'LaTeX with hyperref', 'creationdate': \"D:20210107190157Z00'00'\", 'moddate': \"D:20210107190157Z00'00'\", 'source': 'RAG_paper.pdf', 'total_pages': 16, 'page': 1, 'page_label': '2'}, page_content='DRcXmeQWIQde[\\nDefine\\x03\"middle\\x03eaU\"(x)\\nQXeVWiRQ AQVZeUiQg:QXeVWiRQ QXeU\\\\'),\n",
       " Document(metadata={'producer': 'macOS Version 10.15.7 (Build 19H15) Quartz PDFContext', 'creator': 'LaTeX with hyperref', 'creationdate': \"D:20210107190157Z00'00'\", 'moddate': \"D:20210107190157Z00'00'\", 'source': 'RAG_paper.pdf', 'total_pages': 16, 'page': 1, 'page_label': '2'}, page_content='The\\x03middle\\x03eaU\\x03inclXdeVWhe\\x03W\\\\mpanic\\x03caYiW\\\\\\x03andWhe\\x03WhUee\\x03oVVicleV.\\x03\\x03(y)QXeVWiRQ AQVZeUiQg:AQVZeU GeQeUaWiRQReWUieYeU Sη(NRQ-PaUaPeWULc) z4z3z2z1\\nd(])\\nJeRSaUd\\\\ QXeVWiRQGeQeUaWiRQ:AQVZeU QXeU\\\\'),\n",
       " Document(metadata={'producer': 'macOS Version 10.15.7 (Build 19H15) Quartz PDFContext', 'creator': 'LaTeX with hyperref', 'creationdate': \"D:20210107190157Z00'00'\", 'moddate': \"D:20210107190157Z00'00'\", 'source': 'RAG_paper.pdf', 'total_pages': 16, 'page': 1, 'page_label': '2'}, page_content='Figure 1: Overview of our approach. We combine a pre-trained retriever (Query Encoder+ Document\\nIndex) with a pre-trained seq2seq model (Generator) and ﬁne-tune end-to-end. For queryx, we use'),\n",
       " Document(metadata={'producer': 'macOS Version 10.15.7 (Build 19H15) Quartz PDFContext', 'creator': 'LaTeX with hyperref', 'creationdate': \"D:20210107190157Z00'00'\", 'moddate': \"D:20210107190157Z00'00'\", 'source': 'RAG_paper.pdf', 'total_pages': 16, 'page': 1, 'page_label': '2'}, page_content='Maximum Inner Product Search (MIPS) to ﬁnd the top-K documentszi. For ﬁnal predictiony, we\\ntreat z as a latent variable and marginalize over seq2seq predictions given different documents.'),\n",
       " Document(metadata={'producer': 'macOS Version 10.15.7 (Build 19H15) Quartz PDFContext', 'creator': 'LaTeX with hyperref', 'creationdate': \"D:20210107190157Z00'00'\", 'moddate': \"D:20210107190157Z00'00'\", 'source': 'RAG_paper.pdf', 'total_pages': 16, 'page': 1, 'page_label': '2'}, page_content='but have only explored open-domain extractive question answering. Here, we bring hybrid parametric\\nand non-parametric memory to the “workhorse of NLP,” i.e. sequence-to-sequence (seq2seq) models.'),\n",
       " Document(metadata={'producer': 'macOS Version 10.15.7 (Build 19H15) Quartz PDFContext', 'creator': 'LaTeX with hyperref', 'creationdate': \"D:20210107190157Z00'00'\", 'moddate': \"D:20210107190157Z00'00'\", 'source': 'RAG_paper.pdf', 'total_pages': 16, 'page': 1, 'page_label': '2'}, page_content='We endow pre-trained, parametric-memory generation models with a non-parametric memory through\\na general-purpose ﬁne-tuning approach which we refer to as retrieval-augmented generation (RAG).'),\n",
       " Document(metadata={'producer': 'macOS Version 10.15.7 (Build 19H15) Quartz PDFContext', 'creator': 'LaTeX with hyperref', 'creationdate': \"D:20210107190157Z00'00'\", 'moddate': \"D:20210107190157Z00'00'\", 'source': 'RAG_paper.pdf', 'total_pages': 16, 'page': 1, 'page_label': '2'}, page_content='We build RAG models where the parametric memory is a pre-trained seq2seq transformer, and the\\nnon-parametric memory is a dense vector index of Wikipedia, accessed with a pre-trained neural'),\n",
       " Document(metadata={'producer': 'macOS Version 10.15.7 (Build 19H15) Quartz PDFContext', 'creator': 'LaTeX with hyperref', 'creationdate': \"D:20210107190157Z00'00'\", 'moddate': \"D:20210107190157Z00'00'\", 'source': 'RAG_paper.pdf', 'total_pages': 16, 'page': 1, 'page_label': '2'}, page_content='retriever. We combine these components in a probabilistic model trained end-to-end (Fig. 1). The\\nretriever (Dense Passage Retriever [26], henceforth DPR) provides latent documents conditioned on'),\n",
       " Document(metadata={'producer': 'macOS Version 10.15.7 (Build 19H15) Quartz PDFContext', 'creator': 'LaTeX with hyperref', 'creationdate': \"D:20210107190157Z00'00'\", 'moddate': \"D:20210107190157Z00'00'\", 'source': 'RAG_paper.pdf', 'total_pages': 16, 'page': 1, 'page_label': '2'}, page_content='the input, and the seq2seq model (BART [32]) then conditions on these latent documents together with\\nthe input to generate the output. We marginalize the latent documents with a top-K approximation,'),\n",
       " Document(metadata={'producer': 'macOS Version 10.15.7 (Build 19H15) Quartz PDFContext', 'creator': 'LaTeX with hyperref', 'creationdate': \"D:20210107190157Z00'00'\", 'moddate': \"D:20210107190157Z00'00'\", 'source': 'RAG_paper.pdf', 'total_pages': 16, 'page': 1, 'page_label': '2'}, page_content='either on a per-output basis (assuming the same document is responsible for all tokens) or a per-token'),\n",
       " Document(metadata={'producer': 'macOS Version 10.15.7 (Build 19H15) Quartz PDFContext', 'creator': 'LaTeX with hyperref', 'creationdate': \"D:20210107190157Z00'00'\", 'moddate': \"D:20210107190157Z00'00'\", 'source': 'RAG_paper.pdf', 'total_pages': 16, 'page': 1, 'page_label': '2'}, page_content='basis (where different documents are responsible for different tokens). Like T5 [51] or BART, RAG\\ncan be ﬁne-tuned on any seq2seq task, whereby both the generator and retriever are jointly learned.'),\n",
       " Document(metadata={'producer': 'macOS Version 10.15.7 (Build 19H15) Quartz PDFContext', 'creator': 'LaTeX with hyperref', 'creationdate': \"D:20210107190157Z00'00'\", 'moddate': \"D:20210107190157Z00'00'\", 'source': 'RAG_paper.pdf', 'total_pages': 16, 'page': 1, 'page_label': '2'}, page_content='There has been extensive previous work proposing architectures to enrich systems with non-parametric\\nmemory which are trained from scratch for speciﬁc tasks, e.g. memory networks [64, 55], stack-'),\n",
       " Document(metadata={'producer': 'macOS Version 10.15.7 (Build 19H15) Quartz PDFContext', 'creator': 'LaTeX with hyperref', 'creationdate': \"D:20210107190157Z00'00'\", 'moddate': \"D:20210107190157Z00'00'\", 'source': 'RAG_paper.pdf', 'total_pages': 16, 'page': 1, 'page_label': '2'}, page_content='augmented networks [25] and memory layers [30]. In contrast, we explore a setting where both\\nparametric and non-parametric memory components are pre-trained and pre-loaded with extensive'),\n",
       " Document(metadata={'producer': 'macOS Version 10.15.7 (Build 19H15) Quartz PDFContext', 'creator': 'LaTeX with hyperref', 'creationdate': \"D:20210107190157Z00'00'\", 'moddate': \"D:20210107190157Z00'00'\", 'source': 'RAG_paper.pdf', 'total_pages': 16, 'page': 1, 'page_label': '2'}, page_content='knowledge. Crucially, by using pre-trained access mechanisms, the ability to access knowledge is\\npresent without additional training.'),\n",
       " Document(metadata={'producer': 'macOS Version 10.15.7 (Build 19H15) Quartz PDFContext', 'creator': 'LaTeX with hyperref', 'creationdate': \"D:20210107190157Z00'00'\", 'moddate': \"D:20210107190157Z00'00'\", 'source': 'RAG_paper.pdf', 'total_pages': 16, 'page': 1, 'page_label': '2'}, page_content='Our results highlight the beneﬁts of combining parametric and non-parametric memory with genera-\\ntion forknowledge-intensive tasks—tasks that humans could not reasonably be expected to perform'),\n",
       " Document(metadata={'producer': 'macOS Version 10.15.7 (Build 19H15) Quartz PDFContext', 'creator': 'LaTeX with hyperref', 'creationdate': \"D:20210107190157Z00'00'\", 'moddate': \"D:20210107190157Z00'00'\", 'source': 'RAG_paper.pdf', 'total_pages': 16, 'page': 1, 'page_label': '2'}, page_content='without access to an external knowledge source. Our RAG models achieve state-of-the-art results\\non open Natural Questions [29], WebQuestions [3] and CuratedTrec [2] and strongly outperform'),\n",
       " Document(metadata={'producer': 'macOS Version 10.15.7 (Build 19H15) Quartz PDFContext', 'creator': 'LaTeX with hyperref', 'creationdate': \"D:20210107190157Z00'00'\", 'moddate': \"D:20210107190157Z00'00'\", 'source': 'RAG_paper.pdf', 'total_pages': 16, 'page': 1, 'page_label': '2'}, page_content='recent approaches that use specialised pre-training objectives on TriviaQA [24]. Despite these being\\nextractive tasks, we ﬁnd that unconstrained generation outperforms previous extractive approaches.'),\n",
       " Document(metadata={'producer': 'macOS Version 10.15.7 (Build 19H15) Quartz PDFContext', 'creator': 'LaTeX with hyperref', 'creationdate': \"D:20210107190157Z00'00'\", 'moddate': \"D:20210107190157Z00'00'\", 'source': 'RAG_paper.pdf', 'total_pages': 16, 'page': 1, 'page_label': '2'}, page_content='For knowledge-intensive generation, we experiment with MS-MARCO [1] and Jeopardy question\\ngeneration, and we ﬁnd that our models generate responses that are more factual, speciﬁc, and'),\n",
       " Document(metadata={'producer': 'macOS Version 10.15.7 (Build 19H15) Quartz PDFContext', 'creator': 'LaTeX with hyperref', 'creationdate': \"D:20210107190157Z00'00'\", 'moddate': \"D:20210107190157Z00'00'\", 'source': 'RAG_paper.pdf', 'total_pages': 16, 'page': 1, 'page_label': '2'}, page_content='diverse than a BART baseline. For FEVER [56] fact veriﬁcation, we achieve results within 4.3% of\\nstate-of-the-art pipeline models which use strong retrieval supervision. Finally, we demonstrate that'),\n",
       " Document(metadata={'producer': 'macOS Version 10.15.7 (Build 19H15) Quartz PDFContext', 'creator': 'LaTeX with hyperref', 'creationdate': \"D:20210107190157Z00'00'\", 'moddate': \"D:20210107190157Z00'00'\", 'source': 'RAG_paper.pdf', 'total_pages': 16, 'page': 1, 'page_label': '2'}, page_content='the non-parametric memory can be replaced to update the models’ knowledge as the world changes.1\\n2 Methods'),\n",
       " Document(metadata={'producer': 'macOS Version 10.15.7 (Build 19H15) Quartz PDFContext', 'creator': 'LaTeX with hyperref', 'creationdate': \"D:20210107190157Z00'00'\", 'moddate': \"D:20210107190157Z00'00'\", 'source': 'RAG_paper.pdf', 'total_pages': 16, 'page': 1, 'page_label': '2'}, page_content='2 Methods\\nWe explore RAG models, which use the input sequencex to retrieve text documentsz and use them\\nas additional context when generating the target sequencey. As shown in Figure 1, our models'),\n",
       " Document(metadata={'producer': 'macOS Version 10.15.7 (Build 19H15) Quartz PDFContext', 'creator': 'LaTeX with hyperref', 'creationdate': \"D:20210107190157Z00'00'\", 'moddate': \"D:20210107190157Z00'00'\", 'source': 'RAG_paper.pdf', 'total_pages': 16, 'page': 1, 'page_label': '2'}, page_content='leverage two components: (i) a retrieverp⌘(z|x) with parameters⌘ that returns (top-K truncated)\\ndistributions over text passages given a queryx and (ii) a generatorp✓(yi|x, z, y1:i\\x001) parametrized'),\n",
       " Document(metadata={'producer': 'macOS Version 10.15.7 (Build 19H15) Quartz PDFContext', 'creator': 'LaTeX with hyperref', 'creationdate': \"D:20210107190157Z00'00'\", 'moddate': \"D:20210107190157Z00'00'\", 'source': 'RAG_paper.pdf', 'total_pages': 16, 'page': 1, 'page_label': '2'}, page_content='1Code to run experiments with RAG has been open-sourced as part of the HuggingFace Transform-\\ners Library [66] and can be found athttps://github.com/huggingface/transformers/blob/master/'),\n",
       " Document(metadata={'producer': 'macOS Version 10.15.7 (Build 19H15) Quartz PDFContext', 'creator': 'LaTeX with hyperref', 'creationdate': \"D:20210107190157Z00'00'\", 'moddate': \"D:20210107190157Z00'00'\", 'source': 'RAG_paper.pdf', 'total_pages': 16, 'page': 1, 'page_label': '2'}, page_content='examples/rag/. An interactive demo of RAG models can be found athttps://huggingface.co/rag/\\n2'),\n",
       " Document(metadata={'producer': 'macOS Version 10.15.7 (Build 19H15) Quartz PDFContext', 'creator': 'LaTeX with hyperref', 'creationdate': \"D:20210107190157Z00'00'\", 'moddate': \"D:20210107190157Z00'00'\", 'source': 'RAG_paper.pdf', 'total_pages': 16, 'page': 2, 'page_label': '3'}, page_content='by ✓ that generates a current token based on a context of the previousi \\x00 1 tokens y1:i\\x001, the original\\ninput x and a retrieved passagez.'),\n",
       " Document(metadata={'producer': 'macOS Version 10.15.7 (Build 19H15) Quartz PDFContext', 'creator': 'LaTeX with hyperref', 'creationdate': \"D:20210107190157Z00'00'\", 'moddate': \"D:20210107190157Z00'00'\", 'source': 'RAG_paper.pdf', 'total_pages': 16, 'page': 2, 'page_label': '3'}, page_content='To train the retriever and generator end-to-end, we treat the retrieved document as a latent variable.\\nWe propose two models that marginalize over the latent documents in different ways to produce a'),\n",
       " Document(metadata={'producer': 'macOS Version 10.15.7 (Build 19H15) Quartz PDFContext', 'creator': 'LaTeX with hyperref', 'creationdate': \"D:20210107190157Z00'00'\", 'moddate': \"D:20210107190157Z00'00'\", 'source': 'RAG_paper.pdf', 'total_pages': 16, 'page': 2, 'page_label': '3'}, page_content='distribution over generated text. In one approach,RAG-Sequence, the model uses the same document\\nto predict each target token. The second approach,RAG-Token, can predict each target token based'),\n",
       " Document(metadata={'producer': 'macOS Version 10.15.7 (Build 19H15) Quartz PDFContext', 'creator': 'LaTeX with hyperref', 'creationdate': \"D:20210107190157Z00'00'\", 'moddate': \"D:20210107190157Z00'00'\", 'source': 'RAG_paper.pdf', 'total_pages': 16, 'page': 2, 'page_label': '3'}, page_content='on a different document. In the following, we formally introduce both models and then describe the\\np⌘ and p✓ components, as well as the training and decoding procedure.\\n2.1 Models'),\n",
       " Document(metadata={'producer': 'macOS Version 10.15.7 (Build 19H15) Quartz PDFContext', 'creator': 'LaTeX with hyperref', 'creationdate': \"D:20210107190157Z00'00'\", 'moddate': \"D:20210107190157Z00'00'\", 'source': 'RAG_paper.pdf', 'total_pages': 16, 'page': 2, 'page_label': '3'}, page_content='2.1 Models\\nRAG-Sequence Model The RAG-Sequence model uses the same retrieved document to generate\\nthe completesequence. Technically, it treats the retrieved document as a single latent variable that'),\n",
       " Document(metadata={'producer': 'macOS Version 10.15.7 (Build 19H15) Quartz PDFContext', 'creator': 'LaTeX with hyperref', 'creationdate': \"D:20210107190157Z00'00'\", 'moddate': \"D:20210107190157Z00'00'\", 'source': 'RAG_paper.pdf', 'total_pages': 16, 'page': 2, 'page_label': '3'}, page_content='is marginalized to get the seq2seq probabilityp(y|x) via a top-K approximation. Concretely, the\\ntop K documents are retrieved using the retriever, and the generator produces the output sequence'),\n",
       " Document(metadata={'producer': 'macOS Version 10.15.7 (Build 19H15) Quartz PDFContext', 'creator': 'LaTeX with hyperref', 'creationdate': \"D:20210107190157Z00'00'\", 'moddate': \"D:20210107190157Z00'00'\", 'source': 'RAG_paper.pdf', 'total_pages': 16, 'page': 2, 'page_label': '3'}, page_content='probability for each document, which are then marginalized,\\npRAG-Sequence(y|x) ⇡\\nX\\nz2top-k(p(·| x))\\np⌘(z|x)p✓(y|x, z)=\\nX\\nz2top-k(p(·| x))\\np⌘(z|x)\\nNY\\ni\\np✓(yi|x, z, y1:i\\x001)'),\n",
       " Document(metadata={'producer': 'macOS Version 10.15.7 (Build 19H15) Quartz PDFContext', 'creator': 'LaTeX with hyperref', 'creationdate': \"D:20210107190157Z00'00'\", 'moddate': \"D:20210107190157Z00'00'\", 'source': 'RAG_paper.pdf', 'total_pages': 16, 'page': 2, 'page_label': '3'}, page_content='NY\\ni\\np✓(yi|x, z, y1:i\\x001)\\nRAG-Token Model In the RAG-Token model we can draw a different latent document for each'),\n",
       " Document(metadata={'producer': 'macOS Version 10.15.7 (Build 19H15) Quartz PDFContext', 'creator': 'LaTeX with hyperref', 'creationdate': \"D:20210107190157Z00'00'\", 'moddate': \"D:20210107190157Z00'00'\", 'source': 'RAG_paper.pdf', 'total_pages': 16, 'page': 2, 'page_label': '3'}, page_content='target token and marginalize accordingly. This allows the generator to choose content from several\\ndocuments when producing an answer. Concretely, the top K documents are retrieved using the'),\n",
       " Document(metadata={'producer': 'macOS Version 10.15.7 (Build 19H15) Quartz PDFContext', 'creator': 'LaTeX with hyperref', 'creationdate': \"D:20210107190157Z00'00'\", 'moddate': \"D:20210107190157Z00'00'\", 'source': 'RAG_paper.pdf', 'total_pages': 16, 'page': 2, 'page_label': '3'}, page_content='retriever, and then the generator produces a distribution for the next output token for each document,'),\n",
       " Document(metadata={'producer': 'macOS Version 10.15.7 (Build 19H15) Quartz PDFContext', 'creator': 'LaTeX with hyperref', 'creationdate': \"D:20210107190157Z00'00'\", 'moddate': \"D:20210107190157Z00'00'\", 'source': 'RAG_paper.pdf', 'total_pages': 16, 'page': 2, 'page_label': '3'}, page_content='before marginalizing, and repeating the process with the following output token, Formally, we deﬁne:\\npRAG-Token(y|x) ⇡\\nNY\\ni\\nX\\nz2top-k(p(·| x))\\np⌘(z|x)p✓(yi|x, zi,y 1:i\\x001)'),\n",
       " Document(metadata={'producer': 'macOS Version 10.15.7 (Build 19H15) Quartz PDFContext', 'creator': 'LaTeX with hyperref', 'creationdate': \"D:20210107190157Z00'00'\", 'moddate': \"D:20210107190157Z00'00'\", 'source': 'RAG_paper.pdf', 'total_pages': 16, 'page': 2, 'page_label': '3'}, page_content='p⌘(z|x)p✓(yi|x, zi,y 1:i\\x001)\\nFinally, we note that RAG can be used for sequence classiﬁcation tasks by considering the target class'),\n",
       " Document(metadata={'producer': 'macOS Version 10.15.7 (Build 19H15) Quartz PDFContext', 'creator': 'LaTeX with hyperref', 'creationdate': \"D:20210107190157Z00'00'\", 'moddate': \"D:20210107190157Z00'00'\", 'source': 'RAG_paper.pdf', 'total_pages': 16, 'page': 2, 'page_label': '3'}, page_content='as a target sequence of length one, in which case RAG-Sequence and RAG-Token are equivalent.\\n2.2 Retriever: DPR'),\n",
       " Document(metadata={'producer': 'macOS Version 10.15.7 (Build 19H15) Quartz PDFContext', 'creator': 'LaTeX with hyperref', 'creationdate': \"D:20210107190157Z00'00'\", 'moddate': \"D:20210107190157Z00'00'\", 'source': 'RAG_paper.pdf', 'total_pages': 16, 'page': 2, 'page_label': '3'}, page_content='2.2 Retriever: DPR\\nThe retrieval componentp⌘(z|x) is based on DPR [26]. DPR follows a bi-encoder architecture:\\np⌘(z|x) / exp\\n\\x00\\nd(z)>q(x)\\n\\x00\\nd(z)= BERTd(z), q(x)= BERTq(x)'),\n",
       " Document(metadata={'producer': 'macOS Version 10.15.7 (Build 19H15) Quartz PDFContext', 'creator': 'LaTeX with hyperref', 'creationdate': \"D:20210107190157Z00'00'\", 'moddate': \"D:20210107190157Z00'00'\", 'source': 'RAG_paper.pdf', 'total_pages': 16, 'page': 2, 'page_label': '3'}, page_content='where d(z) is a dense representation of a document produced by a BERTBASE document encoder[8],\\nand q(x) a query representation produced by aquery encoder, also based on BERTBASE. Calculating'),\n",
       " Document(metadata={'producer': 'macOS Version 10.15.7 (Build 19H15) Quartz PDFContext', 'creator': 'LaTeX with hyperref', 'creationdate': \"D:20210107190157Z00'00'\", 'moddate': \"D:20210107190157Z00'00'\", 'source': 'RAG_paper.pdf', 'total_pages': 16, 'page': 2, 'page_label': '3'}, page_content='top-k(p⌘(·| x)), the list ofk documents z with highest prior probabilityp⌘(z|x), is a Maximum Inner\\nProduct Search (MIPS) problem, which can be approximately solved in sub-linear time [23]. We use'),\n",
       " Document(metadata={'producer': 'macOS Version 10.15.7 (Build 19H15) Quartz PDFContext', 'creator': 'LaTeX with hyperref', 'creationdate': \"D:20210107190157Z00'00'\", 'moddate': \"D:20210107190157Z00'00'\", 'source': 'RAG_paper.pdf', 'total_pages': 16, 'page': 2, 'page_label': '3'}, page_content='a pre-trained bi-encoder from DPR to initialize our retriever and to build the document index. This\\nretriever was trained to retrieve documents which contain answers to TriviaQA [24] questions and'),\n",
       " Document(metadata={'producer': 'macOS Version 10.15.7 (Build 19H15) Quartz PDFContext', 'creator': 'LaTeX with hyperref', 'creationdate': \"D:20210107190157Z00'00'\", 'moddate': \"D:20210107190157Z00'00'\", 'source': 'RAG_paper.pdf', 'total_pages': 16, 'page': 2, 'page_label': '3'}, page_content='Natural Questions [29]. We refer to the document index as thenon-parametric memory.\\n2.3 Generator: BART\\nThe generator componentp✓(yi|x, z, y1:i\\x001) could be modelled using any encoder-decoder. We use'),\n",
       " Document(metadata={'producer': 'macOS Version 10.15.7 (Build 19H15) Quartz PDFContext', 'creator': 'LaTeX with hyperref', 'creationdate': \"D:20210107190157Z00'00'\", 'moddate': \"D:20210107190157Z00'00'\", 'source': 'RAG_paper.pdf', 'total_pages': 16, 'page': 2, 'page_label': '3'}, page_content='BART-large [32], a pre-trained seq2seq transformer [58] with 400M parameters. To combine the input\\nx with the retrieved contentz when generating from BART, we simply concatenate them. BART was'),\n",
       " Document(metadata={'producer': 'macOS Version 10.15.7 (Build 19H15) Quartz PDFContext', 'creator': 'LaTeX with hyperref', 'creationdate': \"D:20210107190157Z00'00'\", 'moddate': \"D:20210107190157Z00'00'\", 'source': 'RAG_paper.pdf', 'total_pages': 16, 'page': 2, 'page_label': '3'}, page_content='pre-trained using a denoising objective and a variety of different noising functions. It has obtained\\nstate-of-the-art results on a diverse set of generation tasks and outperforms comparably-sized T5'),\n",
       " Document(metadata={'producer': 'macOS Version 10.15.7 (Build 19H15) Quartz PDFContext', 'creator': 'LaTeX with hyperref', 'creationdate': \"D:20210107190157Z00'00'\", 'moddate': \"D:20210107190157Z00'00'\", 'source': 'RAG_paper.pdf', 'total_pages': 16, 'page': 2, 'page_label': '3'}, page_content='models [32]. We refer to the BART generator parameters✓ as theparametric memoryhenceforth.\\n2.4 Training\\nWe jointly train the retriever and generator components without any direct supervision on what'),\n",
       " Document(metadata={'producer': 'macOS Version 10.15.7 (Build 19H15) Quartz PDFContext', 'creator': 'LaTeX with hyperref', 'creationdate': \"D:20210107190157Z00'00'\", 'moddate': \"D:20210107190157Z00'00'\", 'source': 'RAG_paper.pdf', 'total_pages': 16, 'page': 2, 'page_label': '3'}, page_content='document should be retrieved. Given a ﬁne-tuning training corpus of input/output pairs(xj,y j), we\\n3'),\n",
       " Document(metadata={'producer': 'macOS Version 10.15.7 (Build 19H15) Quartz PDFContext', 'creator': 'LaTeX with hyperref', 'creationdate': \"D:20210107190157Z00'00'\", 'moddate': \"D:20210107190157Z00'00'\", 'source': 'RAG_paper.pdf', 'total_pages': 16, 'page': 3, 'page_label': '4'}, page_content='minimize the negative marginal log-likelihood of each target,P\\nj \\x00log p(yj|xj) using stochastic\\ngradient descent with Adam [28]. Updating the document encoderBERTd during training is costly as'),\n",
       " Document(metadata={'producer': 'macOS Version 10.15.7 (Build 19H15) Quartz PDFContext', 'creator': 'LaTeX with hyperref', 'creationdate': \"D:20210107190157Z00'00'\", 'moddate': \"D:20210107190157Z00'00'\", 'source': 'RAG_paper.pdf', 'total_pages': 16, 'page': 3, 'page_label': '4'}, page_content='it requires the document index to be periodically updated as REALM does during pre-training [20].\\nWe do not ﬁnd this step necessary for strong performance, and keep the document encoder (and'),\n",
       " Document(metadata={'producer': 'macOS Version 10.15.7 (Build 19H15) Quartz PDFContext', 'creator': 'LaTeX with hyperref', 'creationdate': \"D:20210107190157Z00'00'\", 'moddate': \"D:20210107190157Z00'00'\", 'source': 'RAG_paper.pdf', 'total_pages': 16, 'page': 3, 'page_label': '4'}, page_content='index) ﬁxed, only ﬁne-tuning the query encoder BERTq and the BART generator.\\n2.5 Decoding\\nAt test time, RAG-Sequence and RAG-Token require different ways to approximatearg maxy p(y|x).'),\n",
       " Document(metadata={'producer': 'macOS Version 10.15.7 (Build 19H15) Quartz PDFContext', 'creator': 'LaTeX with hyperref', 'creationdate': \"D:20210107190157Z00'00'\", 'moddate': \"D:20210107190157Z00'00'\", 'source': 'RAG_paper.pdf', 'total_pages': 16, 'page': 3, 'page_label': '4'}, page_content='RAG-Token The RAG-Token model can be seen as a standard, autoregressive seq2seq genera-\\ntor with transition probability:p0\\n✓(yi|x, y1:i\\x001)= P\\nz2top-k(p(·| x)) p⌘(zi|x)p✓(yi|x, zi,y 1:i\\x001) To'),\n",
       " Document(metadata={'producer': 'macOS Version 10.15.7 (Build 19H15) Quartz PDFContext', 'creator': 'LaTeX with hyperref', 'creationdate': \"D:20210107190157Z00'00'\", 'moddate': \"D:20210107190157Z00'00'\", 'source': 'RAG_paper.pdf', 'total_pages': 16, 'page': 3, 'page_label': '4'}, page_content='decode, we can plugp0\\n✓(yi|x, y1:i\\x001) into a standard beam decoder.\\nRAG-Sequence For RAG-Sequence, the likelihoodp(y|x) does not break into a conventional per-'),\n",
       " Document(metadata={'producer': 'macOS Version 10.15.7 (Build 19H15) Quartz PDFContext', 'creator': 'LaTeX with hyperref', 'creationdate': \"D:20210107190157Z00'00'\", 'moddate': \"D:20210107190157Z00'00'\", 'source': 'RAG_paper.pdf', 'total_pages': 16, 'page': 3, 'page_label': '4'}, page_content='token likelihood, hence we cannot solve it with a single beam search. Instead, we run beam search for\\neach documentz, scoring each hypothesis usingp✓(yi|x, z, y1:i\\x001). This yields a set of hypotheses'),\n",
       " Document(metadata={'producer': 'macOS Version 10.15.7 (Build 19H15) Quartz PDFContext', 'creator': 'LaTeX with hyperref', 'creationdate': \"D:20210107190157Z00'00'\", 'moddate': \"D:20210107190157Z00'00'\", 'source': 'RAG_paper.pdf', 'total_pages': 16, 'page': 3, 'page_label': '4'}, page_content='Y , some of which may not have appeared in the beams of all documents. To estimate the probability\\nof an hypothesisy we run an additional forward pass for each documentz for whichy does not'),\n",
       " Document(metadata={'producer': 'macOS Version 10.15.7 (Build 19H15) Quartz PDFContext', 'creator': 'LaTeX with hyperref', 'creationdate': \"D:20210107190157Z00'00'\", 'moddate': \"D:20210107190157Z00'00'\", 'source': 'RAG_paper.pdf', 'total_pages': 16, 'page': 3, 'page_label': '4'}, page_content='appear in the beam, multiply generator probability withp⌘(z|x) and then sum the probabilities across\\nbeams for the marginals. We refer to this decoding procedure as “Thorough Decoding.” For longer'),\n",
       " Document(metadata={'producer': 'macOS Version 10.15.7 (Build 19H15) Quartz PDFContext', 'creator': 'LaTeX with hyperref', 'creationdate': \"D:20210107190157Z00'00'\", 'moddate': \"D:20210107190157Z00'00'\", 'source': 'RAG_paper.pdf', 'total_pages': 16, 'page': 3, 'page_label': '4'}, page_content='output sequences,|Y | can become large, requiring many forward passes. For more efﬁcient decoding,\\nwe can make a further approximation thatp✓(y|x, zi) ⇡ 0 where y was not generated during beam'),\n",
       " Document(metadata={'producer': 'macOS Version 10.15.7 (Build 19H15) Quartz PDFContext', 'creator': 'LaTeX with hyperref', 'creationdate': \"D:20210107190157Z00'00'\", 'moddate': \"D:20210107190157Z00'00'\", 'source': 'RAG_paper.pdf', 'total_pages': 16, 'page': 3, 'page_label': '4'}, page_content='search fromx, zi. This avoids the need to run additional forward passes once the candidate setY has\\nbeen generated. We refer to this decoding procedure as “Fast Decoding.”\\n3 Experiments'),\n",
       " Document(metadata={'producer': 'macOS Version 10.15.7 (Build 19H15) Quartz PDFContext', 'creator': 'LaTeX with hyperref', 'creationdate': \"D:20210107190157Z00'00'\", 'moddate': \"D:20210107190157Z00'00'\", 'source': 'RAG_paper.pdf', 'total_pages': 16, 'page': 3, 'page_label': '4'}, page_content='3 Experiments\\nWe experiment with RAG in a wide range of knowledge-intensive tasks. For all experiments, we use'),\n",
       " Document(metadata={'producer': 'macOS Version 10.15.7 (Build 19H15) Quartz PDFContext', 'creator': 'LaTeX with hyperref', 'creationdate': \"D:20210107190157Z00'00'\", 'moddate': \"D:20210107190157Z00'00'\", 'source': 'RAG_paper.pdf', 'total_pages': 16, 'page': 3, 'page_label': '4'}, page_content='a single Wikipedia dump for our non-parametric knowledge source. Following Lee et al.[31] and\\nKarpukhin et al.[26], we use the December 2018 dump. Each Wikipedia article is split into disjoint'),\n",
       " Document(metadata={'producer': 'macOS Version 10.15.7 (Build 19H15) Quartz PDFContext', 'creator': 'LaTeX with hyperref', 'creationdate': \"D:20210107190157Z00'00'\", 'moddate': \"D:20210107190157Z00'00'\", 'source': 'RAG_paper.pdf', 'total_pages': 16, 'page': 3, 'page_label': '4'}, page_content='100-word chunks, to make a total of 21M documents. We use the document encoder to compute an\\nembedding for each document, and build a single MIPS index using FAISS [23] with a Hierarchical'),\n",
       " Document(metadata={'producer': 'macOS Version 10.15.7 (Build 19H15) Quartz PDFContext', 'creator': 'LaTeX with hyperref', 'creationdate': \"D:20210107190157Z00'00'\", 'moddate': \"D:20210107190157Z00'00'\", 'source': 'RAG_paper.pdf', 'total_pages': 16, 'page': 3, 'page_label': '4'}, page_content='Navigable Small World approximation for fast retrieval [37]. During training, we retrieve the top\\nk documents for each query. We considerk 2{ 5, 10} for training and setk for test time using dev'),\n",
       " Document(metadata={'producer': 'macOS Version 10.15.7 (Build 19H15) Quartz PDFContext', 'creator': 'LaTeX with hyperref', 'creationdate': \"D:20210107190157Z00'00'\", 'moddate': \"D:20210107190157Z00'00'\", 'source': 'RAG_paper.pdf', 'total_pages': 16, 'page': 3, 'page_label': '4'}, page_content='data. We now discuss experimental details for each task.\\n3.1 Open-domain Question Answering\\nOpen-domain question answering (QA) is an important real-world application and common testbed'),\n",
       " Document(metadata={'producer': 'macOS Version 10.15.7 (Build 19H15) Quartz PDFContext', 'creator': 'LaTeX with hyperref', 'creationdate': \"D:20210107190157Z00'00'\", 'moddate': \"D:20210107190157Z00'00'\", 'source': 'RAG_paper.pdf', 'total_pages': 16, 'page': 3, 'page_label': '4'}, page_content='for knowledge-intensive tasks [20]. We treat questions and answers as input-output text pairs(x, y)\\nand train RAG by directly minimizing the negative log-likelihood of answers. We compare RAG to'),\n",
       " Document(metadata={'producer': 'macOS Version 10.15.7 (Build 19H15) Quartz PDFContext', 'creator': 'LaTeX with hyperref', 'creationdate': \"D:20210107190157Z00'00'\", 'moddate': \"D:20210107190157Z00'00'\", 'source': 'RAG_paper.pdf', 'total_pages': 16, 'page': 3, 'page_label': '4'}, page_content='the popular extractive QA paradigm [5, 7, 31, 26], where answers are extracted spans from retrieved\\ndocuments, relying primarily on non-parametric knowledge. We also compare to “Closed-Book'),\n",
       " Document(metadata={'producer': 'macOS Version 10.15.7 (Build 19H15) Quartz PDFContext', 'creator': 'LaTeX with hyperref', 'creationdate': \"D:20210107190157Z00'00'\", 'moddate': \"D:20210107190157Z00'00'\", 'source': 'RAG_paper.pdf', 'total_pages': 16, 'page': 3, 'page_label': '4'}, page_content='QA” approaches [52], which, like RAG, generate answers, but which do not exploit retrieval, instead\\nrelying purely on parametric knowledge. We consider four popular open-domain QA datasets: Natural'),\n",
       " Document(metadata={'producer': 'macOS Version 10.15.7 (Build 19H15) Quartz PDFContext', 'creator': 'LaTeX with hyperref', 'creationdate': \"D:20210107190157Z00'00'\", 'moddate': \"D:20210107190157Z00'00'\", 'source': 'RAG_paper.pdf', 'total_pages': 16, 'page': 3, 'page_label': '4'}, page_content='Questions (NQ) [29], TriviaQA (TQA) [24]. WebQuestions (WQ) [3] and CuratedTrec (CT) [2]. As\\nCT and WQ are small, we follow DPR [26] by initializing CT and WQ models with our NQ RAG'),\n",
       " Document(metadata={'producer': 'macOS Version 10.15.7 (Build 19H15) Quartz PDFContext', 'creator': 'LaTeX with hyperref', 'creationdate': \"D:20210107190157Z00'00'\", 'moddate': \"D:20210107190157Z00'00'\", 'source': 'RAG_paper.pdf', 'total_pages': 16, 'page': 3, 'page_label': '4'}, page_content='model. We use the same train/dev/test splits as prior work [31, 26] and report Exact Match (EM)\\nscores. For TQA, to compare with T5 [52], we also evaluate on the TQA Wiki test set.'),\n",
       " Document(metadata={'producer': 'macOS Version 10.15.7 (Build 19H15) Quartz PDFContext', 'creator': 'LaTeX with hyperref', 'creationdate': \"D:20210107190157Z00'00'\", 'moddate': \"D:20210107190157Z00'00'\", 'source': 'RAG_paper.pdf', 'total_pages': 16, 'page': 3, 'page_label': '4'}, page_content='3.2 Abstractive Question Answering\\nRAG models can go beyond simple extractive QA and answer questions with free-form, abstractive'),\n",
       " Document(metadata={'producer': 'macOS Version 10.15.7 (Build 19H15) Quartz PDFContext', 'creator': 'LaTeX with hyperref', 'creationdate': \"D:20210107190157Z00'00'\", 'moddate': \"D:20210107190157Z00'00'\", 'source': 'RAG_paper.pdf', 'total_pages': 16, 'page': 3, 'page_label': '4'}, page_content='text generation. To test RAG’s natural language generation (NLG) in a knowledge-intensive setting,\\nwe use the MSMARCO NLG task v2.1 [43]. The task consists of questions, ten gold passages'),\n",
       " Document(metadata={'producer': 'macOS Version 10.15.7 (Build 19H15) Quartz PDFContext', 'creator': 'LaTeX with hyperref', 'creationdate': \"D:20210107190157Z00'00'\", 'moddate': \"D:20210107190157Z00'00'\", 'source': 'RAG_paper.pdf', 'total_pages': 16, 'page': 3, 'page_label': '4'}, page_content='retrieved from a search engine for each question, and a full sentence answer annotated from the\\nretrieved passages. We do not use the supplied passages, only the questions and answers, to treat\\n4'),\n",
       " Document(metadata={'producer': 'macOS Version 10.15.7 (Build 19H15) Quartz PDFContext', 'creator': 'LaTeX with hyperref', 'creationdate': \"D:20210107190157Z00'00'\", 'moddate': \"D:20210107190157Z00'00'\", 'source': 'RAG_paper.pdf', 'total_pages': 16, 'page': 4, 'page_label': '5'}, page_content='MSMARCO as an open-domain abstractive QA task. MSMARCO has some questions that cannot be\\nanswered in a way that matches the reference answer without access to the gold passages, such as'),\n",
       " Document(metadata={'producer': 'macOS Version 10.15.7 (Build 19H15) Quartz PDFContext', 'creator': 'LaTeX with hyperref', 'creationdate': \"D:20210107190157Z00'00'\", 'moddate': \"D:20210107190157Z00'00'\", 'source': 'RAG_paper.pdf', 'total_pages': 16, 'page': 4, 'page_label': '5'}, page_content='“What is the weather in V olcano, CA?” so performance will be lower without using gold passages.\\nWe also note that some MSMARCO questions cannot be answered using Wikipedia alone. Here,'),\n",
       " Document(metadata={'producer': 'macOS Version 10.15.7 (Build 19H15) Quartz PDFContext', 'creator': 'LaTeX with hyperref', 'creationdate': \"D:20210107190157Z00'00'\", 'moddate': \"D:20210107190157Z00'00'\", 'source': 'RAG_paper.pdf', 'total_pages': 16, 'page': 4, 'page_label': '5'}, page_content='RAG can rely on parametric knowledge to generate reasonable responses.\\n3.3 Jeopardy Question Generation\\nTo evaluate RAG’s generation abilities in a non-QA setting, we study open-domain question gen-'),\n",
       " Document(metadata={'producer': 'macOS Version 10.15.7 (Build 19H15) Quartz PDFContext', 'creator': 'LaTeX with hyperref', 'creationdate': \"D:20210107190157Z00'00'\", 'moddate': \"D:20210107190157Z00'00'\", 'source': 'RAG_paper.pdf', 'total_pages': 16, 'page': 4, 'page_label': '5'}, page_content='eration. Rather than use questions from standard open-domain QA tasks, which typically consist\\nof short, simple questions, we propose the more demanding task of generating Jeopardy questions.'),\n",
       " Document(metadata={'producer': 'macOS Version 10.15.7 (Build 19H15) Quartz PDFContext', 'creator': 'LaTeX with hyperref', 'creationdate': \"D:20210107190157Z00'00'\", 'moddate': \"D:20210107190157Z00'00'\", 'source': 'RAG_paper.pdf', 'total_pages': 16, 'page': 4, 'page_label': '5'}, page_content='Jeopardy is an unusual format that consists of trying to guess an entity from a fact about that entity.\\nFor example, “The World Cup” is the answer to the question “In 1986 Mexico scored as the ﬁrst'),\n",
       " Document(metadata={'producer': 'macOS Version 10.15.7 (Build 19H15) Quartz PDFContext', 'creator': 'LaTeX with hyperref', 'creationdate': \"D:20210107190157Z00'00'\", 'moddate': \"D:20210107190157Z00'00'\", 'source': 'RAG_paper.pdf', 'total_pages': 16, 'page': 4, 'page_label': '5'}, page_content='country to host this international sports competition twice.” As Jeopardy questions are precise,\\nfactual statements, generating Jeopardy questions conditioned on their answer entities constitutes a'),\n",
       " Document(metadata={'producer': 'macOS Version 10.15.7 (Build 19H15) Quartz PDFContext', 'creator': 'LaTeX with hyperref', 'creationdate': \"D:20210107190157Z00'00'\", 'moddate': \"D:20210107190157Z00'00'\", 'source': 'RAG_paper.pdf', 'total_pages': 16, 'page': 4, 'page_label': '5'}, page_content='challenging knowledge-intensive generation task.\\nWe use the splits from SearchQA [10], with 100K train, 14K dev, and 27K test examples. As'),\n",
       " Document(metadata={'producer': 'macOS Version 10.15.7 (Build 19H15) Quartz PDFContext', 'creator': 'LaTeX with hyperref', 'creationdate': \"D:20210107190157Z00'00'\", 'moddate': \"D:20210107190157Z00'00'\", 'source': 'RAG_paper.pdf', 'total_pages': 16, 'page': 4, 'page_label': '5'}, page_content='this is a new task, we train a BART model for comparison. Following [67], we evaluate using the\\nSQuAD-tuned Q-BLEU-1 metric [42]. Q-BLEU is a variant of BLEU with a higher weight for'),\n",
       " Document(metadata={'producer': 'macOS Version 10.15.7 (Build 19H15) Quartz PDFContext', 'creator': 'LaTeX with hyperref', 'creationdate': \"D:20210107190157Z00'00'\", 'moddate': \"D:20210107190157Z00'00'\", 'source': 'RAG_paper.pdf', 'total_pages': 16, 'page': 4, 'page_label': '5'}, page_content='matching entities and has higher correlation with human judgment for question generation than\\nstandard metrics. We also perform two human evaluations, one to assess generation factuality, and'),\n",
       " Document(metadata={'producer': 'macOS Version 10.15.7 (Build 19H15) Quartz PDFContext', 'creator': 'LaTeX with hyperref', 'creationdate': \"D:20210107190157Z00'00'\", 'moddate': \"D:20210107190157Z00'00'\", 'source': 'RAG_paper.pdf', 'total_pages': 16, 'page': 4, 'page_label': '5'}, page_content='one for speciﬁcity. We deﬁne factuality as whether a statement can be corroborated by trusted external\\nsources, and speciﬁcity as high mutual dependence between the input and output [33]. We follow'),\n",
       " Document(metadata={'producer': 'macOS Version 10.15.7 (Build 19H15) Quartz PDFContext', 'creator': 'LaTeX with hyperref', 'creationdate': \"D:20210107190157Z00'00'\", 'moddate': \"D:20210107190157Z00'00'\", 'source': 'RAG_paper.pdf', 'total_pages': 16, 'page': 4, 'page_label': '5'}, page_content='best practice and use pairwise comparative evaluation [34]. Evaluators are shown an answer and two\\ngenerated questions, one from BART and one from RAG. They are then asked to pick one of four'),\n",
       " Document(metadata={'producer': 'macOS Version 10.15.7 (Build 19H15) Quartz PDFContext', 'creator': 'LaTeX with hyperref', 'creationdate': \"D:20210107190157Z00'00'\", 'moddate': \"D:20210107190157Z00'00'\", 'source': 'RAG_paper.pdf', 'total_pages': 16, 'page': 4, 'page_label': '5'}, page_content='options—quuestion A is better, question B is better, both are good, or neither is good.\\n3.4 Fact Veriﬁcation'),\n",
       " Document(metadata={'producer': 'macOS Version 10.15.7 (Build 19H15) Quartz PDFContext', 'creator': 'LaTeX with hyperref', 'creationdate': \"D:20210107190157Z00'00'\", 'moddate': \"D:20210107190157Z00'00'\", 'source': 'RAG_paper.pdf', 'total_pages': 16, 'page': 4, 'page_label': '5'}, page_content='3.4 Fact Veriﬁcation\\nFEVER [56] requires classifying whether a natural language claim is supported or refuted by'),\n",
       " Document(metadata={'producer': 'macOS Version 10.15.7 (Build 19H15) Quartz PDFContext', 'creator': 'LaTeX with hyperref', 'creationdate': \"D:20210107190157Z00'00'\", 'moddate': \"D:20210107190157Z00'00'\", 'source': 'RAG_paper.pdf', 'total_pages': 16, 'page': 4, 'page_label': '5'}, page_content='Wikipedia, or whether there is not enough information to decide. The task requires retrieving\\nevidence from Wikipedia relating to the claim and then reasoning over this evidence to classify'),\n",
       " Document(metadata={'producer': 'macOS Version 10.15.7 (Build 19H15) Quartz PDFContext', 'creator': 'LaTeX with hyperref', 'creationdate': \"D:20210107190157Z00'00'\", 'moddate': \"D:20210107190157Z00'00'\", 'source': 'RAG_paper.pdf', 'total_pages': 16, 'page': 4, 'page_label': '5'}, page_content='whether the claim is true, false, or unveriﬁable from Wikipedia alone. FEVER is a retrieval problem\\ncoupled with an challenging entailment reasoning task. It also provides an appropriate testbed for'),\n",
       " Document(metadata={'producer': 'macOS Version 10.15.7 (Build 19H15) Quartz PDFContext', 'creator': 'LaTeX with hyperref', 'creationdate': \"D:20210107190157Z00'00'\", 'moddate': \"D:20210107190157Z00'00'\", 'source': 'RAG_paper.pdf', 'total_pages': 16, 'page': 4, 'page_label': '5'}, page_content='exploring the RAG models’ ability to handle classiﬁcation rather than generation. We map FEVER\\nclass labels (supports, refutes, or not enough info) to single output tokens and directly train with'),\n",
       " Document(metadata={'producer': 'macOS Version 10.15.7 (Build 19H15) Quartz PDFContext', 'creator': 'LaTeX with hyperref', 'creationdate': \"D:20210107190157Z00'00'\", 'moddate': \"D:20210107190157Z00'00'\", 'source': 'RAG_paper.pdf', 'total_pages': 16, 'page': 4, 'page_label': '5'}, page_content='claim-class pairs. Crucially, unlike most other approaches to FEVER, we do not use supervision on'),\n",
       " Document(metadata={'producer': 'macOS Version 10.15.7 (Build 19H15) Quartz PDFContext', 'creator': 'LaTeX with hyperref', 'creationdate': \"D:20210107190157Z00'00'\", 'moddate': \"D:20210107190157Z00'00'\", 'source': 'RAG_paper.pdf', 'total_pages': 16, 'page': 4, 'page_label': '5'}, page_content='retrieved evidence. In many real-world applications, retrieval supervision signals aren’t available, and'),\n",
       " Document(metadata={'producer': 'macOS Version 10.15.7 (Build 19H15) Quartz PDFContext', 'creator': 'LaTeX with hyperref', 'creationdate': \"D:20210107190157Z00'00'\", 'moddate': \"D:20210107190157Z00'00'\", 'source': 'RAG_paper.pdf', 'total_pages': 16, 'page': 4, 'page_label': '5'}, page_content='models that do not require such supervision will be applicable to a wider range of tasks. We explore'),\n",
       " Document(metadata={'producer': 'macOS Version 10.15.7 (Build 19H15) Quartz PDFContext', 'creator': 'LaTeX with hyperref', 'creationdate': \"D:20210107190157Z00'00'\", 'moddate': \"D:20210107190157Z00'00'\", 'source': 'RAG_paper.pdf', 'total_pages': 16, 'page': 4, 'page_label': '5'}, page_content='two variants: the standard 3-way classiﬁcation task (supports/refutes/not enough info) and the 2-way'),\n",
       " Document(metadata={'producer': 'macOS Version 10.15.7 (Build 19H15) Quartz PDFContext', 'creator': 'LaTeX with hyperref', 'creationdate': \"D:20210107190157Z00'00'\", 'moddate': \"D:20210107190157Z00'00'\", 'source': 'RAG_paper.pdf', 'total_pages': 16, 'page': 4, 'page_label': '5'}, page_content='(supports/refutes) task studied in Thorne and Vlachos [57]. In both cases we report label accuracy.\\n4 Results\\n4.1 Open-domain Question Answering'),\n",
       " Document(metadata={'producer': 'macOS Version 10.15.7 (Build 19H15) Quartz PDFContext', 'creator': 'LaTeX with hyperref', 'creationdate': \"D:20210107190157Z00'00'\", 'moddate': \"D:20210107190157Z00'00'\", 'source': 'RAG_paper.pdf', 'total_pages': 16, 'page': 4, 'page_label': '5'}, page_content='Table 1 shows results for RAG along with state-of-the-art models. On all four open-domain QA\\ntasks, RAG sets a new state of the art (only on the T5-comparable split for TQA). RAG combines'),\n",
       " Document(metadata={'producer': 'macOS Version 10.15.7 (Build 19H15) Quartz PDFContext', 'creator': 'LaTeX with hyperref', 'creationdate': \"D:20210107190157Z00'00'\", 'moddate': \"D:20210107190157Z00'00'\", 'source': 'RAG_paper.pdf', 'total_pages': 16, 'page': 4, 'page_label': '5'}, page_content='the generation ﬂexibility of the “closed-book” (parametric only) approaches and the performance of\\n\"open-book\" retrieval-based approaches. Unlike REALM and T5+SSM, RAG enjoys strong results'),\n",
       " Document(metadata={'producer': 'macOS Version 10.15.7 (Build 19H15) Quartz PDFContext', 'creator': 'LaTeX with hyperref', 'creationdate': \"D:20210107190157Z00'00'\", 'moddate': \"D:20210107190157Z00'00'\", 'source': 'RAG_paper.pdf', 'total_pages': 16, 'page': 4, 'page_label': '5'}, page_content='without expensive, specialized “salient span masking” pre-training [20]. It is worth noting that RAG’s'),\n",
       " Document(metadata={'producer': 'macOS Version 10.15.7 (Build 19H15) Quartz PDFContext', 'creator': 'LaTeX with hyperref', 'creationdate': \"D:20210107190157Z00'00'\", 'moddate': \"D:20210107190157Z00'00'\", 'source': 'RAG_paper.pdf', 'total_pages': 16, 'page': 4, 'page_label': '5'}, page_content='retriever is initialized using DPR’s retriever, which uses retrieval supervision on Natural Questions\\nand TriviaQA. RAG compares favourably to the DPR QA system, which uses a BERT-based “cross-'),\n",
       " Document(metadata={'producer': 'macOS Version 10.15.7 (Build 19H15) Quartz PDFContext', 'creator': 'LaTeX with hyperref', 'creationdate': \"D:20210107190157Z00'00'\", 'moddate': \"D:20210107190157Z00'00'\", 'source': 'RAG_paper.pdf', 'total_pages': 16, 'page': 4, 'page_label': '5'}, page_content='encoder” to re-rank documents, along with an extractive reader. RAG demonstrates that neither a\\nre-ranker nor extractive reader is necessary for state-of-the-art performance.'),\n",
       " Document(metadata={'producer': 'macOS Version 10.15.7 (Build 19H15) Quartz PDFContext', 'creator': 'LaTeX with hyperref', 'creationdate': \"D:20210107190157Z00'00'\", 'moddate': \"D:20210107190157Z00'00'\", 'source': 'RAG_paper.pdf', 'total_pages': 16, 'page': 4, 'page_label': '5'}, page_content='There are several advantages to generating answers even when it is possible to extract them. Docu-'),\n",
       " Document(metadata={'producer': 'macOS Version 10.15.7 (Build 19H15) Quartz PDFContext', 'creator': 'LaTeX with hyperref', 'creationdate': \"D:20210107190157Z00'00'\", 'moddate': \"D:20210107190157Z00'00'\", 'source': 'RAG_paper.pdf', 'total_pages': 16, 'page': 4, 'page_label': '5'}, page_content='ments with clues about the answer but do not contain the answer verbatim can still contribute towards'),\n",
       " Document(metadata={'producer': 'macOS Version 10.15.7 (Build 19H15) Quartz PDFContext', 'creator': 'LaTeX with hyperref', 'creationdate': \"D:20210107190157Z00'00'\", 'moddate': \"D:20210107190157Z00'00'\", 'source': 'RAG_paper.pdf', 'total_pages': 16, 'page': 4, 'page_label': '5'}, page_content='a correct answer being generated, which is not possible with standard extractive approaches, leading\\n5'),\n",
       " Document(metadata={'producer': 'macOS Version 10.15.7 (Build 19H15) Quartz PDFContext', 'creator': 'LaTeX with hyperref', 'creationdate': \"D:20210107190157Z00'00'\", 'moddate': \"D:20210107190157Z00'00'\", 'source': 'RAG_paper.pdf', 'total_pages': 16, 'page': 5, 'page_label': '6'}, page_content='Table 1: Open-Domain QA Test Scores. For TQA,\\nleft column uses the standard test set for Open-\\nDomain QA, right column uses the TQA-Wiki\\ntest set. See Appendix D for further details.'),\n",
       " Document(metadata={'producer': 'macOS Version 10.15.7 (Build 19H15) Quartz PDFContext', 'creator': 'LaTeX with hyperref', 'creationdate': \"D:20210107190157Z00'00'\", 'moddate': \"D:20210107190157Z00'00'\", 'source': 'RAG_paper.pdf', 'total_pages': 16, 'page': 5, 'page_label': '6'}, page_content='Model NQ TQA WQ CT\\nClosed\\nBook\\nT5-11B [52] 34.5 - /50.1 37.4 -\\nT5-11B+SSM[52] 36.6 - /60.5 44.7 -\\nOpen\\nBook\\nREALM [20] 40.4 - / - 40.7 46.8\\nDPR [26] 41.5 57.9/ - 41.1 50.6'),\n",
       " Document(metadata={'producer': 'macOS Version 10.15.7 (Build 19H15) Quartz PDFContext', 'creator': 'LaTeX with hyperref', 'creationdate': \"D:20210107190157Z00'00'\", 'moddate': \"D:20210107190157Z00'00'\", 'source': 'RAG_paper.pdf', 'total_pages': 16, 'page': 5, 'page_label': '6'}, page_content='RAG-Token 44.1 55.2/66.1 45.5 50.0\\nRAG-Seq. 44.5 56.8/68.0 45.2 52.2\\nTable 2: Generation and classiﬁcation Test Scores.\\nMS-MARCO SotA is [4], FEVER-3 is [68] and'),\n",
       " Document(metadata={'producer': 'macOS Version 10.15.7 (Build 19H15) Quartz PDFContext', 'creator': 'LaTeX with hyperref', 'creationdate': \"D:20210107190157Z00'00'\", 'moddate': \"D:20210107190157Z00'00'\", 'source': 'RAG_paper.pdf', 'total_pages': 16, 'page': 5, 'page_label': '6'}, page_content='FEVER-2 is [57] *Uses gold context/evidence.\\nBest model without gold access underlined.\\nModel Jeopardy MSMARCO FVR3 FVR2\\nB-1 QB-1 R-L B-1 Label Acc.\\nSotA - - 49.8* 49.9* 76.8 92.2 *'),\n",
       " Document(metadata={'producer': 'macOS Version 10.15.7 (Build 19H15) Quartz PDFContext', 'creator': 'LaTeX with hyperref', 'creationdate': \"D:20210107190157Z00'00'\", 'moddate': \"D:20210107190157Z00'00'\", 'source': 'RAG_paper.pdf', 'total_pages': 16, 'page': 5, 'page_label': '6'}, page_content='BART 15.1 19.7 38.2 41.6 64.0 81.1\\nRAG-Tok. 17.3 22.2 40.1 41.5 72.5 89.5RAG-Seq. 14.7 21.4 40.8 44.2\\nto more effective marginalization over documents. Furthermore, RAG can generate correct answers'),\n",
       " Document(metadata={'producer': 'macOS Version 10.15.7 (Build 19H15) Quartz PDFContext', 'creator': 'LaTeX with hyperref', 'creationdate': \"D:20210107190157Z00'00'\", 'moddate': \"D:20210107190157Z00'00'\", 'source': 'RAG_paper.pdf', 'total_pages': 16, 'page': 5, 'page_label': '6'}, page_content='even when the correct answer is not in any retrieved document, achieving 11.8% accuracy in such\\ncases for NQ, where an extractive model would score 0%.\\n4.2 Abstractive Question Answering'),\n",
       " Document(metadata={'producer': 'macOS Version 10.15.7 (Build 19H15) Quartz PDFContext', 'creator': 'LaTeX with hyperref', 'creationdate': \"D:20210107190157Z00'00'\", 'moddate': \"D:20210107190157Z00'00'\", 'source': 'RAG_paper.pdf', 'total_pages': 16, 'page': 5, 'page_label': '6'}, page_content='As shown in Table 2, RAG-Sequence outperforms BART on Open MS-MARCO NLG by 2.6 Bleu\\npoints and 2.6 Rouge-L points. RAG approaches state-of-the-art model performance, which is'),\n",
       " Document(metadata={'producer': 'macOS Version 10.15.7 (Build 19H15) Quartz PDFContext', 'creator': 'LaTeX with hyperref', 'creationdate': \"D:20210107190157Z00'00'\", 'moddate': \"D:20210107190157Z00'00'\", 'source': 'RAG_paper.pdf', 'total_pages': 16, 'page': 5, 'page_label': '6'}, page_content='impressive given that (i) those models access gold passages with speciﬁc information required to\\ngenerate the reference answer, (ii) many questions are unanswerable without the gold passages, and'),\n",
       " Document(metadata={'producer': 'macOS Version 10.15.7 (Build 19H15) Quartz PDFContext', 'creator': 'LaTeX with hyperref', 'creationdate': \"D:20210107190157Z00'00'\", 'moddate': \"D:20210107190157Z00'00'\", 'source': 'RAG_paper.pdf', 'total_pages': 16, 'page': 5, 'page_label': '6'}, page_content='(iii) not all questions are answerable from Wikipedia alone. Table 3 shows some generated answers\\nfrom our models. Qualitatively, we ﬁnd that RAG models hallucinate less and generate factually'),\n",
       " Document(metadata={'producer': 'macOS Version 10.15.7 (Build 19H15) Quartz PDFContext', 'creator': 'LaTeX with hyperref', 'creationdate': \"D:20210107190157Z00'00'\", 'moddate': \"D:20210107190157Z00'00'\", 'source': 'RAG_paper.pdf', 'total_pages': 16, 'page': 5, 'page_label': '6'}, page_content='correct text more often than BART. Later, we also show that RAG generations are more diverse than\\nBART generations (see §4.5).\\n4.3 Jeopardy Question Generation'),\n",
       " Document(metadata={'producer': 'macOS Version 10.15.7 (Build 19H15) Quartz PDFContext', 'creator': 'LaTeX with hyperref', 'creationdate': \"D:20210107190157Z00'00'\", 'moddate': \"D:20210107190157Z00'00'\", 'source': 'RAG_paper.pdf', 'total_pages': 16, 'page': 5, 'page_label': '6'}, page_content='Table 2 shows that RAG-Token performs better than RAG-Sequence on Jeopardy question generation,\\nwith both models outperforming BART on Q-BLEU-1. Table 4 shows human evaluation results, over'),\n",
       " Document(metadata={'producer': 'macOS Version 10.15.7 (Build 19H15) Quartz PDFContext', 'creator': 'LaTeX with hyperref', 'creationdate': \"D:20210107190157Z00'00'\", 'moddate': \"D:20210107190157Z00'00'\", 'source': 'RAG_paper.pdf', 'total_pages': 16, 'page': 5, 'page_label': '6'}, page_content='452 pairs of generations from BART and RAG-Token. Evaluators indicated that BART was more\\nfactual than RAG in only 7.1% of cases, while RAG was more factual in 42.7% of cases, and both'),\n",
       " Document(metadata={'producer': 'macOS Version 10.15.7 (Build 19H15) Quartz PDFContext', 'creator': 'LaTeX with hyperref', 'creationdate': \"D:20210107190157Z00'00'\", 'moddate': \"D:20210107190157Z00'00'\", 'source': 'RAG_paper.pdf', 'total_pages': 16, 'page': 5, 'page_label': '6'}, page_content='RAG and BART were factual in a further 17% of cases, clearly demonstrating the effectiveness of\\nRAG on the task over a state-of-the-art generation model. Evaluators also ﬁnd RAG generations to'),\n",
       " Document(metadata={'producer': 'macOS Version 10.15.7 (Build 19H15) Quartz PDFContext', 'creator': 'LaTeX with hyperref', 'creationdate': \"D:20210107190157Z00'00'\", 'moddate': \"D:20210107190157Z00'00'\", 'source': 'RAG_paper.pdf', 'total_pages': 16, 'page': 5, 'page_label': '6'}, page_content='be more speciﬁc by a large margin. Table 3 shows typical generations from each model.\\nJeopardy questions often contain two separate pieces of information, and RAG-Token may perform'),\n",
       " Document(metadata={'producer': 'macOS Version 10.15.7 (Build 19H15) Quartz PDFContext', 'creator': 'LaTeX with hyperref', 'creationdate': \"D:20210107190157Z00'00'\", 'moddate': \"D:20210107190157Z00'00'\", 'source': 'RAG_paper.pdf', 'total_pages': 16, 'page': 5, 'page_label': '6'}, page_content='best because it can generate responses that combine content from several documents. Figure 2 shows\\nan example. When generating “Sun”, the posterior is high for document 2 which mentions “The'),\n",
       " Document(metadata={'producer': 'macOS Version 10.15.7 (Build 19H15) Quartz PDFContext', 'creator': 'LaTeX with hyperref', 'creationdate': \"D:20210107190157Z00'00'\", 'moddate': \"D:20210107190157Z00'00'\", 'source': 'RAG_paper.pdf', 'total_pages': 16, 'page': 5, 'page_label': '6'}, page_content='Sun Also Rises”. Similarly, document 1 dominates the posterior when “A Farewell to Arms” is\\ngenerated. Intriguingly, after the ﬁrst token of each book is generated, the document posterior ﬂattens.'),\n",
       " Document(metadata={'producer': 'macOS Version 10.15.7 (Build 19H15) Quartz PDFContext', 'creator': 'LaTeX with hyperref', 'creationdate': \"D:20210107190157Z00'00'\", 'moddate': \"D:20210107190157Z00'00'\", 'source': 'RAG_paper.pdf', 'total_pages': 16, 'page': 5, 'page_label': '6'}, page_content='This observation suggests that the generator can complete the titles without depending on speciﬁc\\ndocuments. In other words, the model’s parametric knowledge is sufﬁcient to complete the titles. We'),\n",
       " Document(metadata={'producer': 'macOS Version 10.15.7 (Build 19H15) Quartz PDFContext', 'creator': 'LaTeX with hyperref', 'creationdate': \"D:20210107190157Z00'00'\", 'moddate': \"D:20210107190157Z00'00'\", 'source': 'RAG_paper.pdf', 'total_pages': 16, 'page': 5, 'page_label': '6'}, page_content='ﬁnd evidence for this hypothesis by feeding the BART-only baseline with the partial decoding\"The\\nSun. BART completes the generation\"The Sun Also Rises\" is a novel by this author of \"The Sun'),\n",
       " Document(metadata={'producer': 'macOS Version 10.15.7 (Build 19H15) Quartz PDFContext', 'creator': 'LaTeX with hyperref', 'creationdate': \"D:20210107190157Z00'00'\", 'moddate': \"D:20210107190157Z00'00'\", 'source': 'RAG_paper.pdf', 'total_pages': 16, 'page': 5, 'page_label': '6'}, page_content='Also Rises\" indicating the title \"The Sun Also Rises\" is stored in BART’s parameters. Similarly,\\nBART will complete the partial decoding\"The Sun Also Rises\" is a novel by this author of \"A'),\n",
       " Document(metadata={'producer': 'macOS Version 10.15.7 (Build 19H15) Quartz PDFContext', 'creator': 'LaTeX with hyperref', 'creationdate': \"D:20210107190157Z00'00'\", 'moddate': \"D:20210107190157Z00'00'\", 'source': 'RAG_paper.pdf', 'total_pages': 16, 'page': 5, 'page_label': '6'}, page_content='with \"The Sun Also Rises\" is a novel by this author of \"A Farewell to Arms\". This example shows\\nhow parametric and non-parametric memorieswork together—the non-parametric component helps'),\n",
       " Document(metadata={'producer': 'macOS Version 10.15.7 (Build 19H15) Quartz PDFContext', 'creator': 'LaTeX with hyperref', 'creationdate': \"D:20210107190157Z00'00'\", 'moddate': \"D:20210107190157Z00'00'\", 'source': 'RAG_paper.pdf', 'total_pages': 16, 'page': 5, 'page_label': '6'}, page_content='to guide the generation, drawing out speciﬁc knowledge stored in the parametric memory.\\n4.4 Fact Veriﬁcation\\nTable 2 shows our results on FEVER. For 3-way classiﬁcation, RAG scores are within 4.3% of'),\n",
       " Document(metadata={'producer': 'macOS Version 10.15.7 (Build 19H15) Quartz PDFContext', 'creator': 'LaTeX with hyperref', 'creationdate': \"D:20210107190157Z00'00'\", 'moddate': \"D:20210107190157Z00'00'\", 'source': 'RAG_paper.pdf', 'total_pages': 16, 'page': 5, 'page_label': '6'}, page_content='state-of-the-art models, which are complex pipeline systems with domain-speciﬁc architectures and'),\n",
       " Document(metadata={'producer': 'macOS Version 10.15.7 (Build 19H15) Quartz PDFContext', 'creator': 'LaTeX with hyperref', 'creationdate': \"D:20210107190157Z00'00'\", 'moddate': \"D:20210107190157Z00'00'\", 'source': 'RAG_paper.pdf', 'total_pages': 16, 'page': 5, 'page_label': '6'}, page_content='substantial engineering, trained using intermediate retrieval supervision, which RAG does not require.\\n6'),\n",
       " Document(metadata={'producer': 'macOS Version 10.15.7 (Build 19H15) Quartz PDFContext', 'creator': 'LaTeX with hyperref', 'creationdate': \"D:20210107190157Z00'00'\", 'moddate': \"D:20210107190157Z00'00'\", 'source': 'RAG_paper.pdf', 'total_pages': 16, 'page': 6, 'page_label': '7'}, page_content='Document 1: his works are considered classics of Americanliterature ... His wartime experiences formed the basis for his novel”A Farewell to Arms”(1929) ...'),\n",
       " Document(metadata={'producer': 'macOS Version 10.15.7 (Build 19H15) Quartz PDFContext', 'creator': 'LaTeX with hyperref', 'creationdate': \"D:20210107190157Z00'00'\", 'moddate': \"D:20210107190157Z00'00'\", 'source': 'RAG_paper.pdf', 'total_pages': 16, 'page': 6, 'page_label': '7'}, page_content='Document 2: ... artists of the 1920s ”Lost Generation” expatriatecommunity. His debut novel,”The Sun Also Rises”, was publishedin 1926.\\nBOS”TheSunAlsoRises” is a\\nnovelbythisauthor\\nof” AFarewelltoArms'),\n",
       " Document(metadata={'producer': 'macOS Version 10.15.7 (Build 19H15) Quartz PDFContext', 'creator': 'LaTeX with hyperref', 'creationdate': \"D:20210107190157Z00'00'\", 'moddate': \"D:20210107190157Z00'00'\", 'source': 'RAG_paper.pdf', 'total_pages': 16, 'page': 6, 'page_label': '7'}, page_content='of” AFarewelltoArms\\n”\\nDoc 1\\nDoc 2\\nDoc 3\\nDoc 4\\nDoc 5\\nFigure 2: RAG-Token document posteriorp(zi|x, yi,y \\x00i) for each generated token for input “Hem-'),\n",
       " Document(metadata={'producer': 'macOS Version 10.15.7 (Build 19H15) Quartz PDFContext', 'creator': 'LaTeX with hyperref', 'creationdate': \"D:20210107190157Z00'00'\", 'moddate': \"D:20210107190157Z00'00'\", 'source': 'RAG_paper.pdf', 'total_pages': 16, 'page': 6, 'page_label': '7'}, page_content='ingway\" for Jeopardy generation with 5 retrieved documents. The posterior for document 1 is high\\nwhen generating “A Farewell to Arms\" and for document 2 when generating “The Sun Also Rises\".'),\n",
       " Document(metadata={'producer': 'macOS Version 10.15.7 (Build 19H15) Quartz PDFContext', 'creator': 'LaTeX with hyperref', 'creationdate': \"D:20210107190157Z00'00'\", 'moddate': \"D:20210107190157Z00'00'\", 'source': 'RAG_paper.pdf', 'total_pages': 16, 'page': 6, 'page_label': '7'}, page_content='Table 3: Examples from generation tasks. RAG models generate more speciﬁc and factually accurate\\nresponses. ‘?’ indicates factually incorrect responses, * indicates partially correct responses.'),\n",
       " Document(metadata={'producer': 'macOS Version 10.15.7 (Build 19H15) Quartz PDFContext', 'creator': 'LaTeX with hyperref', 'creationdate': \"D:20210107190157Z00'00'\", 'moddate': \"D:20210107190157Z00'00'\", 'source': 'RAG_paper.pdf', 'total_pages': 16, 'page': 6, 'page_label': '7'}, page_content='Task Input Model Generation\\nMS-\\nMARCO\\ndeﬁne middle\\near\\nBART ?The middle ear is the part of the ear between the middle ear and the nose.'),\n",
       " Document(metadata={'producer': 'macOS Version 10.15.7 (Build 19H15) Quartz PDFContext', 'creator': 'LaTeX with hyperref', 'creationdate': \"D:20210107190157Z00'00'\", 'moddate': \"D:20210107190157Z00'00'\", 'source': 'RAG_paper.pdf', 'total_pages': 16, 'page': 6, 'page_label': '7'}, page_content='RAG-T The middle ear is the portion of the ear internal to the eardrum.\\nRAG-S The middle ear includes the tympanic cavity and the three ossicles.\\nwhat currency\\nneeded in\\nscotland'),\n",
       " Document(metadata={'producer': 'macOS Version 10.15.7 (Build 19H15) Quartz PDFContext', 'creator': 'LaTeX with hyperref', 'creationdate': \"D:20210107190157Z00'00'\", 'moddate': \"D:20210107190157Z00'00'\", 'source': 'RAG_paper.pdf', 'total_pages': 16, 'page': 6, 'page_label': '7'}, page_content='needed in\\nscotland\\nBART The currency needed in Scotland is Pound sterling.\\nRAG-T Pound is the currency needed in Scotland.\\nRAG-S The currency needed in Scotland is the pound sterling.\\nJeopardy'),\n",
       " Document(metadata={'producer': 'macOS Version 10.15.7 (Build 19H15) Quartz PDFContext', 'creator': 'LaTeX with hyperref', 'creationdate': \"D:20210107190157Z00'00'\", 'moddate': \"D:20210107190157Z00'00'\", 'source': 'RAG_paper.pdf', 'total_pages': 16, 'page': 6, 'page_label': '7'}, page_content='Jeopardy\\nQuestion\\nGener\\n-ation\\nWashington\\nBART ?This state has the largest number of counties in the U.S.\\nRAG-T It’s the only U.S. state named for a U.S. president'),\n",
       " Document(metadata={'producer': 'macOS Version 10.15.7 (Build 19H15) Quartz PDFContext', 'creator': 'LaTeX with hyperref', 'creationdate': \"D:20210107190157Z00'00'\", 'moddate': \"D:20210107190157Z00'00'\", 'source': 'RAG_paper.pdf', 'total_pages': 16, 'page': 6, 'page_label': '7'}, page_content='RAG-S It’s the state where you’ll ﬁnd Mount Rainier National Park\\nThe Divine\\nComedy\\nBART *This epic poem by Dante is divided into 3 parts: the Inferno, the Purgatorio & the Purgatorio'),\n",
       " Document(metadata={'producer': 'macOS Version 10.15.7 (Build 19H15) Quartz PDFContext', 'creator': 'LaTeX with hyperref', 'creationdate': \"D:20210107190157Z00'00'\", 'moddate': \"D:20210107190157Z00'00'\", 'source': 'RAG_paper.pdf', 'total_pages': 16, 'page': 6, 'page_label': '7'}, page_content='RAG-T Dante’s \"Inferno\" is the ﬁrst part of this epic poem\\nRAG-S This 14th century work is divided into 3 sections: \"Inferno\", \"Purgatorio\" & \"Paradiso\"'),\n",
       " Document(metadata={'producer': 'macOS Version 10.15.7 (Build 19H15) Quartz PDFContext', 'creator': 'LaTeX with hyperref', 'creationdate': \"D:20210107190157Z00'00'\", 'moddate': \"D:20210107190157Z00'00'\", 'source': 'RAG_paper.pdf', 'total_pages': 16, 'page': 6, 'page_label': '7'}, page_content='For 2-way classiﬁcation, we compare against Thorne and Vlachos[57], who train RoBERTa [35]\\nto classify the claim as true or false given the gold evidence sentence. RAG achieves an accuracy'),\n",
       " Document(metadata={'producer': 'macOS Version 10.15.7 (Build 19H15) Quartz PDFContext', 'creator': 'LaTeX with hyperref', 'creationdate': \"D:20210107190157Z00'00'\", 'moddate': \"D:20210107190157Z00'00'\", 'source': 'RAG_paper.pdf', 'total_pages': 16, 'page': 6, 'page_label': '7'}, page_content='within 2.7% of this model, despite being supplied with only the claim and retrieving its own evidence.\\nWe also analyze whether documents retrieved by RAG correspond to documents annotated as gold'),\n",
       " Document(metadata={'producer': 'macOS Version 10.15.7 (Build 19H15) Quartz PDFContext', 'creator': 'LaTeX with hyperref', 'creationdate': \"D:20210107190157Z00'00'\", 'moddate': \"D:20210107190157Z00'00'\", 'source': 'RAG_paper.pdf', 'total_pages': 16, 'page': 6, 'page_label': '7'}, page_content='evidence in FEVER. We calculate the overlap in article titles between the topk documents retrieved\\nby RAG and gold evidence annotations. We ﬁnd that the top retrieved document is from a gold article'),\n",
       " Document(metadata={'producer': 'macOS Version 10.15.7 (Build 19H15) Quartz PDFContext', 'creator': 'LaTeX with hyperref', 'creationdate': \"D:20210107190157Z00'00'\", 'moddate': \"D:20210107190157Z00'00'\", 'source': 'RAG_paper.pdf', 'total_pages': 16, 'page': 6, 'page_label': '7'}, page_content='in 71% of cases, and a gold article is present in the top 10 retrieved articles in 90% of cases.\\n4.5 Additional Results'),\n",
       " Document(metadata={'producer': 'macOS Version 10.15.7 (Build 19H15) Quartz PDFContext', 'creator': 'LaTeX with hyperref', 'creationdate': \"D:20210107190157Z00'00'\", 'moddate': \"D:20210107190157Z00'00'\", 'source': 'RAG_paper.pdf', 'total_pages': 16, 'page': 6, 'page_label': '7'}, page_content='4.5 Additional Results\\nGeneration Diversity Section 4.3 shows that RAG models are more factual and speciﬁc than'),\n",
       " Document(metadata={'producer': 'macOS Version 10.15.7 (Build 19H15) Quartz PDFContext', 'creator': 'LaTeX with hyperref', 'creationdate': \"D:20210107190157Z00'00'\", 'moddate': \"D:20210107190157Z00'00'\", 'source': 'RAG_paper.pdf', 'total_pages': 16, 'page': 6, 'page_label': '7'}, page_content='BART for Jeopardy question generation. Following recent work on diversity-promoting decoding\\n[33, 59, 39], we also investigate generation diversity by calculating the ratio of distinct ngrams to'),\n",
       " Document(metadata={'producer': 'macOS Version 10.15.7 (Build 19H15) Quartz PDFContext', 'creator': 'LaTeX with hyperref', 'creationdate': \"D:20210107190157Z00'00'\", 'moddate': \"D:20210107190157Z00'00'\", 'source': 'RAG_paper.pdf', 'total_pages': 16, 'page': 6, 'page_label': '7'}, page_content='total ngrams generated by different models. Table 5 shows that RAG-Sequence’s generations are\\nmore diverse than RAG-Token’s, and both are signiﬁcantly more diverse than BART without needing'),\n",
       " Document(metadata={'producer': 'macOS Version 10.15.7 (Build 19H15) Quartz PDFContext', 'creator': 'LaTeX with hyperref', 'creationdate': \"D:20210107190157Z00'00'\", 'moddate': \"D:20210107190157Z00'00'\", 'source': 'RAG_paper.pdf', 'total_pages': 16, 'page': 6, 'page_label': '7'}, page_content='any diversity-promoting decoding.\\nRetrieval Ablations A key feature of RAG is learning to retrieve relevant information for the task.'),\n",
       " Document(metadata={'producer': 'macOS Version 10.15.7 (Build 19H15) Quartz PDFContext', 'creator': 'LaTeX with hyperref', 'creationdate': \"D:20210107190157Z00'00'\", 'moddate': \"D:20210107190157Z00'00'\", 'source': 'RAG_paper.pdf', 'total_pages': 16, 'page': 6, 'page_label': '7'}, page_content='To assess the effectiveness of the retrieval mechanism, we run ablations where we freeze the retriever'),\n",
       " Document(metadata={'producer': 'macOS Version 10.15.7 (Build 19H15) Quartz PDFContext', 'creator': 'LaTeX with hyperref', 'creationdate': \"D:20210107190157Z00'00'\", 'moddate': \"D:20210107190157Z00'00'\", 'source': 'RAG_paper.pdf', 'total_pages': 16, 'page': 6, 'page_label': '7'}, page_content='during training. As shown in Table 6, learned retrieval improves results for all tasks. We compare\\nRAG’s dense retriever to a word overlap-based BM25 retriever [53]. Here, we replace RAG’s retriever'),\n",
       " Document(metadata={'producer': 'macOS Version 10.15.7 (Build 19H15) Quartz PDFContext', 'creator': 'LaTeX with hyperref', 'creationdate': \"D:20210107190157Z00'00'\", 'moddate': \"D:20210107190157Z00'00'\", 'source': 'RAG_paper.pdf', 'total_pages': 16, 'page': 6, 'page_label': '7'}, page_content='with a ﬁxed BM25 system, and use BM25 retrieval scores as logits when calculatingp(z|x). Table\\n6 show the results. For FEVER, BM25 performs best, perhaps since FEVER claims are heavily'),\n",
       " Document(metadata={'producer': 'macOS Version 10.15.7 (Build 19H15) Quartz PDFContext', 'creator': 'LaTeX with hyperref', 'creationdate': \"D:20210107190157Z00'00'\", 'moddate': \"D:20210107190157Z00'00'\", 'source': 'RAG_paper.pdf', 'total_pages': 16, 'page': 6, 'page_label': '7'}, page_content='entity-centric and thus well-suited for word overlap-based retrieval. Differentiable retrieval improves\\nresults on all other tasks, especially for Open-Domain QA, where it is crucial.'),\n",
       " Document(metadata={'producer': 'macOS Version 10.15.7 (Build 19H15) Quartz PDFContext', 'creator': 'LaTeX with hyperref', 'creationdate': \"D:20210107190157Z00'00'\", 'moddate': \"D:20210107190157Z00'00'\", 'source': 'RAG_paper.pdf', 'total_pages': 16, 'page': 6, 'page_label': '7'}, page_content='Index hot-swapping An advantage of non-parametric memory models like RAG is that knowledge\\ncan be easily updated at test time. Parametric-only models like T5 or BART need further training to'),\n",
       " Document(metadata={'producer': 'macOS Version 10.15.7 (Build 19H15) Quartz PDFContext', 'creator': 'LaTeX with hyperref', 'creationdate': \"D:20210107190157Z00'00'\", 'moddate': \"D:20210107190157Z00'00'\", 'source': 'RAG_paper.pdf', 'total_pages': 16, 'page': 6, 'page_label': '7'}, page_content='update their behavior as the world changes. To demonstrate, we build an index using the DrQA [5]\\nWikipedia dump from December 2016 and compare outputs from RAG using this index to the newer'),\n",
       " Document(metadata={'producer': 'macOS Version 10.15.7 (Build 19H15) Quartz PDFContext', 'creator': 'LaTeX with hyperref', 'creationdate': \"D:20210107190157Z00'00'\", 'moddate': \"D:20210107190157Z00'00'\", 'source': 'RAG_paper.pdf', 'total_pages': 16, 'page': 6, 'page_label': '7'}, page_content='index from our main results (December 2018). We prepare a list of 82 world leaders who had changed\\nbetween these dates and use a template “Who is {position}?” (e.g. “Who is the President of Peru?”)\\n7'),\n",
       " Document(metadata={'producer': 'macOS Version 10.15.7 (Build 19H15) Quartz PDFContext', 'creator': 'LaTeX with hyperref', 'creationdate': \"D:20210107190157Z00'00'\", 'moddate': \"D:20210107190157Z00'00'\", 'source': 'RAG_paper.pdf', 'total_pages': 16, 'page': 7, 'page_label': '8'}, page_content='Table 4: Human assessments for the Jeopardy\\nQuestion Generation Task.\\nFactuality Speciﬁcity\\nBART better 7.1% 16.8%\\nRAG better 42.7% 37.4%\\nBoth good 11.7% 11.8%\\nBoth poor 17.7% 6.9%'),\n",
       " Document(metadata={'producer': 'macOS Version 10.15.7 (Build 19H15) Quartz PDFContext', 'creator': 'LaTeX with hyperref', 'creationdate': \"D:20210107190157Z00'00'\", 'moddate': \"D:20210107190157Z00'00'\", 'source': 'RAG_paper.pdf', 'total_pages': 16, 'page': 7, 'page_label': '8'}, page_content='Both poor 17.7% 6.9%\\nNo majority 20.8% 20.1%\\nTable 5: Ratio of distinct to total tri-grams for\\ngeneration tasks.\\nMSMARCO Jeopardy QGen\\nGold 89.6% 90.0%\\nBART 70.7% 32.4%\\nRAG-Token 77.8% 46.8%'),\n",
       " Document(metadata={'producer': 'macOS Version 10.15.7 (Build 19H15) Quartz PDFContext', 'creator': 'LaTeX with hyperref', 'creationdate': \"D:20210107190157Z00'00'\", 'moddate': \"D:20210107190157Z00'00'\", 'source': 'RAG_paper.pdf', 'total_pages': 16, 'page': 7, 'page_label': '8'}, page_content='RAG-Token 77.8% 46.8%\\nRAG-Seq. 83.5% 53.8%\\nTable 6: Ablations on the dev set. As FEVER is a classiﬁcation task, both RAG models are equivalent.\\nModel NQ TQA WQ CT Jeopardy-QGen MSMarco FVR-3 FVR-2'),\n",
       " Document(metadata={'producer': 'macOS Version 10.15.7 (Build 19H15) Quartz PDFContext', 'creator': 'LaTeX with hyperref', 'creationdate': \"D:20210107190157Z00'00'\", 'moddate': \"D:20210107190157Z00'00'\", 'source': 'RAG_paper.pdf', 'total_pages': 16, 'page': 7, 'page_label': '8'}, page_content='Exact Match B-1 QB-1 R-L B-1 Label Accuracy\\nRAG-Token-BM25 29.7 41.5 32.1 33.1 17.5 22.3 55.5 48.4 75.1 91.6RAG-Sequence-BM25 31.8 44.1 36.6 33.8 11.1 19.5 56.5 46.9'),\n",
       " Document(metadata={'producer': 'macOS Version 10.15.7 (Build 19H15) Quartz PDFContext', 'creator': 'LaTeX with hyperref', 'creationdate': \"D:20210107190157Z00'00'\", 'moddate': \"D:20210107190157Z00'00'\", 'source': 'RAG_paper.pdf', 'total_pages': 16, 'page': 7, 'page_label': '8'}, page_content='RAG-Token-Frozen 37.8 50.1 37.1 51.1 16.7 21.7 55.9 49.4 72.9 89.4RAG-Sequence-Frozen 41.2 52.1 41.8 52.6 11.8 19.6 56.7 47.3'),\n",
       " Document(metadata={'producer': 'macOS Version 10.15.7 (Build 19H15) Quartz PDFContext', 'creator': 'LaTeX with hyperref', 'creationdate': \"D:20210107190157Z00'00'\", 'moddate': \"D:20210107190157Z00'00'\", 'source': 'RAG_paper.pdf', 'total_pages': 16, 'page': 7, 'page_label': '8'}, page_content='RAG-Token 43.5 54.8 46.5 51.9 17.9 22.6 56.2 49.4 74.5 90.6RAG-Sequence 44.0 55.8 44.9 53.4 15.3 21.5 57.2 47.5'),\n",
       " Document(metadata={'producer': 'macOS Version 10.15.7 (Build 19H15) Quartz PDFContext', 'creator': 'LaTeX with hyperref', 'creationdate': \"D:20210107190157Z00'00'\", 'moddate': \"D:20210107190157Z00'00'\", 'source': 'RAG_paper.pdf', 'total_pages': 16, 'page': 7, 'page_label': '8'}, page_content='to query our NQ RAG model with each index. RAG answers 70% correctly using the 2016 index for\\n2016 world leaders and 68% using the 2018 index for 2018 world leaders. Accuracy with mismatched'),\n",
       " Document(metadata={'producer': 'macOS Version 10.15.7 (Build 19H15) Quartz PDFContext', 'creator': 'LaTeX with hyperref', 'creationdate': \"D:20210107190157Z00'00'\", 'moddate': \"D:20210107190157Z00'00'\", 'source': 'RAG_paper.pdf', 'total_pages': 16, 'page': 7, 'page_label': '8'}, page_content='indices is low (12% with the 2018 index and 2016 leaders, 4% with the 2016 index and 2018 leaders).\\nThis shows we can update RAG’s world knowledge by simply replacing its non-parametric memory.'),\n",
       " Document(metadata={'producer': 'macOS Version 10.15.7 (Build 19H15) Quartz PDFContext', 'creator': 'LaTeX with hyperref', 'creationdate': \"D:20210107190157Z00'00'\", 'moddate': \"D:20210107190157Z00'00'\", 'source': 'RAG_paper.pdf', 'total_pages': 16, 'page': 7, 'page_label': '8'}, page_content='Effect of Retrieving more documentsModels are trained with either 5 or 10 retrieved latent\\ndocuments, and we do not observe signiﬁcant differences in performance between them. We have the'),\n",
       " Document(metadata={'producer': 'macOS Version 10.15.7 (Build 19H15) Quartz PDFContext', 'creator': 'LaTeX with hyperref', 'creationdate': \"D:20210107190157Z00'00'\", 'moddate': \"D:20210107190157Z00'00'\", 'source': 'RAG_paper.pdf', 'total_pages': 16, 'page': 7, 'page_label': '8'}, page_content='ﬂexibility to adjust the number of retrieved documents at test time, which can affect performance and\\nruntime. Figure 3 (left) shows that retrieving more documents at test time monotonically improves'),\n",
       " Document(metadata={'producer': 'macOS Version 10.15.7 (Build 19H15) Quartz PDFContext', 'creator': 'LaTeX with hyperref', 'creationdate': \"D:20210107190157Z00'00'\", 'moddate': \"D:20210107190157Z00'00'\", 'source': 'RAG_paper.pdf', 'total_pages': 16, 'page': 7, 'page_label': '8'}, page_content='Open-domain QA results for RAG-Sequence, but performance peaks for RAG-Token at 10 retrieved\\ndocuments. Figure 3 (right) shows that retrieving more documents leads to higher Rouge-L for'),\n",
       " Document(metadata={'producer': 'macOS Version 10.15.7 (Build 19H15) Quartz PDFContext', 'creator': 'LaTeX with hyperref', 'creationdate': \"D:20210107190157Z00'00'\", 'moddate': \"D:20210107190157Z00'00'\", 'source': 'RAG_paper.pdf', 'total_pages': 16, 'page': 7, 'page_label': '8'}, page_content='RAG-Token at the expense of Bleu-1, but the effect is less pronounced for RAG-Sequence.\\n10 20 30 40 50KR e t r i e v e dD o c s\\n39\\n40\\n41\\n42\\n43\\n44NQ Exact Match RAG-TokRAG-Seq'),\n",
       " Document(metadata={'producer': 'macOS Version 10.15.7 (Build 19H15) Quartz PDFContext', 'creator': 'LaTeX with hyperref', 'creationdate': \"D:20210107190157Z00'00'\", 'moddate': \"D:20210107190157Z00'00'\", 'source': 'RAG_paper.pdf', 'total_pages': 16, 'page': 7, 'page_label': '8'}, page_content='10 20 30 40 50KR e t r i e v e dD o c s\\n40\\n50\\n60\\n70\\n80NQ Answer Recall @ K\\nRAG-TokRAG-SeqFixed DPRBM25\\n10 20 30 40 50KR e t r i e v e dD o c s\\n48\\n50\\n52\\n54\\n56Bleu-1 / Rouge-L score'),\n",
       " Document(metadata={'producer': 'macOS Version 10.15.7 (Build 19H15) Quartz PDFContext', 'creator': 'LaTeX with hyperref', 'creationdate': \"D:20210107190157Z00'00'\", 'moddate': \"D:20210107190157Z00'00'\", 'source': 'RAG_paper.pdf', 'total_pages': 16, 'page': 7, 'page_label': '8'}, page_content='54\\n56Bleu-1 / Rouge-L score\\nRAG-Tok R-LRAG-Tok B-1RAG-Seq R-LRAG-Seq B-1\\nFigure 3: Left: NQ performance as more documents are retrieved. Center: Retrieval recall perfor-'),\n",
       " Document(metadata={'producer': 'macOS Version 10.15.7 (Build 19H15) Quartz PDFContext', 'creator': 'LaTeX with hyperref', 'creationdate': \"D:20210107190157Z00'00'\", 'moddate': \"D:20210107190157Z00'00'\", 'source': 'RAG_paper.pdf', 'total_pages': 16, 'page': 7, 'page_label': '8'}, page_content='mance in NQ. Right: MS-MARCO Bleu-1 and Rouge-L as more documents are retrieved.\\n5 Related Work\\nSingle-Task Retrieval Prior work has shown that retrieval improves performance across a variety of'),\n",
       " Document(metadata={'producer': 'macOS Version 10.15.7 (Build 19H15) Quartz PDFContext', 'creator': 'LaTeX with hyperref', 'creationdate': \"D:20210107190157Z00'00'\", 'moddate': \"D:20210107190157Z00'00'\", 'source': 'RAG_paper.pdf', 'total_pages': 16, 'page': 7, 'page_label': '8'}, page_content='NLP tasks when considered in isolation. Such tasks include open-domain question answering [5, 29],\\nfact checking [56], fact completion [48], long-form question answering [12], Wikipedia article'),\n",
       " Document(metadata={'producer': 'macOS Version 10.15.7 (Build 19H15) Quartz PDFContext', 'creator': 'LaTeX with hyperref', 'creationdate': \"D:20210107190157Z00'00'\", 'moddate': \"D:20210107190157Z00'00'\", 'source': 'RAG_paper.pdf', 'total_pages': 16, 'page': 7, 'page_label': '8'}, page_content='generation [36], dialogue [41, 65, 9, 13], translation [17], and language modeling [19, 27]. Our\\nwork uniﬁes previous successes in incorporating retrieval into individual tasks, showing that a single'),\n",
       " Document(metadata={'producer': 'macOS Version 10.15.7 (Build 19H15) Quartz PDFContext', 'creator': 'LaTeX with hyperref', 'creationdate': \"D:20210107190157Z00'00'\", 'moddate': \"D:20210107190157Z00'00'\", 'source': 'RAG_paper.pdf', 'total_pages': 16, 'page': 7, 'page_label': '8'}, page_content='retrieval-based architecture is capable of achieving strong performance across several tasks.\\n8'),\n",
       " Document(metadata={'producer': 'macOS Version 10.15.7 (Build 19H15) Quartz PDFContext', 'creator': 'LaTeX with hyperref', 'creationdate': \"D:20210107190157Z00'00'\", 'moddate': \"D:20210107190157Z00'00'\", 'source': 'RAG_paper.pdf', 'total_pages': 16, 'page': 8, 'page_label': '9'}, page_content='General-Purpose Architectures for NLPPrior work on general-purpose architectures for NLP\\ntasks has shown great success without the use of retrieval. A single, pre-trained language model'),\n",
       " Document(metadata={'producer': 'macOS Version 10.15.7 (Build 19H15) Quartz PDFContext', 'creator': 'LaTeX with hyperref', 'creationdate': \"D:20210107190157Z00'00'\", 'moddate': \"D:20210107190157Z00'00'\", 'source': 'RAG_paper.pdf', 'total_pages': 16, 'page': 8, 'page_label': '9'}, page_content='has been shown to achieve strong performance on various classiﬁcation tasks in the GLUE bench-'),\n",
       " Document(metadata={'producer': 'macOS Version 10.15.7 (Build 19H15) Quartz PDFContext', 'creator': 'LaTeX with hyperref', 'creationdate': \"D:20210107190157Z00'00'\", 'moddate': \"D:20210107190157Z00'00'\", 'source': 'RAG_paper.pdf', 'total_pages': 16, 'page': 8, 'page_label': '9'}, page_content='marks [60, 61] after ﬁne-tuning [49, 8]. GPT-2 [50] later showed that a single, left-to-right, pre-trained'),\n",
       " Document(metadata={'producer': 'macOS Version 10.15.7 (Build 19H15) Quartz PDFContext', 'creator': 'LaTeX with hyperref', 'creationdate': \"D:20210107190157Z00'00'\", 'moddate': \"D:20210107190157Z00'00'\", 'source': 'RAG_paper.pdf', 'total_pages': 16, 'page': 8, 'page_label': '9'}, page_content='language model could achieve strong performance across both discriminative and generative tasks.\\nFor further improvement, BART [32] and T5 [51, 52] propose a single, pre-trained encoder-decoder'),\n",
       " Document(metadata={'producer': 'macOS Version 10.15.7 (Build 19H15) Quartz PDFContext', 'creator': 'LaTeX with hyperref', 'creationdate': \"D:20210107190157Z00'00'\", 'moddate': \"D:20210107190157Z00'00'\", 'source': 'RAG_paper.pdf', 'total_pages': 16, 'page': 8, 'page_label': '9'}, page_content='model that leverages bi-directional attention to achieve stronger performance on discriminative\\nand generative tasks. Our work aims to expand the space of possible tasks with a single, uniﬁed'),\n",
       " Document(metadata={'producer': 'macOS Version 10.15.7 (Build 19H15) Quartz PDFContext', 'creator': 'LaTeX with hyperref', 'creationdate': \"D:20210107190157Z00'00'\", 'moddate': \"D:20210107190157Z00'00'\", 'source': 'RAG_paper.pdf', 'total_pages': 16, 'page': 8, 'page_label': '9'}, page_content='architecture, by learning a retrieval module to augment pre-trained, generative language models.\\nLearned Retrieval There is signiﬁcant work on learning to retrieve documents in information'),\n",
       " Document(metadata={'producer': 'macOS Version 10.15.7 (Build 19H15) Quartz PDFContext', 'creator': 'LaTeX with hyperref', 'creationdate': \"D:20210107190157Z00'00'\", 'moddate': \"D:20210107190157Z00'00'\", 'source': 'RAG_paper.pdf', 'total_pages': 16, 'page': 8, 'page_label': '9'}, page_content='retrieval, more recently with pre-trained, neural language models [44, 26] similar to ours. Some\\nwork optimizes the retrieval module to aid in a speciﬁc, downstream task such as question answering,'),\n",
       " Document(metadata={'producer': 'macOS Version 10.15.7 (Build 19H15) Quartz PDFContext', 'creator': 'LaTeX with hyperref', 'creationdate': \"D:20210107190157Z00'00'\", 'moddate': \"D:20210107190157Z00'00'\", 'source': 'RAG_paper.pdf', 'total_pages': 16, 'page': 8, 'page_label': '9'}, page_content='using search [46], reinforcement learning [6, 63, 62], or a latent variable approach [31, 20] as in our'),\n",
       " Document(metadata={'producer': 'macOS Version 10.15.7 (Build 19H15) Quartz PDFContext', 'creator': 'LaTeX with hyperref', 'creationdate': \"D:20210107190157Z00'00'\", 'moddate': \"D:20210107190157Z00'00'\", 'source': 'RAG_paper.pdf', 'total_pages': 16, 'page': 8, 'page_label': '9'}, page_content='work. These successes leverage different retrieval-based architectures and optimization techniques to'),\n",
       " Document(metadata={'producer': 'macOS Version 10.15.7 (Build 19H15) Quartz PDFContext', 'creator': 'LaTeX with hyperref', 'creationdate': \"D:20210107190157Z00'00'\", 'moddate': \"D:20210107190157Z00'00'\", 'source': 'RAG_paper.pdf', 'total_pages': 16, 'page': 8, 'page_label': '9'}, page_content='achieve strong performance on a single task, while we show that a single retrieval-based architecture\\ncan be ﬁne-tuned for strong performance on a variety of tasks.'),\n",
       " Document(metadata={'producer': 'macOS Version 10.15.7 (Build 19H15) Quartz PDFContext', 'creator': 'LaTeX with hyperref', 'creationdate': \"D:20210107190157Z00'00'\", 'moddate': \"D:20210107190157Z00'00'\", 'source': 'RAG_paper.pdf', 'total_pages': 16, 'page': 8, 'page_label': '9'}, page_content='Memory-based Architectures Our document index can be seen as a large external memory for\\nneural networks to attend to, analogous to memory networks [64, 55]. Concurrent work [14] learns'),\n",
       " Document(metadata={'producer': 'macOS Version 10.15.7 (Build 19H15) Quartz PDFContext', 'creator': 'LaTeX with hyperref', 'creationdate': \"D:20210107190157Z00'00'\", 'moddate': \"D:20210107190157Z00'00'\", 'source': 'RAG_paper.pdf', 'total_pages': 16, 'page': 8, 'page_label': '9'}, page_content='to retrieve a trained embedding for each entity in the input, rather than to retrieve raw text as in our'),\n",
       " Document(metadata={'producer': 'macOS Version 10.15.7 (Build 19H15) Quartz PDFContext', 'creator': 'LaTeX with hyperref', 'creationdate': \"D:20210107190157Z00'00'\", 'moddate': \"D:20210107190157Z00'00'\", 'source': 'RAG_paper.pdf', 'total_pages': 16, 'page': 8, 'page_label': '9'}, page_content='work. Other work improves the ability of dialog models to generate factual text by attending over'),\n",
       " Document(metadata={'producer': 'macOS Version 10.15.7 (Build 19H15) Quartz PDFContext', 'creator': 'LaTeX with hyperref', 'creationdate': \"D:20210107190157Z00'00'\", 'moddate': \"D:20210107190157Z00'00'\", 'source': 'RAG_paper.pdf', 'total_pages': 16, 'page': 8, 'page_label': '9'}, page_content='fact embeddings [9, 13] or, closer to our work, over retrieved text directly [15]. A key feature of our'),\n",
       " Document(metadata={'producer': 'macOS Version 10.15.7 (Build 19H15) Quartz PDFContext', 'creator': 'LaTeX with hyperref', 'creationdate': \"D:20210107190157Z00'00'\", 'moddate': \"D:20210107190157Z00'00'\", 'source': 'RAG_paper.pdf', 'total_pages': 16, 'page': 8, 'page_label': '9'}, page_content='memory is that it is comprised of raw text rather distributed representations, which makes the memory'),\n",
       " Document(metadata={'producer': 'macOS Version 10.15.7 (Build 19H15) Quartz PDFContext', 'creator': 'LaTeX with hyperref', 'creationdate': \"D:20210107190157Z00'00'\", 'moddate': \"D:20210107190157Z00'00'\", 'source': 'RAG_paper.pdf', 'total_pages': 16, 'page': 8, 'page_label': '9'}, page_content='both (i) human-readable, lending a form of interpretability to our model, and (ii) human-writable,\\nenabling us to dynamically update the model’s memory by editing the document index.'),\n",
       " Document(metadata={'producer': 'macOS Version 10.15.7 (Build 19H15) Quartz PDFContext', 'creator': 'LaTeX with hyperref', 'creationdate': \"D:20210107190157Z00'00'\", 'moddate': \"D:20210107190157Z00'00'\", 'source': 'RAG_paper.pdf', 'total_pages': 16, 'page': 8, 'page_label': '9'}, page_content='Retrieve-and-Edit approaches Our method shares some similarities with retrieve-and-edit style\\napproaches, where a similar training input-output pair is retrieved for a given input, and then edited'),\n",
       " Document(metadata={'producer': 'macOS Version 10.15.7 (Build 19H15) Quartz PDFContext', 'creator': 'LaTeX with hyperref', 'creationdate': \"D:20210107190157Z00'00'\", 'moddate': \"D:20210107190157Z00'00'\", 'source': 'RAG_paper.pdf', 'total_pages': 16, 'page': 8, 'page_label': '9'}, page_content='to provide a ﬁnal output. These approaches have proved successful in a number of domains including\\nMachine Translation [18, 22] and Semantic Parsing [21]. Our approach does have several differences,'),\n",
       " Document(metadata={'producer': 'macOS Version 10.15.7 (Build 19H15) Quartz PDFContext', 'creator': 'LaTeX with hyperref', 'creationdate': \"D:20210107190157Z00'00'\", 'moddate': \"D:20210107190157Z00'00'\", 'source': 'RAG_paper.pdf', 'total_pages': 16, 'page': 8, 'page_label': '9'}, page_content='including less of emphasis on lightly editing a retrieved item, but on aggregating content from several'),\n",
       " Document(metadata={'producer': 'macOS Version 10.15.7 (Build 19H15) Quartz PDFContext', 'creator': 'LaTeX with hyperref', 'creationdate': \"D:20210107190157Z00'00'\", 'moddate': \"D:20210107190157Z00'00'\", 'source': 'RAG_paper.pdf', 'total_pages': 16, 'page': 8, 'page_label': '9'}, page_content='pieces of retrieved content, as well as learning latent retrieval, and retrieving evidence documents\\nrather than related training pairs. This said, RAG techniques may work well in these settings, and'),\n",
       " Document(metadata={'producer': 'macOS Version 10.15.7 (Build 19H15) Quartz PDFContext', 'creator': 'LaTeX with hyperref', 'creationdate': \"D:20210107190157Z00'00'\", 'moddate': \"D:20210107190157Z00'00'\", 'source': 'RAG_paper.pdf', 'total_pages': 16, 'page': 8, 'page_label': '9'}, page_content='could represent promising future work.\\n6 Discussion\\nIn this work, we presented hybrid generation models with access to parametric and non-parametric'),\n",
       " Document(metadata={'producer': 'macOS Version 10.15.7 (Build 19H15) Quartz PDFContext', 'creator': 'LaTeX with hyperref', 'creationdate': \"D:20210107190157Z00'00'\", 'moddate': \"D:20210107190157Z00'00'\", 'source': 'RAG_paper.pdf', 'total_pages': 16, 'page': 8, 'page_label': '9'}, page_content='memory. We showed that our RAG models obtain state of the art results on open-domain QA. We\\nfound that people prefer RAG’s generation over purely parametric BART, ﬁnding RAG more factual'),\n",
       " Document(metadata={'producer': 'macOS Version 10.15.7 (Build 19H15) Quartz PDFContext', 'creator': 'LaTeX with hyperref', 'creationdate': \"D:20210107190157Z00'00'\", 'moddate': \"D:20210107190157Z00'00'\", 'source': 'RAG_paper.pdf', 'total_pages': 16, 'page': 8, 'page_label': '9'}, page_content='and speciﬁc. We conducted an thorough investigation of the learned retrieval component, validating\\nits effectiveness, and we illustrated how the retrieval index can be hot-swapped to update the model'),\n",
       " Document(metadata={'producer': 'macOS Version 10.15.7 (Build 19H15) Quartz PDFContext', 'creator': 'LaTeX with hyperref', 'creationdate': \"D:20210107190157Z00'00'\", 'moddate': \"D:20210107190157Z00'00'\", 'source': 'RAG_paper.pdf', 'total_pages': 16, 'page': 8, 'page_label': '9'}, page_content='without requiring any retraining. In future work, it may be fruitful to investigate if the two components'),\n",
       " Document(metadata={'producer': 'macOS Version 10.15.7 (Build 19H15) Quartz PDFContext', 'creator': 'LaTeX with hyperref', 'creationdate': \"D:20210107190157Z00'00'\", 'moddate': \"D:20210107190157Z00'00'\", 'source': 'RAG_paper.pdf', 'total_pages': 16, 'page': 8, 'page_label': '9'}, page_content='can be jointly pre-trained from scratch, either with a denoising objective similar to BART or some\\nanother objective. Our work opens up new research directions on how parametric and non-parametric'),\n",
       " Document(metadata={'producer': 'macOS Version 10.15.7 (Build 19H15) Quartz PDFContext', 'creator': 'LaTeX with hyperref', 'creationdate': \"D:20210107190157Z00'00'\", 'moddate': \"D:20210107190157Z00'00'\", 'source': 'RAG_paper.pdf', 'total_pages': 16, 'page': 8, 'page_label': '9'}, page_content='memories interact and how to most effectively combine them, showing promise in being applied to a\\nwide variety of NLP tasks.\\n9'),\n",
       " Document(metadata={'producer': 'macOS Version 10.15.7 (Build 19H15) Quartz PDFContext', 'creator': 'LaTeX with hyperref', 'creationdate': \"D:20210107190157Z00'00'\", 'moddate': \"D:20210107190157Z00'00'\", 'source': 'RAG_paper.pdf', 'total_pages': 16, 'page': 9, 'page_label': '10'}, page_content='Broader Impact\\nThis work offers several positive societal beneﬁts over previous work: the fact that it is more'),\n",
       " Document(metadata={'producer': 'macOS Version 10.15.7 (Build 19H15) Quartz PDFContext', 'creator': 'LaTeX with hyperref', 'creationdate': \"D:20210107190157Z00'00'\", 'moddate': \"D:20210107190157Z00'00'\", 'source': 'RAG_paper.pdf', 'total_pages': 16, 'page': 9, 'page_label': '10'}, page_content='strongly grounded in real factual knowledge (in this case Wikipedia) makes it “hallucinate” less\\nwith generations that are more factual, and offers more control and interpretability. RAG could be'),\n",
       " Document(metadata={'producer': 'macOS Version 10.15.7 (Build 19H15) Quartz PDFContext', 'creator': 'LaTeX with hyperref', 'creationdate': \"D:20210107190157Z00'00'\", 'moddate': \"D:20210107190157Z00'00'\", 'source': 'RAG_paper.pdf', 'total_pages': 16, 'page': 9, 'page_label': '10'}, page_content='employed in a wide variety of scenarios with direct beneﬁt to society, for example by endowing it\\nwith a medical index and asking it open-domain questions on that topic, or by helping people be more'),\n",
       " Document(metadata={'producer': 'macOS Version 10.15.7 (Build 19H15) Quartz PDFContext', 'creator': 'LaTeX with hyperref', 'creationdate': \"D:20210107190157Z00'00'\", 'moddate': \"D:20210107190157Z00'00'\", 'source': 'RAG_paper.pdf', 'total_pages': 16, 'page': 9, 'page_label': '10'}, page_content='effective at their jobs.\\nWith these advantages also come potential downsides: Wikipedia, or any potential external knowledge'),\n",
       " Document(metadata={'producer': 'macOS Version 10.15.7 (Build 19H15) Quartz PDFContext', 'creator': 'LaTeX with hyperref', 'creationdate': \"D:20210107190157Z00'00'\", 'moddate': \"D:20210107190157Z00'00'\", 'source': 'RAG_paper.pdf', 'total_pages': 16, 'page': 9, 'page_label': '10'}, page_content='source, will probably never be entirely factual and completely devoid of bias. Since RAG can be\\nemployed as a language model, similar concerns as for GPT-2 [50] are valid here, although arguably'),\n",
       " Document(metadata={'producer': 'macOS Version 10.15.7 (Build 19H15) Quartz PDFContext', 'creator': 'LaTeX with hyperref', 'creationdate': \"D:20210107190157Z00'00'\", 'moddate': \"D:20210107190157Z00'00'\", 'source': 'RAG_paper.pdf', 'total_pages': 16, 'page': 9, 'page_label': '10'}, page_content='to a lesser extent, including that it might be used to generate abuse, faked or misleading content in'),\n",
       " Document(metadata={'producer': 'macOS Version 10.15.7 (Build 19H15) Quartz PDFContext', 'creator': 'LaTeX with hyperref', 'creationdate': \"D:20210107190157Z00'00'\", 'moddate': \"D:20210107190157Z00'00'\", 'source': 'RAG_paper.pdf', 'total_pages': 16, 'page': 9, 'page_label': '10'}, page_content='the news or on social media; to impersonate others; or to automate the production of spam/phishing\\ncontent [54]. Advanced language models may also lead to the automation of various jobs in the'),\n",
       " Document(metadata={'producer': 'macOS Version 10.15.7 (Build 19H15) Quartz PDFContext', 'creator': 'LaTeX with hyperref', 'creationdate': \"D:20210107190157Z00'00'\", 'moddate': \"D:20210107190157Z00'00'\", 'source': 'RAG_paper.pdf', 'total_pages': 16, 'page': 9, 'page_label': '10'}, page_content='coming decades [16]. In order to mitigate these risks, AI systems could be employed to ﬁght against\\nmisleading content and automated spam/phishing.\\nAcknowledgments'),\n",
       " Document(metadata={'producer': 'macOS Version 10.15.7 (Build 19H15) Quartz PDFContext', 'creator': 'LaTeX with hyperref', 'creationdate': \"D:20210107190157Z00'00'\", 'moddate': \"D:20210107190157Z00'00'\", 'source': 'RAG_paper.pdf', 'total_pages': 16, 'page': 9, 'page_label': '10'}, page_content='Acknowledgments\\nThe authors would like to thank the reviewers for their thoughtful and constructive feedback on this'),\n",
       " Document(metadata={'producer': 'macOS Version 10.15.7 (Build 19H15) Quartz PDFContext', 'creator': 'LaTeX with hyperref', 'creationdate': \"D:20210107190157Z00'00'\", 'moddate': \"D:20210107190157Z00'00'\", 'source': 'RAG_paper.pdf', 'total_pages': 16, 'page': 9, 'page_label': '10'}, page_content='paper, as well as HuggingFace for their help in open-sourcing code to run RAG models. The authors\\nwould also like to thank Kyunghyun Cho and Sewon Min for productive discussions and advice.'),\n",
       " Document(metadata={'producer': 'macOS Version 10.15.7 (Build 19H15) Quartz PDFContext', 'creator': 'LaTeX with hyperref', 'creationdate': \"D:20210107190157Z00'00'\", 'moddate': \"D:20210107190157Z00'00'\", 'source': 'RAG_paper.pdf', 'total_pages': 16, 'page': 9, 'page_label': '10'}, page_content='Funding Disclosure\\nEP thanks supports from the NSF Graduate Research Fellowship. PL is supported by the FAIR PhD\\nprogram. This work was funded by Facebook.\\nReferences'),\n",
       " Document(metadata={'producer': 'macOS Version 10.15.7 (Build 19H15) Quartz PDFContext', 'creator': 'LaTeX with hyperref', 'creationdate': \"D:20210107190157Z00'00'\", 'moddate': \"D:20210107190157Z00'00'\", 'source': 'RAG_paper.pdf', 'total_pages': 16, 'page': 9, 'page_label': '10'}, page_content='References\\n[1] Payal Bajaj, Daniel Campos, Nick Craswell, Li Deng, Jianfeng Gao, Xiaodong Liu, Rangan\\nMajumder, Andrew McNamara, Bhaskar Mitra, Tri Nguyen, Mir Rosenberg, Xia Song, Alina'),\n",
       " Document(metadata={'producer': 'macOS Version 10.15.7 (Build 19H15) Quartz PDFContext', 'creator': 'LaTeX with hyperref', 'creationdate': \"D:20210107190157Z00'00'\", 'moddate': \"D:20210107190157Z00'00'\", 'source': 'RAG_paper.pdf', 'total_pages': 16, 'page': 9, 'page_label': '10'}, page_content='Stoica, Saurabh Tiwary, and Tong Wang. MS MARCO: A Human Generated MAchine\\nReading COmprehension Dataset. arXiv:1611.09268 [cs], November 2016. URL http:'),\n",
       " Document(metadata={'producer': 'macOS Version 10.15.7 (Build 19H15) Quartz PDFContext', 'creator': 'LaTeX with hyperref', 'creationdate': \"D:20210107190157Z00'00'\", 'moddate': \"D:20210107190157Z00'00'\", 'source': 'RAG_paper.pdf', 'total_pages': 16, 'page': 9, 'page_label': '10'}, page_content='//arxiv.org/abs/1611.09268. arXiv: 1611.09268.\\n[2] Petr Baudiš and Jan Šediv`y. Modeling of the question answering task in the yodaqa system. In'),\n",
       " Document(metadata={'producer': 'macOS Version 10.15.7 (Build 19H15) Quartz PDFContext', 'creator': 'LaTeX with hyperref', 'creationdate': \"D:20210107190157Z00'00'\", 'moddate': \"D:20210107190157Z00'00'\", 'source': 'RAG_paper.pdf', 'total_pages': 16, 'page': 9, 'page_label': '10'}, page_content='International Conference of the Cross-Language Evaluation Forum for European Languages,\\npages 222–228. Springer, 2015. URLhttps://link.springer.com/chapter/10.1007%\\n2F978-3-319-24027-5_20 .'),\n",
       " Document(metadata={'producer': 'macOS Version 10.15.7 (Build 19H15) Quartz PDFContext', 'creator': 'LaTeX with hyperref', 'creationdate': \"D:20210107190157Z00'00'\", 'moddate': \"D:20210107190157Z00'00'\", 'source': 'RAG_paper.pdf', 'total_pages': 16, 'page': 9, 'page_label': '10'}, page_content='2F978-3-319-24027-5_20 .\\n[3] Jonathan Berant, Andrew Chou, Roy Frostig, and Percy Liang. Semantic Parsing on Freebase'),\n",
       " Document(metadata={'producer': 'macOS Version 10.15.7 (Build 19H15) Quartz PDFContext', 'creator': 'LaTeX with hyperref', 'creationdate': \"D:20210107190157Z00'00'\", 'moddate': \"D:20210107190157Z00'00'\", 'source': 'RAG_paper.pdf', 'total_pages': 16, 'page': 9, 'page_label': '10'}, page_content='from Question-Answer Pairs. InProceedings of the 2013 Conference on Empirical Methods\\nin Natural Language Processing, pages 1533–1544, Seattle, Washington, USA, October 2013.'),\n",
       " Document(metadata={'producer': 'macOS Version 10.15.7 (Build 19H15) Quartz PDFContext', 'creator': 'LaTeX with hyperref', 'creationdate': \"D:20210107190157Z00'00'\", 'moddate': \"D:20210107190157Z00'00'\", 'source': 'RAG_paper.pdf', 'total_pages': 16, 'page': 9, 'page_label': '10'}, page_content='Association for Computational Linguistics. URLhttp://www.aclweb.org/anthology/\\nD13-1160.\\n[4] Bin Bi, Chenliang Li, Chen Wu, Ming Yan, and Wei Wang. Palm: Pre-training an autoencod-'),\n",
       " Document(metadata={'producer': 'macOS Version 10.15.7 (Build 19H15) Quartz PDFContext', 'creator': 'LaTeX with hyperref', 'creationdate': \"D:20210107190157Z00'00'\", 'moddate': \"D:20210107190157Z00'00'\", 'source': 'RAG_paper.pdf', 'total_pages': 16, 'page': 9, 'page_label': '10'}, page_content='ing&autoregressive language model for context-conditioned generation.ArXiv, abs/2004.07159,\\n2020. URLhttps://arxiv.org/abs/2004.07159.'),\n",
       " Document(metadata={'producer': 'macOS Version 10.15.7 (Build 19H15) Quartz PDFContext', 'creator': 'LaTeX with hyperref', 'creationdate': \"D:20210107190157Z00'00'\", 'moddate': \"D:20210107190157Z00'00'\", 'source': 'RAG_paper.pdf', 'total_pages': 16, 'page': 9, 'page_label': '10'}, page_content='[5] Danqi Chen, Adam Fisch, Jason Weston, and Antoine Bordes. Reading Wikipedia to Answer\\nOpen-Domain Questions. InProceedings of the 55th Annual Meeting of the Association for'),\n",
       " Document(metadata={'producer': 'macOS Version 10.15.7 (Build 19H15) Quartz PDFContext', 'creator': 'LaTeX with hyperref', 'creationdate': \"D:20210107190157Z00'00'\", 'moddate': \"D:20210107190157Z00'00'\", 'source': 'RAG_paper.pdf', 'total_pages': 16, 'page': 9, 'page_label': '10'}, page_content='Computational Linguistics (Volume 1: Long Papers), pages 1870–1879, Vancouver, Canada,\\nJuly 2017. Association for Computational Linguistics. doi: 10.18653/v1/P17-1171. URL'),\n",
       " Document(metadata={'producer': 'macOS Version 10.15.7 (Build 19H15) Quartz PDFContext', 'creator': 'LaTeX with hyperref', 'creationdate': \"D:20210107190157Z00'00'\", 'moddate': \"D:20210107190157Z00'00'\", 'source': 'RAG_paper.pdf', 'total_pages': 16, 'page': 9, 'page_label': '10'}, page_content='https://www.aclweb.org/anthology/P17-1171.\\n[6] Eunsol Choi, Daniel Hewlett, Jakob Uszkoreit, Illia Polosukhin, Alexandre Lacoste, and'),\n",
       " Document(metadata={'producer': 'macOS Version 10.15.7 (Build 19H15) Quartz PDFContext', 'creator': 'LaTeX with hyperref', 'creationdate': \"D:20210107190157Z00'00'\", 'moddate': \"D:20210107190157Z00'00'\", 'source': 'RAG_paper.pdf', 'total_pages': 16, 'page': 9, 'page_label': '10'}, page_content='Jonathan Berant. Coarse-to-ﬁne question answering for long documents. InProceedings of the\\n10'),\n",
       " Document(metadata={'producer': 'macOS Version 10.15.7 (Build 19H15) Quartz PDFContext', 'creator': 'LaTeX with hyperref', 'creationdate': \"D:20210107190157Z00'00'\", 'moddate': \"D:20210107190157Z00'00'\", 'source': 'RAG_paper.pdf', 'total_pages': 16, 'page': 10, 'page_label': '11'}, page_content='55th Annual Meeting of the Association for Computational Linguistics (Volume 1: Long Papers),\\npages 209–220, Vancouver, Canada, July 2017. Association for Computational Linguistics. doi:'),\n",
       " Document(metadata={'producer': 'macOS Version 10.15.7 (Build 19H15) Quartz PDFContext', 'creator': 'LaTeX with hyperref', 'creationdate': \"D:20210107190157Z00'00'\", 'moddate': \"D:20210107190157Z00'00'\", 'source': 'RAG_paper.pdf', 'total_pages': 16, 'page': 10, 'page_label': '11'}, page_content='10.18653/v1/P17-1020. URL https://www.aclweb.org/anthology/P17-1020.\\n[7] Christopher Clark and Matt Gardner. Simple and Effective Multi-Paragraph Reading Compre-'),\n",
       " Document(metadata={'producer': 'macOS Version 10.15.7 (Build 19H15) Quartz PDFContext', 'creator': 'LaTeX with hyperref', 'creationdate': \"D:20210107190157Z00'00'\", 'moddate': \"D:20210107190157Z00'00'\", 'source': 'RAG_paper.pdf', 'total_pages': 16, 'page': 10, 'page_label': '11'}, page_content='hension. arXiv:1710.10723 [cs], October 2017. URLhttp://arxiv.org/abs/1710.10723.\\narXiv: 1710.10723.\\n[8] Jacob Devlin, Ming-Wei Chang, Kenton Lee, and Kristina Toutanova. BERT: Pre-training of'),\n",
       " Document(metadata={'producer': 'macOS Version 10.15.7 (Build 19H15) Quartz PDFContext', 'creator': 'LaTeX with hyperref', 'creationdate': \"D:20210107190157Z00'00'\", 'moddate': \"D:20210107190157Z00'00'\", 'source': 'RAG_paper.pdf', 'total_pages': 16, 'page': 10, 'page_label': '11'}, page_content='Deep Bidirectional Transformers for Language Understanding. InProceedings of the 2019 Con-\\nference of the North American Chapter of the Association for Computational Linguistics: Human'),\n",
       " Document(metadata={'producer': 'macOS Version 10.15.7 (Build 19H15) Quartz PDFContext', 'creator': 'LaTeX with hyperref', 'creationdate': \"D:20210107190157Z00'00'\", 'moddate': \"D:20210107190157Z00'00'\", 'source': 'RAG_paper.pdf', 'total_pages': 16, 'page': 10, 'page_label': '11'}, page_content='Language Technologies, Volume 1 (Long and Short Papers), pages 4171–4186, Minneapolis,\\nMinnesota, June 2019. Association for Computational Linguistics. doi: 10.18653/v1/N19-1423.'),\n",
       " Document(metadata={'producer': 'macOS Version 10.15.7 (Build 19H15) Quartz PDFContext', 'creator': 'LaTeX with hyperref', 'creationdate': \"D:20210107190157Z00'00'\", 'moddate': \"D:20210107190157Z00'00'\", 'source': 'RAG_paper.pdf', 'total_pages': 16, 'page': 10, 'page_label': '11'}, page_content='URL https://www.aclweb.org/anthology/N19-1423.\\n[9] Emily Dinan, Stephen Roller, Kurt Shuster, Angela Fan, Michael Auli, and Jason Weston. Wiz-'),\n",
       " Document(metadata={'producer': 'macOS Version 10.15.7 (Build 19H15) Quartz PDFContext', 'creator': 'LaTeX with hyperref', 'creationdate': \"D:20210107190157Z00'00'\", 'moddate': \"D:20210107190157Z00'00'\", 'source': 'RAG_paper.pdf', 'total_pages': 16, 'page': 10, 'page_label': '11'}, page_content='ard of wikipedia: Knowledge-powered conversational agents. InInternational Conference on\\nLearning Representations, 2019. URLhttps://openreview.net/forum?id=r1l73iRqKm.'),\n",
       " Document(metadata={'producer': 'macOS Version 10.15.7 (Build 19H15) Quartz PDFContext', 'creator': 'LaTeX with hyperref', 'creationdate': \"D:20210107190157Z00'00'\", 'moddate': \"D:20210107190157Z00'00'\", 'source': 'RAG_paper.pdf', 'total_pages': 16, 'page': 10, 'page_label': '11'}, page_content='[10] Matthew Dunn, Levent Sagun, Mike Higgins, V . Ugur Guney, V olkan Cirik, and Kyunghyun\\nCho. SearchQA: A New Q&A Dataset Augmented with Context from a Search Engine.'),\n",
       " Document(metadata={'producer': 'macOS Version 10.15.7 (Build 19H15) Quartz PDFContext', 'creator': 'LaTeX with hyperref', 'creationdate': \"D:20210107190157Z00'00'\", 'moddate': \"D:20210107190157Z00'00'\", 'source': 'RAG_paper.pdf', 'total_pages': 16, 'page': 10, 'page_label': '11'}, page_content='arXiv:1704.05179 [cs], April 2017. URL http://arxiv.org/abs/1704.05179. arXiv:\\n1704.05179.\\n[11] Angela Fan, Mike Lewis, and Yann Dauphin. Hierarchical neural story generation. InProceed-'),\n",
       " Document(metadata={'producer': 'macOS Version 10.15.7 (Build 19H15) Quartz PDFContext', 'creator': 'LaTeX with hyperref', 'creationdate': \"D:20210107190157Z00'00'\", 'moddate': \"D:20210107190157Z00'00'\", 'source': 'RAG_paper.pdf', 'total_pages': 16, 'page': 10, 'page_label': '11'}, page_content='ings of the 56th Annual Meeting of the Association for Computational Linguistics (Volume 1:\\nLong Papers), pages 889–898, Melbourne, Australia, July 2018. Association for Computational'),\n",
       " Document(metadata={'producer': 'macOS Version 10.15.7 (Build 19H15) Quartz PDFContext', 'creator': 'LaTeX with hyperref', 'creationdate': \"D:20210107190157Z00'00'\", 'moddate': \"D:20210107190157Z00'00'\", 'source': 'RAG_paper.pdf', 'total_pages': 16, 'page': 10, 'page_label': '11'}, page_content='Linguistics. doi: 10.18653/v1/P18-1082. URL https://www.aclweb.org/anthology/\\nP18-1082.\\n[12] Angela Fan, Yacine Jernite, Ethan Perez, David Grangier, Jason Weston, and Michael Auli. ELI5:'),\n",
       " Document(metadata={'producer': 'macOS Version 10.15.7 (Build 19H15) Quartz PDFContext', 'creator': 'LaTeX with hyperref', 'creationdate': \"D:20210107190157Z00'00'\", 'moddate': \"D:20210107190157Z00'00'\", 'source': 'RAG_paper.pdf', 'total_pages': 16, 'page': 10, 'page_label': '11'}, page_content='Long form question answering. InProceedings of the 57th Annual Meeting of the Association\\nfor Computational Linguistics, pages 3558–3567, Florence, Italy, July 2019. Association for'),\n",
       " Document(metadata={'producer': 'macOS Version 10.15.7 (Build 19H15) Quartz PDFContext', 'creator': 'LaTeX with hyperref', 'creationdate': \"D:20210107190157Z00'00'\", 'moddate': \"D:20210107190157Z00'00'\", 'source': 'RAG_paper.pdf', 'total_pages': 16, 'page': 10, 'page_label': '11'}, page_content='Computational Linguistics. doi: 10.18653/v1/P19-1346. URLhttps://www.aclweb.org/\\nanthology/P19-1346.\\n[13] Angela Fan, Claire Gardent, Chloe Braud, and Antoine Bordes. Augmenting transformers'),\n",
       " Document(metadata={'producer': 'macOS Version 10.15.7 (Build 19H15) Quartz PDFContext', 'creator': 'LaTeX with hyperref', 'creationdate': \"D:20210107190157Z00'00'\", 'moddate': \"D:20210107190157Z00'00'\", 'source': 'RAG_paper.pdf', 'total_pages': 16, 'page': 10, 'page_label': '11'}, page_content='with KNN-based composite memory, 2020. URLhttps://openreview.net/forum?id=\\nH1gx1CNKPH.\\n[14] Thibault Févry, Livio Baldini Soares, Nicholas FitzGerald, Eunsol Choi, and Tom Kwiatkowski.'),\n",
       " Document(metadata={'producer': 'macOS Version 10.15.7 (Build 19H15) Quartz PDFContext', 'creator': 'LaTeX with hyperref', 'creationdate': \"D:20210107190157Z00'00'\", 'moddate': \"D:20210107190157Z00'00'\", 'source': 'RAG_paper.pdf', 'total_pages': 16, 'page': 10, 'page_label': '11'}, page_content='Entities as experts: Sparse memory access with entity supervision.ArXiv, abs/2004.07202,\\n2020. URLhttps://arxiv.org/abs/2004.07202.'),\n",
       " Document(metadata={'producer': 'macOS Version 10.15.7 (Build 19H15) Quartz PDFContext', 'creator': 'LaTeX with hyperref', 'creationdate': \"D:20210107190157Z00'00'\", 'moddate': \"D:20210107190157Z00'00'\", 'source': 'RAG_paper.pdf', 'total_pages': 16, 'page': 10, 'page_label': '11'}, page_content='[15] Marjan Ghazvininejad, Chris Brockett, Ming-Wei Chang, Bill Dolan, Jianfeng Gao, Wen\\ntau Yih, and Michel Galley. A knowledge-grounded neural conversation model. InAAAI'),\n",
       " Document(metadata={'producer': 'macOS Version 10.15.7 (Build 19H15) Quartz PDFContext', 'creator': 'LaTeX with hyperref', 'creationdate': \"D:20210107190157Z00'00'\", 'moddate': \"D:20210107190157Z00'00'\", 'source': 'RAG_paper.pdf', 'total_pages': 16, 'page': 10, 'page_label': '11'}, page_content='Conference on Artiﬁcial Intelligence, 2018. URLhttps://www.aaai.org/ocs/index.php/\\nAAAI/AAAI18/paper/view/16710.'),\n",
       " Document(metadata={'producer': 'macOS Version 10.15.7 (Build 19H15) Quartz PDFContext', 'creator': 'LaTeX with hyperref', 'creationdate': \"D:20210107190157Z00'00'\", 'moddate': \"D:20210107190157Z00'00'\", 'source': 'RAG_paper.pdf', 'total_pages': 16, 'page': 10, 'page_label': '11'}, page_content='AAAI/AAAI18/paper/view/16710.\\n[16] Katja Grace, John Salvatier, Allan Dafoe, Baobao Zhang, and Owain Evans. When will AI'),\n",
       " Document(metadata={'producer': 'macOS Version 10.15.7 (Build 19H15) Quartz PDFContext', 'creator': 'LaTeX with hyperref', 'creationdate': \"D:20210107190157Z00'00'\", 'moddate': \"D:20210107190157Z00'00'\", 'source': 'RAG_paper.pdf', 'total_pages': 16, 'page': 10, 'page_label': '11'}, page_content='exceed human performance? evidence from AI experts.CoRR, abs/1705.08807, 2017. URL\\nhttp://arxiv.org/abs/1705.08807.'),\n",
       " Document(metadata={'producer': 'macOS Version 10.15.7 (Build 19H15) Quartz PDFContext', 'creator': 'LaTeX with hyperref', 'creationdate': \"D:20210107190157Z00'00'\", 'moddate': \"D:20210107190157Z00'00'\", 'source': 'RAG_paper.pdf', 'total_pages': 16, 'page': 10, 'page_label': '11'}, page_content='[17] Jiatao Gu, Yong Wang, Kyunghyun Cho, and Victor O.K. Li. Search engine guided neural\\nmachine translation. In AAAI Conference on Artiﬁcial Intelligence, 2018. URL https:'),\n",
       " Document(metadata={'producer': 'macOS Version 10.15.7 (Build 19H15) Quartz PDFContext', 'creator': 'LaTeX with hyperref', 'creationdate': \"D:20210107190157Z00'00'\", 'moddate': \"D:20210107190157Z00'00'\", 'source': 'RAG_paper.pdf', 'total_pages': 16, 'page': 10, 'page_label': '11'}, page_content='//www.aaai.org/ocs/index.php/AAAI/AAAI18/paper/view/17282.\\n[18] Jiatao Gu, Yong Wang, Kyunghyun Cho, and Victor O.K. Li. Search engine guided neural'),\n",
       " Document(metadata={'producer': 'macOS Version 10.15.7 (Build 19H15) Quartz PDFContext', 'creator': 'LaTeX with hyperref', 'creationdate': \"D:20210107190157Z00'00'\", 'moddate': \"D:20210107190157Z00'00'\", 'source': 'RAG_paper.pdf', 'total_pages': 16, 'page': 10, 'page_label': '11'}, page_content='machine translation. In32nd AAAI Conference on Artiﬁcial Intelligence, AAAI 2018, 32nd\\nAAAI Conference on Artiﬁcial Intelligence, AAAI 2018, pages 5133–5140. AAAI press, 2018.'),\n",
       " Document(metadata={'producer': 'macOS Version 10.15.7 (Build 19H15) Quartz PDFContext', 'creator': 'LaTeX with hyperref', 'creationdate': \"D:20210107190157Z00'00'\", 'moddate': \"D:20210107190157Z00'00'\", 'source': 'RAG_paper.pdf', 'total_pages': 16, 'page': 10, 'page_label': '11'}, page_content='32nd AAAI Conference on Artiﬁcial Intelligence, AAAI 2018 ; Conference date: 02-02-2018\\nThrough 07-02-2018.\\n11'),\n",
       " Document(metadata={'producer': 'macOS Version 10.15.7 (Build 19H15) Quartz PDFContext', 'creator': 'LaTeX with hyperref', 'creationdate': \"D:20210107190157Z00'00'\", 'moddate': \"D:20210107190157Z00'00'\", 'source': 'RAG_paper.pdf', 'total_pages': 16, 'page': 11, 'page_label': '12'}, page_content='[19] Kelvin Guu, Tatsunori B. Hashimoto, Yonatan Oren, and Percy Liang. Generating sentences by\\nediting prototypes.Transactions of the Association for Computational Linguistics, 6:437–450,'),\n",
       " Document(metadata={'producer': 'macOS Version 10.15.7 (Build 19H15) Quartz PDFContext', 'creator': 'LaTeX with hyperref', 'creationdate': \"D:20210107190157Z00'00'\", 'moddate': \"D:20210107190157Z00'00'\", 'source': 'RAG_paper.pdf', 'total_pages': 16, 'page': 11, 'page_label': '12'}, page_content='2018. doi: 10.1162/tacl_a_00030. URLhttps://www.aclweb.org/anthology/Q18-1031.\\n[20] Kelvin Guu, Kenton Lee, Zora Tung, Panupong Pasupat, and Ming-Wei Chang. REALM:'),\n",
       " Document(metadata={'producer': 'macOS Version 10.15.7 (Build 19H15) Quartz PDFContext', 'creator': 'LaTeX with hyperref', 'creationdate': \"D:20210107190157Z00'00'\", 'moddate': \"D:20210107190157Z00'00'\", 'source': 'RAG_paper.pdf', 'total_pages': 16, 'page': 11, 'page_label': '12'}, page_content='Retrieval-augmented language model pre-training.ArXiv, abs/2002.08909, 2020. URLhttps:\\n//arxiv.org/abs/2002.08909.\\n[21] Tatsunori B Hashimoto, Kelvin Guu, Yonatan Oren, and Percy S Liang. A'),\n",
       " Document(metadata={'producer': 'macOS Version 10.15.7 (Build 19H15) Quartz PDFContext', 'creator': 'LaTeX with hyperref', 'creationdate': \"D:20210107190157Z00'00'\", 'moddate': \"D:20210107190157Z00'00'\", 'source': 'RAG_paper.pdf', 'total_pages': 16, 'page': 11, 'page_label': '12'}, page_content='retrieve-and-edit framework for predicting structured outputs. In S. Bengio,\\nH. Wallach, H. Larochelle, K. Grauman, N. Cesa-Bianchi, and R. Garnett, ed-'),\n",
       " Document(metadata={'producer': 'macOS Version 10.15.7 (Build 19H15) Quartz PDFContext', 'creator': 'LaTeX with hyperref', 'creationdate': \"D:20210107190157Z00'00'\", 'moddate': \"D:20210107190157Z00'00'\", 'source': 'RAG_paper.pdf', 'total_pages': 16, 'page': 11, 'page_label': '12'}, page_content='itors, Advances in Neural Information Processing Systems 31 , pages 10052–\\n10062. Curran Associates, Inc., 2018. URL http://papers.nips.cc/paper/'),\n",
       " Document(metadata={'producer': 'macOS Version 10.15.7 (Build 19H15) Quartz PDFContext', 'creator': 'LaTeX with hyperref', 'creationdate': \"D:20210107190157Z00'00'\", 'moddate': \"D:20210107190157Z00'00'\", 'source': 'RAG_paper.pdf', 'total_pages': 16, 'page': 11, 'page_label': '12'}, page_content='8209-a-retrieve-and-edit-framework-for-predicting-structured-outputs.\\npdf.\\n[22] Nabil Hossain, Marjan Ghazvininejad, and Luke Zettlemoyer. Simple and effective retrieve-'),\n",
       " Document(metadata={'producer': 'macOS Version 10.15.7 (Build 19H15) Quartz PDFContext', 'creator': 'LaTeX with hyperref', 'creationdate': \"D:20210107190157Z00'00'\", 'moddate': \"D:20210107190157Z00'00'\", 'source': 'RAG_paper.pdf', 'total_pages': 16, 'page': 11, 'page_label': '12'}, page_content='edit-rerank text generation. InProceedings of the 58th Annual Meeting of the Association for\\nComputational Linguistics, pages 2532–2538, Online, July 2020. Association for Computa-'),\n",
       " Document(metadata={'producer': 'macOS Version 10.15.7 (Build 19H15) Quartz PDFContext', 'creator': 'LaTeX with hyperref', 'creationdate': \"D:20210107190157Z00'00'\", 'moddate': \"D:20210107190157Z00'00'\", 'source': 'RAG_paper.pdf', 'total_pages': 16, 'page': 11, 'page_label': '12'}, page_content='tional Linguistics. doi: 10.18653/v1/2020.acl-main.228. URLhttps://www.aclweb.org/\\nanthology/2020.acl-main.228.'),\n",
       " Document(metadata={'producer': 'macOS Version 10.15.7 (Build 19H15) Quartz PDFContext', 'creator': 'LaTeX with hyperref', 'creationdate': \"D:20210107190157Z00'00'\", 'moddate': \"D:20210107190157Z00'00'\", 'source': 'RAG_paper.pdf', 'total_pages': 16, 'page': 11, 'page_label': '12'}, page_content='anthology/2020.acl-main.228.\\n[23] Jeff Johnson, Matthijs Douze, and Hervé Jégou. Billion-scale similarity search with gpus.arXiv\\npreprint arXiv:1702.08734, 2017. URLhttps://arxiv.org/abs/1702.08734.'),\n",
       " Document(metadata={'producer': 'macOS Version 10.15.7 (Build 19H15) Quartz PDFContext', 'creator': 'LaTeX with hyperref', 'creationdate': \"D:20210107190157Z00'00'\", 'moddate': \"D:20210107190157Z00'00'\", 'source': 'RAG_paper.pdf', 'total_pages': 16, 'page': 11, 'page_label': '12'}, page_content='[24] Mandar Joshi, Eunsol Choi, Daniel Weld, and Luke Zettlemoyer. TriviaQA: A Large Scale\\nDistantly Supervised Challenge Dataset for Reading Comprehension. InProceedings of the'),\n",
       " Document(metadata={'producer': 'macOS Version 10.15.7 (Build 19H15) Quartz PDFContext', 'creator': 'LaTeX with hyperref', 'creationdate': \"D:20210107190157Z00'00'\", 'moddate': \"D:20210107190157Z00'00'\", 'source': 'RAG_paper.pdf', 'total_pages': 16, 'page': 11, 'page_label': '12'}, page_content='55th Annual Meeting of the Association for Computational Linguistics (Volume 1: Long Papers),\\npages 1601–1611, Vancouver, Canada, July 2017. Association for Computational Linguistics.'),\n",
       " Document(metadata={'producer': 'macOS Version 10.15.7 (Build 19H15) Quartz PDFContext', 'creator': 'LaTeX with hyperref', 'creationdate': \"D:20210107190157Z00'00'\", 'moddate': \"D:20210107190157Z00'00'\", 'source': 'RAG_paper.pdf', 'total_pages': 16, 'page': 11, 'page_label': '12'}, page_content='doi: 10.18653/v1/P17-1147. URLhttps://www.aclweb.org/anthology/P17-1147.\\n[25] Armand Joulin and Tomas Mikolov. Inferring algorithmic patterns with stack-'),\n",
       " Document(metadata={'producer': 'macOS Version 10.15.7 (Build 19H15) Quartz PDFContext', 'creator': 'LaTeX with hyperref', 'creationdate': \"D:20210107190157Z00'00'\", 'moddate': \"D:20210107190157Z00'00'\", 'source': 'RAG_paper.pdf', 'total_pages': 16, 'page': 11, 'page_label': '12'}, page_content='augmented recurrent nets. In Proceedings of the 28th International Conference on\\nNeural Information Processing Systems - Volume 1 , NIPS’15, page 190–198, Cam-'),\n",
       " Document(metadata={'producer': 'macOS Version 10.15.7 (Build 19H15) Quartz PDFContext', 'creator': 'LaTeX with hyperref', 'creationdate': \"D:20210107190157Z00'00'\", 'moddate': \"D:20210107190157Z00'00'\", 'source': 'RAG_paper.pdf', 'total_pages': 16, 'page': 11, 'page_label': '12'}, page_content='bridge, MA, USA, 2015. MIT Press. URL https://papers.nips.cc/paper/\\n5857-inferring-algorithmic-patterns-with-stack-augmented-recurrent-nets .'),\n",
       " Document(metadata={'producer': 'macOS Version 10.15.7 (Build 19H15) Quartz PDFContext', 'creator': 'LaTeX with hyperref', 'creationdate': \"D:20210107190157Z00'00'\", 'moddate': \"D:20210107190157Z00'00'\", 'source': 'RAG_paper.pdf', 'total_pages': 16, 'page': 11, 'page_label': '12'}, page_content='[26] Vladimir Karpukhin, Barlas Oguz, Sewon Min, Ledell Wu, Sergey Edunov, Danqi Chen, and\\nWen-tau Yih. Dense passage retrieval for open-domain question answering.arXiv preprint'),\n",
       " Document(metadata={'producer': 'macOS Version 10.15.7 (Build 19H15) Quartz PDFContext', 'creator': 'LaTeX with hyperref', 'creationdate': \"D:20210107190157Z00'00'\", 'moddate': \"D:20210107190157Z00'00'\", 'source': 'RAG_paper.pdf', 'total_pages': 16, 'page': 11, 'page_label': '12'}, page_content='arXiv:2004.04906, 2020. URLhttps://arxiv.org/abs/2004.04906.\\n[27] Urvashi Khandelwal, Omer Levy, Dan Jurafsky, Luke Zettlemoyer, and Mike Lewis. Generaliza-'),\n",
       " Document(metadata={'producer': 'macOS Version 10.15.7 (Build 19H15) Quartz PDFContext', 'creator': 'LaTeX with hyperref', 'creationdate': \"D:20210107190157Z00'00'\", 'moddate': \"D:20210107190157Z00'00'\", 'source': 'RAG_paper.pdf', 'total_pages': 16, 'page': 11, 'page_label': '12'}, page_content='tion through memorization: Nearest neighbor language models. InInternational Conference on\\nLearning Representations, 2020. URLhttps://openreview.net/forum?id=HklBjCEKvH.'),\n",
       " Document(metadata={'producer': 'macOS Version 10.15.7 (Build 19H15) Quartz PDFContext', 'creator': 'LaTeX with hyperref', 'creationdate': \"D:20210107190157Z00'00'\", 'moddate': \"D:20210107190157Z00'00'\", 'source': 'RAG_paper.pdf', 'total_pages': 16, 'page': 11, 'page_label': '12'}, page_content='[28] Diederik P. Kingma and Jimmy Ba. Adam: A method for stochastic optimization. In Yoshua\\nBengio and Yann LeCun, editors,3rd International Conference on Learning Representations,'),\n",
       " Document(metadata={'producer': 'macOS Version 10.15.7 (Build 19H15) Quartz PDFContext', 'creator': 'LaTeX with hyperref', 'creationdate': \"D:20210107190157Z00'00'\", 'moddate': \"D:20210107190157Z00'00'\", 'source': 'RAG_paper.pdf', 'total_pages': 16, 'page': 11, 'page_label': '12'}, page_content='ICLR 2015, San Diego, CA, USA, May 7-9, 2015, Conference Track Proceedings, 2015. URL\\nhttp://arxiv.org/abs/1412.6980.'),\n",
       " Document(metadata={'producer': 'macOS Version 10.15.7 (Build 19H15) Quartz PDFContext', 'creator': 'LaTeX with hyperref', 'creationdate': \"D:20210107190157Z00'00'\", 'moddate': \"D:20210107190157Z00'00'\", 'source': 'RAG_paper.pdf', 'total_pages': 16, 'page': 11, 'page_label': '12'}, page_content='[29] Tom Kwiatkowski, Jennimaria Palomaki, Olivia Redﬁeld, Michael Collins, Ankur Parikh,\\nChris Alberti, Danielle Epstein, Illia Polosukhin, Matthew Kelcey, Jacob Devlin, Ken-'),\n",
       " Document(metadata={'producer': 'macOS Version 10.15.7 (Build 19H15) Quartz PDFContext', 'creator': 'LaTeX with hyperref', 'creationdate': \"D:20210107190157Z00'00'\", 'moddate': \"D:20210107190157Z00'00'\", 'source': 'RAG_paper.pdf', 'total_pages': 16, 'page': 11, 'page_label': '12'}, page_content='ton Lee, Kristina N. Toutanova, Llion Jones, Ming-Wei Chang, Andrew Dai, Jakob\\nUszkoreit, Quoc Le, and Slav Petrov. Natural Questions: a Benchmark for Ques-'),\n",
       " Document(metadata={'producer': 'macOS Version 10.15.7 (Build 19H15) Quartz PDFContext', 'creator': 'LaTeX with hyperref', 'creationdate': \"D:20210107190157Z00'00'\", 'moddate': \"D:20210107190157Z00'00'\", 'source': 'RAG_paper.pdf', 'total_pages': 16, 'page': 11, 'page_label': '12'}, page_content='tion Answering Research. Transactions of the Association of Computational Lin-\\nguistics, 2019. URL https://tomkwiat.users.x20web.corp.google.com/papers/\\nnatural-questions/main-1455-kwiatkowski.pdf .'),\n",
       " Document(metadata={'producer': 'macOS Version 10.15.7 (Build 19H15) Quartz PDFContext', 'creator': 'LaTeX with hyperref', 'creationdate': \"D:20210107190157Z00'00'\", 'moddate': \"D:20210107190157Z00'00'\", 'source': 'RAG_paper.pdf', 'total_pages': 16, 'page': 11, 'page_label': '12'}, page_content='[30] Guillaume Lample, Alexandre Sablayrolles, Marc’ Aurelio Ranzato, Ludovic Denoyer, and\\nHerve Jegou. Large memory layers with product keys. In H. Wallach, H. Larochelle,'),\n",
       " Document(metadata={'producer': 'macOS Version 10.15.7 (Build 19H15) Quartz PDFContext', 'creator': 'LaTeX with hyperref', 'creationdate': \"D:20210107190157Z00'00'\", 'moddate': \"D:20210107190157Z00'00'\", 'source': 'RAG_paper.pdf', 'total_pages': 16, 'page': 11, 'page_label': '12'}, page_content='A. Beygelzimer, F. d’ Alché-Buc, E. Fox, and R. Garnett, editors,Advances in Neural In-\\nformation Processing Systems 32, pages 8548–8559. Curran Associates, Inc., 2019. URLhttp:'),\n",
       " Document(metadata={'producer': 'macOS Version 10.15.7 (Build 19H15) Quartz PDFContext', 'creator': 'LaTeX with hyperref', 'creationdate': \"D:20210107190157Z00'00'\", 'moddate': \"D:20210107190157Z00'00'\", 'source': 'RAG_paper.pdf', 'total_pages': 16, 'page': 11, 'page_label': '12'}, page_content='//papers.nips.cc/paper/9061-large-memory-layers-with-product-keys.pdf .\\n12'),\n",
       " Document(metadata={'producer': 'macOS Version 10.15.7 (Build 19H15) Quartz PDFContext', 'creator': 'LaTeX with hyperref', 'creationdate': \"D:20210107190157Z00'00'\", 'moddate': \"D:20210107190157Z00'00'\", 'source': 'RAG_paper.pdf', 'total_pages': 16, 'page': 12, 'page_label': '13'}, page_content='[31] Kenton Lee, Ming-Wei Chang, and Kristina Toutanova. Latent retrieval for weakly supervised\\nopen domain question answering. InProceedings of the 57th Annual Meeting of the Association'),\n",
       " Document(metadata={'producer': 'macOS Version 10.15.7 (Build 19H15) Quartz PDFContext', 'creator': 'LaTeX with hyperref', 'creationdate': \"D:20210107190157Z00'00'\", 'moddate': \"D:20210107190157Z00'00'\", 'source': 'RAG_paper.pdf', 'total_pages': 16, 'page': 12, 'page_label': '13'}, page_content='for Computational Linguistics, pages 6086–6096, Florence, Italy, July 2019. Association for\\nComputational Linguistics. doi: 10.18653/v1/P19-1612. URLhttps://www.aclweb.org/\\nanthology/P19-1612.'),\n",
       " Document(metadata={'producer': 'macOS Version 10.15.7 (Build 19H15) Quartz PDFContext', 'creator': 'LaTeX with hyperref', 'creationdate': \"D:20210107190157Z00'00'\", 'moddate': \"D:20210107190157Z00'00'\", 'source': 'RAG_paper.pdf', 'total_pages': 16, 'page': 12, 'page_label': '13'}, page_content='anthology/P19-1612.\\n[32] Mike Lewis, Yinhan Liu, Naman Goyal, Marjan Ghazvininejad, Abdelrahman Mohamed,\\nOmer Levy, Veselin Stoyanov, and Luke Zettlemoyer. BART: Denoising sequence-to-sequence'),\n",
       " Document(metadata={'producer': 'macOS Version 10.15.7 (Build 19H15) Quartz PDFContext', 'creator': 'LaTeX with hyperref', 'creationdate': \"D:20210107190157Z00'00'\", 'moddate': \"D:20210107190157Z00'00'\", 'source': 'RAG_paper.pdf', 'total_pages': 16, 'page': 12, 'page_label': '13'}, page_content='pre-training for natural language generation, translation, and comprehension.arXiv preprint\\narXiv:1910.13461, 2019. URLhttps://arxiv.org/abs/1910.13461.'),\n",
       " Document(metadata={'producer': 'macOS Version 10.15.7 (Build 19H15) Quartz PDFContext', 'creator': 'LaTeX with hyperref', 'creationdate': \"D:20210107190157Z00'00'\", 'moddate': \"D:20210107190157Z00'00'\", 'source': 'RAG_paper.pdf', 'total_pages': 16, 'page': 12, 'page_label': '13'}, page_content='[33] Jiwei Li, Michel Galley, Chris Brockett, Jianfeng Gao, and Bill Dolan. A diversity-promoting\\nobjective function for neural conversation models. InProceedings of the 2016 Conference of the'),\n",
       " Document(metadata={'producer': 'macOS Version 10.15.7 (Build 19H15) Quartz PDFContext', 'creator': 'LaTeX with hyperref', 'creationdate': \"D:20210107190157Z00'00'\", 'moddate': \"D:20210107190157Z00'00'\", 'source': 'RAG_paper.pdf', 'total_pages': 16, 'page': 12, 'page_label': '13'}, page_content='North American Chapter of the Association for Computational Linguistics: Human Language\\nTechnologies, pages 110–119, San Diego, California, June 2016. Association for Computational'),\n",
       " Document(metadata={'producer': 'macOS Version 10.15.7 (Build 19H15) Quartz PDFContext', 'creator': 'LaTeX with hyperref', 'creationdate': \"D:20210107190157Z00'00'\", 'moddate': \"D:20210107190157Z00'00'\", 'source': 'RAG_paper.pdf', 'total_pages': 16, 'page': 12, 'page_label': '13'}, page_content='Linguistics. doi: 10.18653/v1/N16-1014. URL https://www.aclweb.org/anthology/\\nN16-1014.\\n[34] Margaret Li, Jason Weston, and Stephen Roller. Acute-eval: Improved dialogue evaluation'),\n",
       " Document(metadata={'producer': 'macOS Version 10.15.7 (Build 19H15) Quartz PDFContext', 'creator': 'LaTeX with hyperref', 'creationdate': \"D:20210107190157Z00'00'\", 'moddate': \"D:20210107190157Z00'00'\", 'source': 'RAG_paper.pdf', 'total_pages': 16, 'page': 12, 'page_label': '13'}, page_content='with optimized questions and multi-turn comparisons.ArXiv, abs/1909.03087, 2019. URL\\nhttps://arxiv.org/abs/1909.03087.'),\n",
       " Document(metadata={'producer': 'macOS Version 10.15.7 (Build 19H15) Quartz PDFContext', 'creator': 'LaTeX with hyperref', 'creationdate': \"D:20210107190157Z00'00'\", 'moddate': \"D:20210107190157Z00'00'\", 'source': 'RAG_paper.pdf', 'total_pages': 16, 'page': 12, 'page_label': '13'}, page_content='[35] Hairong Liu, Mingbo Ma, Liang Huang, Hao Xiong, and Zhongjun He. Robust neural machine\\ntranslation with joint textual and phonetic embedding. InProceedings of the 57th Annual'),\n",
       " Document(metadata={'producer': 'macOS Version 10.15.7 (Build 19H15) Quartz PDFContext', 'creator': 'LaTeX with hyperref', 'creationdate': \"D:20210107190157Z00'00'\", 'moddate': \"D:20210107190157Z00'00'\", 'source': 'RAG_paper.pdf', 'total_pages': 16, 'page': 12, 'page_label': '13'}, page_content='Meeting of the Association for Computational Linguistics, pages 3044–3049, Florence, Italy,\\nJuly 2019. Association for Computational Linguistics. doi: 10.18653/v1/P19-1291. URL'),\n",
       " Document(metadata={'producer': 'macOS Version 10.15.7 (Build 19H15) Quartz PDFContext', 'creator': 'LaTeX with hyperref', 'creationdate': \"D:20210107190157Z00'00'\", 'moddate': \"D:20210107190157Z00'00'\", 'source': 'RAG_paper.pdf', 'total_pages': 16, 'page': 12, 'page_label': '13'}, page_content='https://www.aclweb.org/anthology/P19-1291.\\n[36] Peter J. Liu*, Mohammad Saleh*, Etienne Pot, Ben Goodrich, Ryan Sepassi, Lukasz Kaiser,'),\n",
       " Document(metadata={'producer': 'macOS Version 10.15.7 (Build 19H15) Quartz PDFContext', 'creator': 'LaTeX with hyperref', 'creationdate': \"D:20210107190157Z00'00'\", 'moddate': \"D:20210107190157Z00'00'\", 'source': 'RAG_paper.pdf', 'total_pages': 16, 'page': 12, 'page_label': '13'}, page_content='and Noam Shazeer. Generating wikipedia by summarizing long sequences. InInternational\\nConference on Learning Representations, 2018. URLhttps://openreview.net/forum?\\nid=Hyg0vbWC-.'),\n",
       " Document(metadata={'producer': 'macOS Version 10.15.7 (Build 19H15) Quartz PDFContext', 'creator': 'LaTeX with hyperref', 'creationdate': \"D:20210107190157Z00'00'\", 'moddate': \"D:20210107190157Z00'00'\", 'source': 'RAG_paper.pdf', 'total_pages': 16, 'page': 12, 'page_label': '13'}, page_content='id=Hyg0vbWC-.\\n[37] Yury A. Malkov and D. A. Yashunin. Efﬁcient and robust approximate nearest neighbor search\\nusing hierarchical navigable small world graphs.IEEE Transactions on Pattern Analysis and'),\n",
       " Document(metadata={'producer': 'macOS Version 10.15.7 (Build 19H15) Quartz PDFContext', 'creator': 'LaTeX with hyperref', 'creationdate': \"D:20210107190157Z00'00'\", 'moddate': \"D:20210107190157Z00'00'\", 'source': 'RAG_paper.pdf', 'total_pages': 16, 'page': 12, 'page_label': '13'}, page_content='Machine Intelligence, 42:824–836, 2016. URLhttps://arxiv.org/abs/1603.09320.\\n[38] Gary Marcus. The next decade in ai: four steps towards robust artiﬁcial intelligence.arXiv'),\n",
       " Document(metadata={'producer': 'macOS Version 10.15.7 (Build 19H15) Quartz PDFContext', 'creator': 'LaTeX with hyperref', 'creationdate': \"D:20210107190157Z00'00'\", 'moddate': \"D:20210107190157Z00'00'\", 'source': 'RAG_paper.pdf', 'total_pages': 16, 'page': 12, 'page_label': '13'}, page_content='preprint arXiv:2002.06177, 2020. URLhttps://arxiv.org/abs/2002.06177.\\n[39] Luca Massarelli, Fabio Petroni, Aleksandra Piktus, Myle Ott, Tim Rocktäschel, Vassilis'),\n",
       " Document(metadata={'producer': 'macOS Version 10.15.7 (Build 19H15) Quartz PDFContext', 'creator': 'LaTeX with hyperref', 'creationdate': \"D:20210107190157Z00'00'\", 'moddate': \"D:20210107190157Z00'00'\", 'source': 'RAG_paper.pdf', 'total_pages': 16, 'page': 12, 'page_label': '13'}, page_content='Plachouras, Fabrizio Silvestri, and Sebastian Riedel. How decoding strategies affect the\\nveriﬁability of generated text. arXiv preprint arXiv:1911.03587, 2019. URL https:\\n//arxiv.org/abs/1911.03587.'),\n",
       " Document(metadata={'producer': 'macOS Version 10.15.7 (Build 19H15) Quartz PDFContext', 'creator': 'LaTeX with hyperref', 'creationdate': \"D:20210107190157Z00'00'\", 'moddate': \"D:20210107190157Z00'00'\", 'source': 'RAG_paper.pdf', 'total_pages': 16, 'page': 12, 'page_label': '13'}, page_content='//arxiv.org/abs/1911.03587.\\n[40] Paulius Micikevicius, Sharan Narang, Jonah Alben, Gregory Diamos, Erich Elsen, David Garcia,'),\n",
       " Document(metadata={'producer': 'macOS Version 10.15.7 (Build 19H15) Quartz PDFContext', 'creator': 'LaTeX with hyperref', 'creationdate': \"D:20210107190157Z00'00'\", 'moddate': \"D:20210107190157Z00'00'\", 'source': 'RAG_paper.pdf', 'total_pages': 16, 'page': 12, 'page_label': '13'}, page_content='Boris Ginsburg, Michael Houston, Oleksii Kuchaiev, Ganesh Venkatesh, and Hao Wu. Mixed\\nprecision training. InICLR, 2018. URLhttps://openreview.net/forum?id=r1gs9JgRZ.'),\n",
       " Document(metadata={'producer': 'macOS Version 10.15.7 (Build 19H15) Quartz PDFContext', 'creator': 'LaTeX with hyperref', 'creationdate': \"D:20210107190157Z00'00'\", 'moddate': \"D:20210107190157Z00'00'\", 'source': 'RAG_paper.pdf', 'total_pages': 16, 'page': 12, 'page_label': '13'}, page_content='[41] Nikita Moghe, Siddhartha Arora, Suman Banerjee, and Mitesh M. Khapra. Towards exploit-\\ning background knowledge for building conversation systems. InProceedings of the 2018'),\n",
       " Document(metadata={'producer': 'macOS Version 10.15.7 (Build 19H15) Quartz PDFContext', 'creator': 'LaTeX with hyperref', 'creationdate': \"D:20210107190157Z00'00'\", 'moddate': \"D:20210107190157Z00'00'\", 'source': 'RAG_paper.pdf', 'total_pages': 16, 'page': 12, 'page_label': '13'}, page_content='Conference on Empirical Methods in Natural Language Processing, pages 2322–2332, Brus-\\nsels, Belgium, October-November 2018. Association for Computational Linguistics. doi:'),\n",
       " Document(metadata={'producer': 'macOS Version 10.15.7 (Build 19H15) Quartz PDFContext', 'creator': 'LaTeX with hyperref', 'creationdate': \"D:20210107190157Z00'00'\", 'moddate': \"D:20210107190157Z00'00'\", 'source': 'RAG_paper.pdf', 'total_pages': 16, 'page': 12, 'page_label': '13'}, page_content='10.18653/v1/D18-1255. URL https://www.aclweb.org/anthology/D18-1255.\\n[42] Preksha Nema and Mitesh M. Khapra. Towards a better metric for evaluating question generation'),\n",
       " Document(metadata={'producer': 'macOS Version 10.15.7 (Build 19H15) Quartz PDFContext', 'creator': 'LaTeX with hyperref', 'creationdate': \"D:20210107190157Z00'00'\", 'moddate': \"D:20210107190157Z00'00'\", 'source': 'RAG_paper.pdf', 'total_pages': 16, 'page': 12, 'page_label': '13'}, page_content='systems. InProceedings of the 2018 Conference on Empirical Methods in Natural Language\\nProcessing, pages 3950–3959, Brussels, Belgium, October-November 2018. Association for'),\n",
       " Document(metadata={'producer': 'macOS Version 10.15.7 (Build 19H15) Quartz PDFContext', 'creator': 'LaTeX with hyperref', 'creationdate': \"D:20210107190157Z00'00'\", 'moddate': \"D:20210107190157Z00'00'\", 'source': 'RAG_paper.pdf', 'total_pages': 16, 'page': 12, 'page_label': '13'}, page_content='Computational Linguistics. doi: 10.18653/v1/D18-1429. URLhttps://www.aclweb.org/\\nanthology/D18-1429.\\n13'),\n",
       " Document(metadata={'producer': 'macOS Version 10.15.7 (Build 19H15) Quartz PDFContext', 'creator': 'LaTeX with hyperref', 'creationdate': \"D:20210107190157Z00'00'\", 'moddate': \"D:20210107190157Z00'00'\", 'source': 'RAG_paper.pdf', 'total_pages': 16, 'page': 13, 'page_label': '14'}, page_content='[43] Tri Nguyen, Mir Rosenberg, Xia Song, Jianfeng Gao, Saurabh Tiwary, Rangan Majumder,\\nand Li Deng. MS MARCO: A human generated machine reading comprehension dataset. In'),\n",
       " Document(metadata={'producer': 'macOS Version 10.15.7 (Build 19H15) Quartz PDFContext', 'creator': 'LaTeX with hyperref', 'creationdate': \"D:20210107190157Z00'00'\", 'moddate': \"D:20210107190157Z00'00'\", 'source': 'RAG_paper.pdf', 'total_pages': 16, 'page': 13, 'page_label': '14'}, page_content='Tarek Richard Besold, Antoine Bordes, Artur S. d’Avila Garcez, and Greg Wayne, editors,\\nProceedings of the Workshop on Cognitive Computation: Integrating neural and symbolic'),\n",
       " Document(metadata={'producer': 'macOS Version 10.15.7 (Build 19H15) Quartz PDFContext', 'creator': 'LaTeX with hyperref', 'creationdate': \"D:20210107190157Z00'00'\", 'moddate': \"D:20210107190157Z00'00'\", 'source': 'RAG_paper.pdf', 'total_pages': 16, 'page': 13, 'page_label': '14'}, page_content='approaches 2016 co-located with the 30th Annual Conference on Neural Information Processing\\nSystems (NIPS 2016), Barcelona, Spain, December 9, 2016, volume 1773 ofCEUR Workshop'),\n",
       " Document(metadata={'producer': 'macOS Version 10.15.7 (Build 19H15) Quartz PDFContext', 'creator': 'LaTeX with hyperref', 'creationdate': \"D:20210107190157Z00'00'\", 'moddate': \"D:20210107190157Z00'00'\", 'source': 'RAG_paper.pdf', 'total_pages': 16, 'page': 13, 'page_label': '14'}, page_content='Proceedings. CEUR-WS.org, 2016. URL http://ceur-ws.org/Vol-1773/CoCoNIPS_\\n2016_paper9.pdf.\\n[44] Rodrigo Nogueira and Kyunghyun Cho. Passage re-ranking with BERT.arXiv preprint'),\n",
       " Document(metadata={'producer': 'macOS Version 10.15.7 (Build 19H15) Quartz PDFContext', 'creator': 'LaTeX with hyperref', 'creationdate': \"D:20210107190157Z00'00'\", 'moddate': \"D:20210107190157Z00'00'\", 'source': 'RAG_paper.pdf', 'total_pages': 16, 'page': 13, 'page_label': '14'}, page_content='arXiv:1901.04085, 2019. URLhttps://arxiv.org/abs/1901.04085.\\n[45] Myle Ott, Sergey Edunov, Alexei Baevski, Angela Fan, Sam Gross, Nathan Ng, David Grangier,'),\n",
       " Document(metadata={'producer': 'macOS Version 10.15.7 (Build 19H15) Quartz PDFContext', 'creator': 'LaTeX with hyperref', 'creationdate': \"D:20210107190157Z00'00'\", 'moddate': \"D:20210107190157Z00'00'\", 'source': 'RAG_paper.pdf', 'total_pages': 16, 'page': 13, 'page_label': '14'}, page_content='and Michael Auli. fairseq: A fast, extensible toolkit for sequence modeling. InProceedings\\nof the 2019 Conference of the North American Chapter of the Association for Computational'),\n",
       " Document(metadata={'producer': 'macOS Version 10.15.7 (Build 19H15) Quartz PDFContext', 'creator': 'LaTeX with hyperref', 'creationdate': \"D:20210107190157Z00'00'\", 'moddate': \"D:20210107190157Z00'00'\", 'source': 'RAG_paper.pdf', 'total_pages': 16, 'page': 13, 'page_label': '14'}, page_content='Linguistics (Demonstrations), pages 48–53, Minneapolis, Minnesota, June 2019. Association\\nfor Computational Linguistics. doi: 10.18653/v1/N19-4009. URLhttps://www.aclweb.\\norg/anthology/N19-4009.'),\n",
       " Document(metadata={'producer': 'macOS Version 10.15.7 (Build 19H15) Quartz PDFContext', 'creator': 'LaTeX with hyperref', 'creationdate': \"D:20210107190157Z00'00'\", 'moddate': \"D:20210107190157Z00'00'\", 'source': 'RAG_paper.pdf', 'total_pages': 16, 'page': 13, 'page_label': '14'}, page_content='org/anthology/N19-4009.\\n[46] Ethan Perez, Siddharth Karamcheti, Rob Fergus, Jason Weston, Douwe Kiela, and Kyunghyun'),\n",
       " Document(metadata={'producer': 'macOS Version 10.15.7 (Build 19H15) Quartz PDFContext', 'creator': 'LaTeX with hyperref', 'creationdate': \"D:20210107190157Z00'00'\", 'moddate': \"D:20210107190157Z00'00'\", 'source': 'RAG_paper.pdf', 'total_pages': 16, 'page': 13, 'page_label': '14'}, page_content='Cho. Finding generalizable evidence by learning to convince q&a models. InProceedings\\nof the 2019 Conference on Empirical Methods in Natural Language Processing and the 9th'),\n",
       " Document(metadata={'producer': 'macOS Version 10.15.7 (Build 19H15) Quartz PDFContext', 'creator': 'LaTeX with hyperref', 'creationdate': \"D:20210107190157Z00'00'\", 'moddate': \"D:20210107190157Z00'00'\", 'source': 'RAG_paper.pdf', 'total_pages': 16, 'page': 13, 'page_label': '14'}, page_content='International Joint Conference on Natural Language Processing (EMNLP-IJCNLP), pages\\n2402–2411, Hong Kong, China, November 2019. Association for Computational Linguistics.'),\n",
       " Document(metadata={'producer': 'macOS Version 10.15.7 (Build 19H15) Quartz PDFContext', 'creator': 'LaTeX with hyperref', 'creationdate': \"D:20210107190157Z00'00'\", 'moddate': \"D:20210107190157Z00'00'\", 'source': 'RAG_paper.pdf', 'total_pages': 16, 'page': 13, 'page_label': '14'}, page_content='doi: 10.18653/v1/D19-1244. URLhttps://www.aclweb.org/anthology/D19-1244.\\n[47] Fabio Petroni, Tim Rocktäschel, Sebastian Riedel, Patrick Lewis, Anton Bakhtin, Yuxiang Wu,'),\n",
       " Document(metadata={'producer': 'macOS Version 10.15.7 (Build 19H15) Quartz PDFContext', 'creator': 'LaTeX with hyperref', 'creationdate': \"D:20210107190157Z00'00'\", 'moddate': \"D:20210107190157Z00'00'\", 'source': 'RAG_paper.pdf', 'total_pages': 16, 'page': 13, 'page_label': '14'}, page_content='and Alexander Miller. Language models as knowledge bases? InProceedings of the 2019\\nConference on Empirical Methods in Natural Language Processing and the 9th International'),\n",
       " Document(metadata={'producer': 'macOS Version 10.15.7 (Build 19H15) Quartz PDFContext', 'creator': 'LaTeX with hyperref', 'creationdate': \"D:20210107190157Z00'00'\", 'moddate': \"D:20210107190157Z00'00'\", 'source': 'RAG_paper.pdf', 'total_pages': 16, 'page': 13, 'page_label': '14'}, page_content='Joint Conference on Natural Language Processing (EMNLP-IJCNLP), pages 2463–2473, Hong\\nKong, China, November 2019. Association for Computational Linguistics. doi: 10.18653/v1/'),\n",
       " Document(metadata={'producer': 'macOS Version 10.15.7 (Build 19H15) Quartz PDFContext', 'creator': 'LaTeX with hyperref', 'creationdate': \"D:20210107190157Z00'00'\", 'moddate': \"D:20210107190157Z00'00'\", 'source': 'RAG_paper.pdf', 'total_pages': 16, 'page': 13, 'page_label': '14'}, page_content='D19-1250. URL https://www.aclweb.org/anthology/D19-1250.\\n[48] Fabio Petroni, Patrick Lewis, Aleksandra Piktus, Tim Rocktäschel, Yuxiang Wu, Alexander H.'),\n",
       " Document(metadata={'producer': 'macOS Version 10.15.7 (Build 19H15) Quartz PDFContext', 'creator': 'LaTeX with hyperref', 'creationdate': \"D:20210107190157Z00'00'\", 'moddate': \"D:20210107190157Z00'00'\", 'source': 'RAG_paper.pdf', 'total_pages': 16, 'page': 13, 'page_label': '14'}, page_content='Miller, and Sebastian Riedel. How context affects language models’ factual predictions. In\\nAutomated Knowledge Base Construction, 2020. URLhttps://openreview.net/forum?\\nid=025X0zPfn.'),\n",
       " Document(metadata={'producer': 'macOS Version 10.15.7 (Build 19H15) Quartz PDFContext', 'creator': 'LaTeX with hyperref', 'creationdate': \"D:20210107190157Z00'00'\", 'moddate': \"D:20210107190157Z00'00'\", 'source': 'RAG_paper.pdf', 'total_pages': 16, 'page': 13, 'page_label': '14'}, page_content='id=025X0zPfn.\\n[49] Alec Radford, Karthik Narasimhan, Tim Salimans, and Ilya Sutskever. Im-\\nproving Language Understanding by Generative Pre-Training, 2018. URL'),\n",
       " Document(metadata={'producer': 'macOS Version 10.15.7 (Build 19H15) Quartz PDFContext', 'creator': 'LaTeX with hyperref', 'creationdate': \"D:20210107190157Z00'00'\", 'moddate': \"D:20210107190157Z00'00'\", 'source': 'RAG_paper.pdf', 'total_pages': 16, 'page': 13, 'page_label': '14'}, page_content='https://s3-us-west-2.amazonaws.com/openai-assets/research-covers/\\nlanguage-unsupervised/language_understanding_paper.pdf.\\n[50] Alec Radford, Jeff Wu, Rewon Child, David Luan, Dario Amodei, and Ilya'),\n",
       " Document(metadata={'producer': 'macOS Version 10.15.7 (Build 19H15) Quartz PDFContext', 'creator': 'LaTeX with hyperref', 'creationdate': \"D:20210107190157Z00'00'\", 'moddate': \"D:20210107190157Z00'00'\", 'source': 'RAG_paper.pdf', 'total_pages': 16, 'page': 13, 'page_label': '14'}, page_content='Sutskever. Language models are unsupervised multitask learners, 2019. URL\\nhttps://d4mucfpksywv.cloudfront.net/better-language-models/language_\\nmodels_are_unsupervised_multitask_learners.pdf.'),\n",
       " Document(metadata={'producer': 'macOS Version 10.15.7 (Build 19H15) Quartz PDFContext', 'creator': 'LaTeX with hyperref', 'creationdate': \"D:20210107190157Z00'00'\", 'moddate': \"D:20210107190157Z00'00'\", 'source': 'RAG_paper.pdf', 'total_pages': 16, 'page': 13, 'page_label': '14'}, page_content='[51] Colin Raffel, Noam Shazeer, Adam Roberts, Katherine Lee, Sharan Narang, Michael Matena,\\nYanqi Zhou, Wei Li, and Peter J. Liu. Exploring the limits of transfer learning with a uniﬁed'),\n",
       " Document(metadata={'producer': 'macOS Version 10.15.7 (Build 19H15) Quartz PDFContext', 'creator': 'LaTeX with hyperref', 'creationdate': \"D:20210107190157Z00'00'\", 'moddate': \"D:20210107190157Z00'00'\", 'source': 'RAG_paper.pdf', 'total_pages': 16, 'page': 13, 'page_label': '14'}, page_content='text-to-text transformer.arXiv e-prints, 2019. URLhttps://arxiv.org/abs/1910.10683.\\n[52] Adam Roberts, Colin Raffel, and Noam Shazeer. How much knowledge can you pack into'),\n",
       " Document(metadata={'producer': 'macOS Version 10.15.7 (Build 19H15) Quartz PDFContext', 'creator': 'LaTeX with hyperref', 'creationdate': \"D:20210107190157Z00'00'\", 'moddate': \"D:20210107190157Z00'00'\", 'source': 'RAG_paper.pdf', 'total_pages': 16, 'page': 13, 'page_label': '14'}, page_content='the parameters of a language model?arXiv e-prints, 2020. URLhttps://arxiv.org/abs/\\n2002.08910.\\n[53] Stephen Robertson and Hugo Zaragoza. The probabilistic relevance framework: Bm25 and'),\n",
       " Document(metadata={'producer': 'macOS Version 10.15.7 (Build 19H15) Quartz PDFContext', 'creator': 'LaTeX with hyperref', 'creationdate': \"D:20210107190157Z00'00'\", 'moddate': \"D:20210107190157Z00'00'\", 'source': 'RAG_paper.pdf', 'total_pages': 16, 'page': 13, 'page_label': '14'}, page_content='beyond. Found. Trends Inf. Retr., 3(4):333–389, April 2009. ISSN 1554-0669. doi: 10.1561/\\n1500000019. URLhttps://doi.org/10.1561/1500000019.'),\n",
       " Document(metadata={'producer': 'macOS Version 10.15.7 (Build 19H15) Quartz PDFContext', 'creator': 'LaTeX with hyperref', 'creationdate': \"D:20210107190157Z00'00'\", 'moddate': \"D:20210107190157Z00'00'\", 'source': 'RAG_paper.pdf', 'total_pages': 16, 'page': 13, 'page_label': '14'}, page_content='[54] Irene Solaiman, Miles Brundage, Jack Clark, Amanda Askell, Ariel Herbert-V oss, Jeff Wu, Alec\\nRadford, and Jian-Bing Wang. Release strategies and the social impacts of language models.'),\n",
       " Document(metadata={'producer': 'macOS Version 10.15.7 (Build 19H15) Quartz PDFContext', 'creator': 'LaTeX with hyperref', 'creationdate': \"D:20210107190157Z00'00'\", 'moddate': \"D:20210107190157Z00'00'\", 'source': 'RAG_paper.pdf', 'total_pages': 16, 'page': 13, 'page_label': '14'}, page_content='ArXiv, abs/1908.09203, 2019.\\n14'),\n",
       " Document(metadata={'producer': 'macOS Version 10.15.7 (Build 19H15) Quartz PDFContext', 'creator': 'LaTeX with hyperref', 'creationdate': \"D:20210107190157Z00'00'\", 'moddate': \"D:20210107190157Z00'00'\", 'source': 'RAG_paper.pdf', 'total_pages': 16, 'page': 14, 'page_label': '15'}, page_content='[55] Sainbayar Sukhbaatar, Arthur Szlam, Jason Weston, and Rob Fergus. End-to-end memory net-\\nworks. In C. Cortes, N. D. Lawrence, D. D. Lee, M. Sugiyama, and R. Garnett, editors,Advances'),\n",
       " Document(metadata={'producer': 'macOS Version 10.15.7 (Build 19H15) Quartz PDFContext', 'creator': 'LaTeX with hyperref', 'creationdate': \"D:20210107190157Z00'00'\", 'moddate': \"D:20210107190157Z00'00'\", 'source': 'RAG_paper.pdf', 'total_pages': 16, 'page': 14, 'page_label': '15'}, page_content='in Neural Information Processing Systems 28, pages 2440–2448. Curran Associates, Inc., 2015.\\nURL http://papers.nips.cc/paper/5846-end-to-end-memory-networks.pdf .'),\n",
       " Document(metadata={'producer': 'macOS Version 10.15.7 (Build 19H15) Quartz PDFContext', 'creator': 'LaTeX with hyperref', 'creationdate': \"D:20210107190157Z00'00'\", 'moddate': \"D:20210107190157Z00'00'\", 'source': 'RAG_paper.pdf', 'total_pages': 16, 'page': 14, 'page_label': '15'}, page_content='[56] James Thorne, Andreas Vlachos, Christos Christodoulopoulos, and Arpit Mittal. FEVER: a\\nlarge-scale dataset for fact extraction and VERiﬁcation. InProceedings of the 2018 Conference'),\n",
       " Document(metadata={'producer': 'macOS Version 10.15.7 (Build 19H15) Quartz PDFContext', 'creator': 'LaTeX with hyperref', 'creationdate': \"D:20210107190157Z00'00'\", 'moddate': \"D:20210107190157Z00'00'\", 'source': 'RAG_paper.pdf', 'total_pages': 16, 'page': 14, 'page_label': '15'}, page_content='of the North American Chapter of the Association for Computational Linguistics: Human\\nLanguage Technologies, Volume 1 (Long Papers), pages 809–819, New Orleans, Louisiana,'),\n",
       " Document(metadata={'producer': 'macOS Version 10.15.7 (Build 19H15) Quartz PDFContext', 'creator': 'LaTeX with hyperref', 'creationdate': \"D:20210107190157Z00'00'\", 'moddate': \"D:20210107190157Z00'00'\", 'source': 'RAG_paper.pdf', 'total_pages': 16, 'page': 14, 'page_label': '15'}, page_content='June 2018. Association for Computational Linguistics. doi: 10.18653/v1/N18-1074. URL\\nhttps://www.aclweb.org/anthology/N18-1074.'),\n",
       " Document(metadata={'producer': 'macOS Version 10.15.7 (Build 19H15) Quartz PDFContext', 'creator': 'LaTeX with hyperref', 'creationdate': \"D:20210107190157Z00'00'\", 'moddate': \"D:20210107190157Z00'00'\", 'source': 'RAG_paper.pdf', 'total_pages': 16, 'page': 14, 'page_label': '15'}, page_content='[57] James H. Thorne and Andreas Vlachos. Avoiding catastrophic forgetting in mitigating model\\nbiases in sentence-pair classiﬁcation with elastic weight consolidation.ArXiv, abs/2004.14366,'),\n",
       " Document(metadata={'producer': 'macOS Version 10.15.7 (Build 19H15) Quartz PDFContext', 'creator': 'LaTeX with hyperref', 'creationdate': \"D:20210107190157Z00'00'\", 'moddate': \"D:20210107190157Z00'00'\", 'source': 'RAG_paper.pdf', 'total_pages': 16, 'page': 14, 'page_label': '15'}, page_content='2020. URLhttps://arxiv.org/abs/2004.14366.\\n[58] Ashish Vaswani, Noam Shazeer, Niki Parmar, Jakob Uszkoreit, Llion Jones, Aidan N Gomez,'),\n",
       " Document(metadata={'producer': 'macOS Version 10.15.7 (Build 19H15) Quartz PDFContext', 'creator': 'LaTeX with hyperref', 'creationdate': \"D:20210107190157Z00'00'\", 'moddate': \"D:20210107190157Z00'00'\", 'source': 'RAG_paper.pdf', 'total_pages': 16, 'page': 14, 'page_label': '15'}, page_content='Ł ukasz Kaiser, and Illia Polosukhin. Attention is all you need. In I. Guyon, U. V . Luxburg,\\nS. Bengio, H. Wallach, R. Fergus, S. Vishwanathan, and R. Garnett, editors,Advances in Neural'),\n",
       " Document(metadata={'producer': 'macOS Version 10.15.7 (Build 19H15) Quartz PDFContext', 'creator': 'LaTeX with hyperref', 'creationdate': \"D:20210107190157Z00'00'\", 'moddate': \"D:20210107190157Z00'00'\", 'source': 'RAG_paper.pdf', 'total_pages': 16, 'page': 14, 'page_label': '15'}, page_content='Information Processing Systems 30, pages 5998–6008. Curran Associates, Inc., 2017. URL\\nhttp://papers.nips.cc/paper/7181-attention-is-all-you-need.pdf .'),\n",
       " Document(metadata={'producer': 'macOS Version 10.15.7 (Build 19H15) Quartz PDFContext', 'creator': 'LaTeX with hyperref', 'creationdate': \"D:20210107190157Z00'00'\", 'moddate': \"D:20210107190157Z00'00'\", 'source': 'RAG_paper.pdf', 'total_pages': 16, 'page': 14, 'page_label': '15'}, page_content='[59] Ashwin Vijayakumar, Michael Cogswell, Ramprasaath Selvaraju, Qing Sun, Stefan Lee, David\\nCrandall, and Dhruv Batra. Diverse beam search for improved description of complex scenes.'),\n",
       " Document(metadata={'producer': 'macOS Version 10.15.7 (Build 19H15) Quartz PDFContext', 'creator': 'LaTeX with hyperref', 'creationdate': \"D:20210107190157Z00'00'\", 'moddate': \"D:20210107190157Z00'00'\", 'source': 'RAG_paper.pdf', 'total_pages': 16, 'page': 14, 'page_label': '15'}, page_content='AAAI Conference on Artiﬁcial Intelligence, 2018. URLhttps://www.aaai.org/ocs/index.\\nphp/AAAI/AAAI18/paper/view/17329.'),\n",
       " Document(metadata={'producer': 'macOS Version 10.15.7 (Build 19H15) Quartz PDFContext', 'creator': 'LaTeX with hyperref', 'creationdate': \"D:20210107190157Z00'00'\", 'moddate': \"D:20210107190157Z00'00'\", 'source': 'RAG_paper.pdf', 'total_pages': 16, 'page': 14, 'page_label': '15'}, page_content='[60] Alex Wang, Amanpreet Singh, Julian Michael, Felix Hill, Omer Levy, and Samuel Bowman.\\nGLUE: A multi-task benchmark and analysis platform for natural language understanding.'),\n",
       " Document(metadata={'producer': 'macOS Version 10.15.7 (Build 19H15) Quartz PDFContext', 'creator': 'LaTeX with hyperref', 'creationdate': \"D:20210107190157Z00'00'\", 'moddate': \"D:20210107190157Z00'00'\", 'source': 'RAG_paper.pdf', 'total_pages': 16, 'page': 14, 'page_label': '15'}, page_content='In Proceedings of the 2018 EMNLP Workshop BlackboxNLP: Analyzing and Interpreting\\nNeural Networks for NLP, pages 353–355, Brussels, Belgium, November 2018. Association for'),\n",
       " Document(metadata={'producer': 'macOS Version 10.15.7 (Build 19H15) Quartz PDFContext', 'creator': 'LaTeX with hyperref', 'creationdate': \"D:20210107190157Z00'00'\", 'moddate': \"D:20210107190157Z00'00'\", 'source': 'RAG_paper.pdf', 'total_pages': 16, 'page': 14, 'page_label': '15'}, page_content='Computational Linguistics. doi: 10.18653/v1/W18-5446. URLhttps://www.aclweb.org/\\nanthology/W18-5446.\\n[61] Alex Wang, Yada Pruksachatkun, Nikita Nangia, Amanpreet Singh, Julian Michael, Felix'),\n",
       " Document(metadata={'producer': 'macOS Version 10.15.7 (Build 19H15) Quartz PDFContext', 'creator': 'LaTeX with hyperref', 'creationdate': \"D:20210107190157Z00'00'\", 'moddate': \"D:20210107190157Z00'00'\", 'source': 'RAG_paper.pdf', 'total_pages': 16, 'page': 14, 'page_label': '15'}, page_content='Hill, Omer Levy, and Samuel Bowman. SuperGLUE: A Stickier Benchmark for General-\\nPurpose Language Understanding Systems. In H. Wallach, H. Larochelle, A. Beygelzimer,'),\n",
       " Document(metadata={'producer': 'macOS Version 10.15.7 (Build 19H15) Quartz PDFContext', 'creator': 'LaTeX with hyperref', 'creationdate': \"D:20210107190157Z00'00'\", 'moddate': \"D:20210107190157Z00'00'\", 'source': 'RAG_paper.pdf', 'total_pages': 16, 'page': 14, 'page_label': '15'}, page_content='F. d\\\\textquotesingle Alché-Buc, E. Fox, and R. Garnett, editors,Advances in Neural Information\\nProcessing Systems 32, pages 3261–3275. Curran Associates, Inc., 2019. URLhttps://'),\n",
       " Document(metadata={'producer': 'macOS Version 10.15.7 (Build 19H15) Quartz PDFContext', 'creator': 'LaTeX with hyperref', 'creationdate': \"D:20210107190157Z00'00'\", 'moddate': \"D:20210107190157Z00'00'\", 'source': 'RAG_paper.pdf', 'total_pages': 16, 'page': 14, 'page_label': '15'}, page_content='arxiv.org/abs/1905.00537.\\n[62] Shuohang Wang, Mo Yu, Xiaoxiao Guo, Zhiguo Wang, Tim Klinger, Wei Zhang, Shiyu Chang,'),\n",
       " Document(metadata={'producer': 'macOS Version 10.15.7 (Build 19H15) Quartz PDFContext', 'creator': 'LaTeX with hyperref', 'creationdate': \"D:20210107190157Z00'00'\", 'moddate': \"D:20210107190157Z00'00'\", 'source': 'RAG_paper.pdf', 'total_pages': 16, 'page': 14, 'page_label': '15'}, page_content='Gerry Tesauro, Bowen Zhou, and Jing Jiang. R3: Reinforced ranker-reader for open-domain\\nquestion answering. In Sheila A. McIlraith and Kilian Q. Weinberger, editors,Proceedings of'),\n",
       " Document(metadata={'producer': 'macOS Version 10.15.7 (Build 19H15) Quartz PDFContext', 'creator': 'LaTeX with hyperref', 'creationdate': \"D:20210107190157Z00'00'\", 'moddate': \"D:20210107190157Z00'00'\", 'source': 'RAG_paper.pdf', 'total_pages': 16, 'page': 14, 'page_label': '15'}, page_content='the Thirty-Second AAAI Conference on Artiﬁcial Intelligence, (AAAI-18), the 30th innovative\\nApplications of Artiﬁcial Intelligence (IAAI-18), and the 8th AAAI Symposium on Educational'),\n",
       " Document(metadata={'producer': 'macOS Version 10.15.7 (Build 19H15) Quartz PDFContext', 'creator': 'LaTeX with hyperref', 'creationdate': \"D:20210107190157Z00'00'\", 'moddate': \"D:20210107190157Z00'00'\", 'source': 'RAG_paper.pdf', 'total_pages': 16, 'page': 14, 'page_label': '15'}, page_content='Advances in Artiﬁcial Intelligence (EAAI-18), New Orleans, Louisiana, USA, February 2-7,\\n2018, pages 5981–5988. AAAI Press, 2018. URLhttps://www.aaai.org/ocs/index.\\nphp/AAAI/AAAI18/paper/view/16712.'),\n",
       " Document(metadata={'producer': 'macOS Version 10.15.7 (Build 19H15) Quartz PDFContext', 'creator': 'LaTeX with hyperref', 'creationdate': \"D:20210107190157Z00'00'\", 'moddate': \"D:20210107190157Z00'00'\", 'source': 'RAG_paper.pdf', 'total_pages': 16, 'page': 14, 'page_label': '15'}, page_content='[63] Shuohang Wang, Mo Yu, Jing Jiang, Wei Zhang, Xiaoxiao Guo, Shiyu Chang, Zhiguo Wang,\\nTim Klinger, Gerald Tesauro, and Murray Campbell. Evidence aggregation for answer re-'),\n",
       " Document(metadata={'producer': 'macOS Version 10.15.7 (Build 19H15) Quartz PDFContext', 'creator': 'LaTeX with hyperref', 'creationdate': \"D:20210107190157Z00'00'\", 'moddate': \"D:20210107190157Z00'00'\", 'source': 'RAG_paper.pdf', 'total_pages': 16, 'page': 14, 'page_label': '15'}, page_content='ranking in open-domain question answering. InICLR, 2018. URLhttps://openreview.\\nnet/forum?id=rJl3yM-Ab.\\n[64] Jason Weston, Sumit Chopra, and Antoine Bordes. Memory networks. In Yoshua Bengio'),\n",
       " Document(metadata={'producer': 'macOS Version 10.15.7 (Build 19H15) Quartz PDFContext', 'creator': 'LaTeX with hyperref', 'creationdate': \"D:20210107190157Z00'00'\", 'moddate': \"D:20210107190157Z00'00'\", 'source': 'RAG_paper.pdf', 'total_pages': 16, 'page': 14, 'page_label': '15'}, page_content='and Yann LeCun, editors,3rd International Conference on Learning Representations, ICLR\\n2015, San Diego, CA, USA, May 7-9, 2015, Conference Track Proceedings, 2015. URL\\nhttp://arxiv.org/abs/1410.3916.'),\n",
       " Document(metadata={'producer': 'macOS Version 10.15.7 (Build 19H15) Quartz PDFContext', 'creator': 'LaTeX with hyperref', 'creationdate': \"D:20210107190157Z00'00'\", 'moddate': \"D:20210107190157Z00'00'\", 'source': 'RAG_paper.pdf', 'total_pages': 16, 'page': 14, 'page_label': '15'}, page_content='[65] Jason Weston, Emily Dinan, and Alexander Miller. Retrieve and reﬁne: Improved sequence\\ngeneration models for dialogue. InProceedings of the 2018 EMNLP Workshop SCAI: The 2nd\\n15'),\n",
       " Document(metadata={'producer': 'macOS Version 10.15.7 (Build 19H15) Quartz PDFContext', 'creator': 'LaTeX with hyperref', 'creationdate': \"D:20210107190157Z00'00'\", 'moddate': \"D:20210107190157Z00'00'\", 'source': 'RAG_paper.pdf', 'total_pages': 16, 'page': 15, 'page_label': '16'}, page_content='International Workshop on Search-Oriented Conversational AI, pages 87–92, Brussels, Belgium,\\nOctober 2018. Association for Computational Linguistics. doi: 10.18653/v1/W18-5713. URL'),\n",
       " Document(metadata={'producer': 'macOS Version 10.15.7 (Build 19H15) Quartz PDFContext', 'creator': 'LaTeX with hyperref', 'creationdate': \"D:20210107190157Z00'00'\", 'moddate': \"D:20210107190157Z00'00'\", 'source': 'RAG_paper.pdf', 'total_pages': 16, 'page': 15, 'page_label': '16'}, page_content='https://www.aclweb.org/anthology/W18-5713.\\n[66] Thomas Wolf, Lysandre Debut, Victor Sanh, Julien Chaumond, Clement Delangue, Anthony'),\n",
       " Document(metadata={'producer': 'macOS Version 10.15.7 (Build 19H15) Quartz PDFContext', 'creator': 'LaTeX with hyperref', 'creationdate': \"D:20210107190157Z00'00'\", 'moddate': \"D:20210107190157Z00'00'\", 'source': 'RAG_paper.pdf', 'total_pages': 16, 'page': 15, 'page_label': '16'}, page_content='Moi, Pierric Cistac, Tim Rault, Rémi Louf, Morgan Funtowicz, Joe Davison, Sam Shleifer,\\nPatrick von Platen, Clara Ma, Yacine Jernite, Julien Plu, Canwen Xu, Teven Le Scao, Sylvain'),\n",
       " Document(metadata={'producer': 'macOS Version 10.15.7 (Build 19H15) Quartz PDFContext', 'creator': 'LaTeX with hyperref', 'creationdate': \"D:20210107190157Z00'00'\", 'moddate': \"D:20210107190157Z00'00'\", 'source': 'RAG_paper.pdf', 'total_pages': 16, 'page': 15, 'page_label': '16'}, page_content='Gugger, Mariama Drame, Quentin Lhoest, and Alexander M. Rush. Huggingface’s transformers:\\nState-of-the-art natural language processing.ArXiv, abs/1910.03771, 2019.'),\n",
       " Document(metadata={'producer': 'macOS Version 10.15.7 (Build 19H15) Quartz PDFContext', 'creator': 'LaTeX with hyperref', 'creationdate': \"D:20210107190157Z00'00'\", 'moddate': \"D:20210107190157Z00'00'\", 'source': 'RAG_paper.pdf', 'total_pages': 16, 'page': 15, 'page_label': '16'}, page_content='[67] Shiyue Zhang and Mohit Bansal. Addressing semantic drift in question generation for semi-\\nsupervised question answering. InProceedings of the 2019 Conference on Empirical Meth-'),\n",
       " Document(metadata={'producer': 'macOS Version 10.15.7 (Build 19H15) Quartz PDFContext', 'creator': 'LaTeX with hyperref', 'creationdate': \"D:20210107190157Z00'00'\", 'moddate': \"D:20210107190157Z00'00'\", 'source': 'RAG_paper.pdf', 'total_pages': 16, 'page': 15, 'page_label': '16'}, page_content='ods in Natural Language Processing and the 9th International Joint Conference on Natural\\nLanguage Processing (EMNLP-IJCNLP), pages 2495–2509, Hong Kong, China, Novem-'),\n",
       " Document(metadata={'producer': 'macOS Version 10.15.7 (Build 19H15) Quartz PDFContext', 'creator': 'LaTeX with hyperref', 'creationdate': \"D:20210107190157Z00'00'\", 'moddate': \"D:20210107190157Z00'00'\", 'source': 'RAG_paper.pdf', 'total_pages': 16, 'page': 15, 'page_label': '16'}, page_content='ber 2019. Association for Computational Linguistics. doi: 10.18653/v1/D19-1253. URL\\nhttps://www.aclweb.org/anthology/D19-1253.'),\n",
       " Document(metadata={'producer': 'macOS Version 10.15.7 (Build 19H15) Quartz PDFContext', 'creator': 'LaTeX with hyperref', 'creationdate': \"D:20210107190157Z00'00'\", 'moddate': \"D:20210107190157Z00'00'\", 'source': 'RAG_paper.pdf', 'total_pages': 16, 'page': 15, 'page_label': '16'}, page_content='[68] Wanjun Zhong, Jingjing Xu, Duyu Tang, Zenan Xu, Nan Duan, Ming Zhou, Jiahai Wang, and\\nJian Yin. Reasoning over semantic-level graph for fact checking.ArXiv, abs/1909.03745, 2019.'),\n",
       " Document(metadata={'producer': 'macOS Version 10.15.7 (Build 19H15) Quartz PDFContext', 'creator': 'LaTeX with hyperref', 'creationdate': \"D:20210107190157Z00'00'\", 'moddate': \"D:20210107190157Z00'00'\", 'source': 'RAG_paper.pdf', 'total_pages': 16, 'page': 15, 'page_label': '16'}, page_content='URL https://arxiv.org/abs/1909.03745.\\n16')]"
      ]
     },
     "execution_count": 22,
     "metadata": {},
     "output_type": "execute_result"
    }
   ],
   "source": [
    "from langchain_community.document_loaders import PyPDFLoader\n",
    "from langchain.text_splitter import RecursiveCharacterTextSplitter\n",
    "\n",
    "# Load the PDF document\n",
    "loader=PyPDFLoader(doc_path)\n",
    "docs=loader.load()\n",
    "\n",
    "# Split the document into chunks\n",
    "splitter = RecursiveCharacterTextSplitter(chunk_size=200,chunk_overlap=30)\n",
    "chunks = splitter.split_documents(docs)\n",
    "chunks\n"
   ]
  },
  {
   "cell_type": "code",
   "execution_count": null,
   "id": "84029fa9",
   "metadata": {},
   "outputs": [],
   "source": [
    "from langchain_openai import OpenAIEmbeddings\n",
    "embeddings = OpenAIEmbeddings(model=\"text-embedding-3-large\")\n",
    "\n",
    "#alternative\n",
    "# from langchain.embeddings import HuggingFaceInferenceAPIEmbeddings\n",
    "# embeddings = HuggingFaceInferenceAPIEmbeddings(api_key=HF_TOKEN, model_name=\"BAAI/bge-base-en-v1.5\")"
   ]
  },
  {
   "cell_type": "code",
   "execution_count": 26,
   "id": "1702c82d",
   "metadata": {},
   "outputs": [
    {
     "data": {
      "text/plain": [
       "VectorStoreRetriever(tags=['Chroma', 'OpenAIEmbeddings'], vectorstore=<langchain_community.vectorstores.chroma.Chroma object at 0x0000014A37333590>, search_kwargs={'k': 3})"
      ]
     },
     "execution_count": 26,
     "metadata": {},
     "output_type": "execute_result"
    }
   ],
   "source": [
    "from langchain.vectorstores import Chroma\n",
    "\n",
    "# dense vectors\n",
    "vectorstore=Chroma.from_documents(chunks,embeddings)\n",
    "vectorstore_retreiver = vectorstore.as_retriever(search_kwargs={\"k\": 3})\n",
    "vectorstore_retreiver"
   ]
  },
  {
   "cell_type": "markdown",
   "id": "949aa23c",
   "metadata": {},
   "source": [
    "# Mixing vector search and keyword search for Hybrid search\n",
    "\n",
    "### hybrid_score = (1 — alpha) * sparse_score + alpha * dense_score"
   ]
  },
  {
   "cell_type": "code",
   "execution_count": 28,
   "id": "fd26b9bd",
   "metadata": {},
   "outputs": [],
   "source": [
    "from langchain.retrievers import BM25Retriever, EnsembleRetriever\n",
    "\n",
    "#keyword retriever \n",
    "keyword_retriever = BM25Retriever.from_documents(chunks)\n",
    "keyword_retriever.k =  3\n",
    "\n",
    "# Ensemble retriever combining both vectorstore and keyword retrievers\n",
    "ensemble_retriever = EnsembleRetriever(retrievers=[vectorstore_retreiver,keyword_retriever],weights=[0.3, 0.7])"
   ]
  },
  {
   "cell_type": "markdown",
   "id": "a348aa17",
   "metadata": {},
   "source": [
    "## Initialize LLM"
   ]
  },
  {
   "cell_type": "code",
   "execution_count": 29,
   "id": "90c9ef76",
   "metadata": {},
   "outputs": [],
   "source": [
    "from langchain_openai import ChatOpenAI\n",
    "llm = ChatOpenAI(model=\"gpt-4o\")\n",
    "\n",
    "\n",
    "# alternative loading quantized model from hugging face\n",
    "# model_name = \"HuggingFaceH4/zephyr-7b-beta\"\n",
    "\n",
    "# import torch\n",
    "# from transformers import ( AutoModelForCausalLM, AutoTokenizer, BitsAndBytesConfig, pipeline, )\n",
    "# from langchain import HuggingFacePipeline\n",
    "\n",
    "# # function for loading 4-bit quantized model\n",
    "# def load_quantized_model(model_name: str):\n",
    "#     \"\"\"\n",
    "#     model_name: Name or path of the model to be loaded.\n",
    "#     return: Loaded quantized model.\n",
    "#     \"\"\"\n",
    "#     bnb_config = BitsAndBytesConfig(\n",
    "#         load_in_4bit=True,\n",
    "#         bnb_4bit_use_double_quant=True,\n",
    "#         bnb_4bit_quant_type=\"nf4\",\n",
    "#         bnb_4bit_compute_dtype=torch.bfloat16,\n",
    "#     )\n",
    "\n",
    "#     model = AutoModelForCausalLM.from_pretrained(\n",
    "#         model_name,\n",
    "#         torch_dtype=torch.bfloat16,\n",
    "#         quantization_config=bnb_config,\n",
    "#     )\n",
    "#     return model\n",
    "\n",
    "# # initializing tokenizer\n",
    "# def initialize_tokenizer(model_name: str):\n",
    "#     \"\"\"\n",
    "#     model_name: Name or path of the model for tokenizer initialization.\n",
    "#     return: Initialized tokenizer.\n",
    "#     \"\"\"\n",
    "#     tokenizer = AutoTokenizer.from_pretrained(model_name, return_token_type_ids=False)\n",
    "#     tokenizer.bos_token_id = 1  # Set beginning of sentence token id\n",
    "#     return tokenizer\n",
    "\n",
    "# tokenizer = initialize_tokenizer(model_name)\n",
    "# model = load_quantized_model(model_name)\n",
    "# pipeline = pipeline(\n",
    "#     \"text-generation\",\n",
    "#     model=model,\n",
    "#     tokenizer=tokenizer,\n",
    "#     use_cache=True,\n",
    "#     device_map=\"auto\",\n",
    "#     max_length=2048,\n",
    "#     do_sample=True,\n",
    "#     top_k=5,\n",
    "#     num_return_sequences=1,\n",
    "#     eos_token_id=tokenizer.eos_token_id,\n",
    "#     pad_token_id=tokenizer.pad_token_id,\n",
    "# )\n",
    "# llm = HuggingFacePipeline(pipeline=pipeline)"
   ]
  },
  {
   "cell_type": "markdown",
   "id": "93c96750",
   "metadata": {},
   "source": [
    "## Retrieval QA chain"
   ]
  },
  {
   "cell_type": "code",
   "execution_count": 30,
   "id": "3e3ace5b",
   "metadata": {},
   "outputs": [],
   "source": [
    "from langchain.chains import RetrievalQA\n",
    "\n",
    "normal_chain = RetrievalQA.from_chain_type(\n",
    "    llm=llm, chain_type=\"stuff\", retriever=vectorstore_retreiver\n",
    ")\n",
    "\n",
    "hybrid_chain = RetrievalQA.from_chain_type(\n",
    "    llm=llm, chain_type=\"stuff\", retriever=ensemble_retriever\n",
    ")"
   ]
  },
  {
   "cell_type": "markdown",
   "id": "2f96bdee",
   "metadata": {},
   "source": [
    "## Output from normal vector retreiver"
   ]
  },
  {
   "cell_type": "code",
   "execution_count": 33,
   "id": "d23941a2",
   "metadata": {},
   "outputs": [
    {
     "name": "stdout",
     "output_type": "stream",
     "text": [
      "Abstractive Question Answering is a type of question-answering task where the model generates free-form, natural language responses to questions. This approach goes beyond simply extracting answers from a document by synthesizing information to form a new, coherent answer, even when the exact answer is not found in the retrieved documents. This allows the model to provide responses that better match the intent of the question and offers more flexibility compared to extractive models.\n"
     ]
    }
   ],
   "source": [
    "response1 = normal_chain.invoke(\"What is Abstractive Question Answering?\")\n",
    "print(response1.get(\"result\"))"
   ]
  },
  {
   "cell_type": "markdown",
   "id": "45cf0c5f",
   "metadata": {},
   "source": [
    "## Output from hybrid retreiver"
   ]
  },
  {
   "cell_type": "code",
   "execution_count": 34,
   "id": "7392b6d7",
   "metadata": {},
   "outputs": [
    {
     "name": "stdout",
     "output_type": "stream",
     "text": [
      "Abstractive Question Answering (QA) is a type of question answering task where the model generates a free-form, original response that goes beyond simply extracting information from a given text. Unlike extractive QA, which pulls exact phrases or sentences from the source material, abstractive QA allows the model to provide answers that may not explicitly appear in any retrieved document, offering a more comprehensive and synthesized response. This capability allows models to achieve a level of understanding and accuracy that includes generating summaries or explanations that might not be directly stated in the reference material.\n"
     ]
    }
   ],
   "source": [
    "response2 = hybrid_chain.invoke(\"What is Abstractive Question Answering?\")\n",
    "print(response2.get(\"result\"))"
   ]
  },
  {
   "cell_type": "code",
   "execution_count": null,
   "id": "da12ff0c",
   "metadata": {},
   "outputs": [],
   "source": []
  }
 ],
 "metadata": {
  "kernelspec": {
   "display_name": ".venv",
   "language": "python",
   "name": "python3"
  },
  "language_info": {
   "codemirror_mode": {
    "name": "ipython",
    "version": 3
   },
   "file_extension": ".py",
   "mimetype": "text/x-python",
   "name": "python",
   "nbconvert_exporter": "python",
   "pygments_lexer": "ipython3",
   "version": "3.12.11"
  }
 },
 "nbformat": 4,
 "nbformat_minor": 5
}
