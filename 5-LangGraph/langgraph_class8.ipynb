{
 "cells": [
  {
   "cell_type": "markdown",
   "metadata": {},
   "source": [
    "## Human in loop (Custom code)\n",
    "\n",
    "### Configure the model"
   ]
  },
  {
   "cell_type": "code",
   "execution_count": 1,
   "metadata": {},
   "outputs": [],
   "source": [
    "import os\n",
    "from dotenv import load_dotenv\n",
    "from langchain_groq import ChatGroq\n",
    "\n",
    "load_dotenv()\n",
    "llm=ChatGroq(model_name=\"deepseek-r1-distill-llama-70b\")"
   ]
  },
  {
   "cell_type": "markdown",
   "metadata": {},
   "source": [
    "### Initializing Tavily and multiply tool"
   ]
  },
  {
   "cell_type": "code",
   "execution_count": 2,
   "metadata": {},
   "outputs": [],
   "source": [
    "from langchain_core.tools import tool\n",
    "from langchain_community.tools.tavily_search import TavilySearchResults\n",
    "\n",
    "@tool\n",
    "def multiply(x: int, y: int) -> int:\n",
    "    \"\"\"Multiplies two numbers.\"\"\"\n",
    "    return x * y\n",
    "\n",
    "@tool\n",
    "def search(query:str):\n",
    "    \"\"\"search the web for a query and return the results\"\"\"\n",
    "    tavily_tool = TavilySearchResults()\n",
    "    result = tavily_tool.invoke(query)\n",
    "    return f\"Result for {query} is: \\n{result}\""
   ]
  },
  {
   "cell_type": "markdown",
   "metadata": {},
   "source": [
    "### Tool binding and mapping"
   ]
  },
  {
   "cell_type": "code",
   "execution_count": 3,
   "metadata": {},
   "outputs": [
    {
     "name": "stdout",
     "output_type": "stream",
     "text": [
      "\n",
      "[{'name': 'search', 'args': {'query': 'current GDP of India'}, 'id': '33akhphyh', 'type': 'tool_call'}]\n"
     ]
    }
   ],
   "source": [
    "tools = [multiply, search]\n",
    "llm_with_tools = llm.bind_tools(tools)\n",
    "result=llm_with_tools.invoke(\"what is current gdp of india?\")\n",
    "print(result.content)\n",
    "print(result.tool_calls)"
   ]
  },
  {
   "cell_type": "code",
   "execution_count": 4,
   "metadata": {},
   "outputs": [
    {
     "data": {
      "text/plain": [
       "'search'"
      ]
     },
     "execution_count": 4,
     "metadata": {},
     "output_type": "execute_result"
    }
   ],
   "source": [
    "result.tool_calls[0][\"name\"]"
   ]
  },
  {
   "cell_type": "code",
   "execution_count": 5,
   "metadata": {},
   "outputs": [
    {
     "data": {
      "text/plain": [
       "{'query': 'current GDP of India'}"
      ]
     },
     "execution_count": 5,
     "metadata": {},
     "output_type": "execute_result"
    }
   ],
   "source": [
    "result.tool_calls[0][\"args\"]"
   ]
  },
  {
   "cell_type": "code",
   "execution_count": 6,
   "metadata": {},
   "outputs": [
    {
     "data": {
      "text/plain": [
       "{'multiply': StructuredTool(name='multiply', description='Multiplies two numbers.', args_schema=<class 'langchain_core.utils.pydantic.multiply'>, func=<function multiply at 0x000001E495836020>),\n",
       " 'search': StructuredTool(name='search', description='search the web for a query and return the results', args_schema=<class 'langchain_core.utils.pydantic.search'>, func=<function search at 0x000001E4958BFD80>)}"
      ]
     },
     "execution_count": 6,
     "metadata": {},
     "output_type": "execute_result"
    }
   ],
   "source": [
    "tool_mapping = {tool.name:tool for tool in tools}\n",
    "tool_mapping"
   ]
  },
  {
   "cell_type": "code",
   "execution_count": 7,
   "metadata": {},
   "outputs": [
    {
     "data": {
      "text/plain": [
       "StructuredTool(name='search', description='search the web for a query and return the results', args_schema=<class 'langchain_core.utils.pydantic.search'>, func=<function search at 0x000001E4958BFD80>)"
      ]
     },
     "execution_count": 7,
     "metadata": {},
     "output_type": "execute_result"
    }
   ],
   "source": [
    "tool_mapping[\"search\"]"
   ]
  },
  {
   "cell_type": "code",
   "execution_count": 13,
   "metadata": {},
   "outputs": [],
   "source": [
    "from typing import TypedDict, Sequence, Annotated\n",
    "import operator\n",
    "from langchain_core.messages import BaseMessage\n",
    "\n",
    "class AgentState(TypedDict):\n",
    "    \"\"\"State for the agent.\"\"\"\n",
    "    messages: Annotated[Sequence[BaseMessage],operator.add]\n",
    "\n",
    "def invoke_model(state:AgentState):\n",
    "    messages = state[\"messages\"]\n",
    "    question = messages[-1]\n",
    "    result = llm_with_tools.invoke(question)\n",
    "    return {\"messages\": [result]}\n",
    "\n",
    "def router(state:AgentState):\n",
    "    tool_calls = state[\"messages\"][-1].tool_calls\n",
    "    if len(tool_calls)>0:\n",
    "        return \"tool\"  #key_name\n",
    "    else:\n",
    "        return \"end\"  #key_name\n",
    "    \n",
    "def invoke_tools(state:AgentState):\n",
    "    tool_details=state[\"messages\"][-1].tool_calls\n",
    "    \n",
    "    if tool_details is None:\n",
    "        return Exception(\"No tool calls found in the last message.\")\n",
    "    \n",
    "    print(f\"Seleted tool: {tool_details[0]['name']}\")\n",
    "\n",
    "    if tool_details[0][\"name\"]==\"search\":\n",
    "        response=input(prompt=f\"[yes/no] do you want to continue with this expensive web search\")\n",
    "        if response.lower()==\"no\":\n",
    "            print(\"web search discarded by the user. exiting gracefully\")\n",
    "            raise Exception(\"Web search discarded by the user.\")\n",
    "            \n",
    "    \n",
    "    response=tool_mapping[tool_details[0][\"name\"]].invoke(tool_details[0][\"args\"])\n",
    "    return {\"messages\":[response]}"
   ]
  },
  {
   "cell_type": "code",
   "execution_count": 14,
   "metadata": {},
   "outputs": [
    {
     "data": {
      "image/png": "[encoded data removed]",
      "text/plain": [
       "<IPython.core.display.Image object>"
      ]
     },
     "metadata": {},
     "output_type": "display_data"
    }
   ],
   "source": [
    "from langgraph.graph import StateGraph, START,END\n",
    "\n",
    "graph = StateGraph(AgentState)\n",
    "graph.add_node(\"ai_assistant\", invoke_model)\n",
    "graph.add_node(\"tool\", invoke_tools)\n",
    "graph.add_conditional_edges(\"ai_assistant\",\n",
    "                            router,\n",
    "                            {\n",
    "                                \"tool\":\"tool\", ##with the key tool which value is associated <tool>\n",
    "                                \"end\":END\n",
    "                            }\n",
    "                            )\n",
    "\n",
    "graph.add_edge(\"tool\", END)\n",
    "graph.set_entry_point(\"ai_assistant\")\n",
    "app=graph.compile()\n",
    "from IPython.display import Image, display\n",
    "display(Image(app.get_graph().draw_mermaid_png()))"
   ]
  },
  {
   "cell_type": "code",
   "execution_count": 15,
   "metadata": {},
   "outputs": [
    {
     "name": "stdout",
     "output_type": "stream",
     "text": [
      "Seleted tool: multiply\n"
     ]
    },
    {
     "data": {
      "text/plain": [
       "{'messages': ['What is the multiplication of 5 and 20?',\n",
       "  AIMessage(content='', additional_kwargs={'tool_calls': [{'id': 'd0gxp0849', 'function': {'arguments': '{\"x\":5,\"y\":20}', 'name': 'multiply'}, 'type': 'function'}]}, response_metadata={'token_usage': {'completion_tokens': 280, 'prompt_tokens': 177, 'total_tokens': 457, 'completion_time': 1.427465864, 'prompt_time': 0.01163795, 'queue_time': 0.057702025, 'total_time': 1.439103814}, 'model_name': 'deepseek-r1-distill-llama-70b', 'system_fingerprint': 'fp_1bbe7845ec', 'finish_reason': 'tool_calls', 'logprobs': None}, id='run--93be5f67-b111-49d9-bed3-bf394d994d9e-0', tool_calls=[{'name': 'multiply', 'args': {'x': 5, 'y': 20}, 'id': 'd0gxp0849', 'type': 'tool_call'}], usage_metadata={'input_tokens': 177, 'output_tokens': 280, 'total_tokens': 457}),\n",
       "  100]}"
      ]
     },
     "execution_count": 15,
     "metadata": {},
     "output_type": "execute_result"
    }
   ],
   "source": [
    "app.invoke({\"messages\":[\"What is the multiplication of 5 and 20?\"]})"
   ]
  },
  {
   "cell_type": "code",
   "execution_count": null,
   "metadata": {},
   "outputs": [
    {
     "name": "stdout",
     "output_type": "stream",
     "text": [
      "Seleted tool: search\n"
     ]
    },
    {
     "name": "stderr",
     "output_type": "stream",
     "text": [
      "C:\\Users\\aayushisharma\\AppData\\Local\\Temp\\ipykernel_24444\\3815303541.py:12: LangChainDeprecationWarning: The class `TavilySearchResults` was deprecated in LangChain 0.3.25 and will be removed in 1.0. An updated version of the class exists in the :class:`~langchain-tavily package and should be used instead. To use it run `pip install -U :class:`~langchain-tavily` and import as `from :class:`~langchain_tavily import TavilySearch``.\n",
      "  tavily_tool = TavilySearchResults()\n"
     ]
    },
    {
     "data": {
      "text/plain": [
       "{'messages': ['What is the current gdp of the india?',\n",
       "  AIMessage(content='', additional_kwargs={'tool_calls': [{'id': 'venx7g4qk', 'function': {'arguments': '{\"query\":\"current GDP of India\"}', 'name': 'search'}, 'type': 'function'}]}, response_metadata={'token_usage': {'completion_tokens': 129, 'prompt_tokens': 176, 'total_tokens': 305, 'completion_time': 0.55184762, 'prompt_time': 0.01162192, 'queue_time': 0.057482294999999996, 'total_time': 0.56346954}, 'model_name': 'deepseek-r1-distill-llama-70b', 'system_fingerprint': 'fp_1bbe7845ec', 'finish_reason': 'tool_calls', 'logprobs': None}, id='run--44b7491b-aa95-4ece-a677-50c7220d9cf8-0', tool_calls=[{'name': 'search', 'args': {'query': 'current GDP of India'}, 'id': 'venx7g4qk', 'type': 'tool_call'}], usage_metadata={'input_tokens': 176, 'output_tokens': 129, 'total_tokens': 305}),\n",
       "  'Result for current GDP of India is: \\n[{\\'title\\': \\'World GDP Ranking 2025 List - ClearTax\\', \\'url\\': \\'https://cleartax.in/s/world-gdp-ranking-list\\', \\'content\\': \"India is currently ranked as the 4th largest economy globally in 2025, surpassing Japan to secure the 4th position among the world\\'s top 10 largest economies, with a nominal GDP of $4.19 trillion in 2025. Moreover, the IMF forecasts that by 2027, India will overtake Germany to become the 3rd largest economy worldwide [...] With an estimated real GDP of Rs. 187.95 lakh crore in 2024-25, against the real GDP of Rs. 176.51 in 2023-24 generated by a population of over 1 billion, India is among the highest population-based economies in the world. Additionally, as per IMF projections, India\\'s GDP grow is at 6.2% in 2024-25 and 2025-26.This means India\\'s economic growth next fiscal year will be the fastest among major economies. Therefore, in the upcoming years, rising consumption and investments, both domestic and [...] ## India GDP Per Capita 2025 / India Per Capita Income 2025\\\\n\\\\nThough India\\'s rank in the World GDP Ranking 2025 list is fifth, the per capita income is substantially low. India\\'s per capita income of the population for 2025 is $2,880 (Approx Rs.2.4 lakh). Multiple factors have led to low per capita income in India compared to the top GDP countries.\", \\'score\\': 0.850382}, {\\'title\\': \\'India Real GDP 2024 Estimate and 2025 Projection\\', \\'url\\': \\'https://www.worldeconomics.com/GrossDomesticProduct/Real-GDP/India.aspx\\', \\'content\\': \"India GDP: $3.425 Trillion Looking ahead to 2025, projections suggest India\\'s 2025 GDP estimate could be $3.648 Trillion. This India GDP growth forecast for\", \\'score\\': 0.82694983}, {\\'title\\': \"India\\'s Economic Growth and National Income Analysis\", \\'url\\': \\'https://www.gktoday.in/indias-economic-growth-and-national-income-analysis/\\', \\'content\\': \"Key Economic Data for FY25 India\\'s nominal GDP reached ₹330.7 trillion by March 2025, showing a growth of 9.8% from FY24. When converted to US dollars, this amounts to approximately $3.87 trillion. This growth rate marks the third-slowest since 2014 and the sixth slowest since economic liberalisation in 1991.\", \\'score\\': 0.81347597}, {\\'title\\': \"India\\'s Economic Growth Masks a Deeper Malaise - The Diplomat\", \\'url\\': \\'https://thediplomat.com/2025/06/indias-economic-growth-masks-a-deeper-malaise/\\', \\'content\\': \"India\\'s economic ascent to a $4.2 trillion GDP in 2025 has been hailed as a historic achievement. The country is now ranked the world\\'s fourth largest economy by current dollar terms\", \\'score\\': 0.81097376}, {\\'title\\': \"India\\'s real GDP to grow by 6.5% in FY25: Second Advance Estimates\", \\'url\\': \\'https://www.indiatracker.in/story/indias-real-gdp-to-grow-by-6.5-in-fy25-second-advance-estimates\\', \\'content\\': \"The latest estimates peg nominal GDP at ₹331.03 lakh crore ($3,784.5 billion) for FY25, up from ₹301.23 lakh crore ($3,443.78 billion) in FY24. India\\'s real Gross Domestic Product (GDP) is projected to expand by 6.5 percent in the fiscal year 2024-25 (FY25), marking a slowdown from the 9.2 percent growth recorded in FY24, according to the second advance estimates released by the National\", \\'score\\': 0.79637206}]']}"
      ]
     },
     "execution_count": 16,
     "metadata": {},
     "output_type": "execute_result"
    }
   ],
   "source": [
    "# human replied with yes\n",
    "app.invoke({\"messages\":[\"What is the current gdp of the india?\"]})"
   ]
  },
  {
   "cell_type": "code",
   "execution_count": 17,
   "metadata": {},
   "outputs": [
    {
     "name": "stdout",
     "output_type": "stream",
     "text": [
      "Seleted tool: search\n",
      "web search discarded by the user. exiting gracefully\n"
     ]
    },
    {
     "ename": "Exception",
     "evalue": "Web search discarded by the user.",
     "output_type": "error",
     "traceback": [
      "\u001b[31m---------------------------------------------------------------------------\u001b[39m",
      "\u001b[31mException\u001b[39m                                 Traceback (most recent call last)",
      "\u001b[36mCell\u001b[39m\u001b[36m \u001b[39m\u001b[32mIn[17]\u001b[39m\u001b[32m, line 2\u001b[39m\n\u001b[32m      1\u001b[39m \u001b[38;5;66;03m# human replied with no\u001b[39;00m\n\u001b[32m----> \u001b[39m\u001b[32m2\u001b[39m \u001b[43mapp\u001b[49m\u001b[43m.\u001b[49m\u001b[43minvoke\u001b[49m\u001b[43m(\u001b[49m\u001b[43m{\u001b[49m\u001b[33;43m\"\u001b[39;49m\u001b[33;43mmessages\u001b[39;49m\u001b[33;43m\"\u001b[39;49m\u001b[43m:\u001b[49m\u001b[43m[\u001b[49m\u001b[33;43m\"\u001b[39;49m\u001b[33;43mWhat is the current gdp of the india?\u001b[39;49m\u001b[33;43m\"\u001b[39;49m\u001b[43m]\u001b[49m\u001b[43m}\u001b[49m\u001b[43m)\u001b[49m\n",
      "\u001b[36mFile \u001b[39m\u001b[32mc:\\Users\\aayushisharma\\OneDrive - Nagarro\\Agentic AI training\\course hands on\\5-LangGraph\\.venv\\Lib\\site-packages\\langgraph\\pregel\\__init__.py:2719\u001b[39m, in \u001b[36mPregel.invoke\u001b[39m\u001b[34m(self, input, config, stream_mode, output_keys, interrupt_before, interrupt_after, checkpoint_during, debug, **kwargs)\u001b[39m\n\u001b[32m   2716\u001b[39m chunks: \u001b[38;5;28mlist\u001b[39m[Union[\u001b[38;5;28mdict\u001b[39m[\u001b[38;5;28mstr\u001b[39m, Any], Any]] = []\n\u001b[32m   2717\u001b[39m interrupts: \u001b[38;5;28mlist\u001b[39m[Interrupt] = []\n\u001b[32m-> \u001b[39m\u001b[32m2719\u001b[39m \u001b[43m\u001b[49m\u001b[38;5;28;43;01mfor\u001b[39;49;00m\u001b[43m \u001b[49m\u001b[43mchunk\u001b[49m\u001b[43m \u001b[49m\u001b[38;5;129;43;01min\u001b[39;49;00m\u001b[43m \u001b[49m\u001b[38;5;28;43mself\u001b[39;49m\u001b[43m.\u001b[49m\u001b[43mstream\u001b[49m\u001b[43m(\u001b[49m\n\u001b[32m   2720\u001b[39m \u001b[43m    \u001b[49m\u001b[38;5;28;43minput\u001b[39;49m\u001b[43m,\u001b[49m\n\u001b[32m   2721\u001b[39m \u001b[43m    \u001b[49m\u001b[43mconfig\u001b[49m\u001b[43m,\u001b[49m\n\u001b[32m   2722\u001b[39m \u001b[43m    \u001b[49m\u001b[43mstream_mode\u001b[49m\u001b[43m=\u001b[49m\u001b[43mstream_mode\u001b[49m\u001b[43m,\u001b[49m\n\u001b[32m   2723\u001b[39m \u001b[43m    \u001b[49m\u001b[43moutput_keys\u001b[49m\u001b[43m=\u001b[49m\u001b[43moutput_keys\u001b[49m\u001b[43m,\u001b[49m\n\u001b[32m   2724\u001b[39m \u001b[43m    \u001b[49m\u001b[43minterrupt_before\u001b[49m\u001b[43m=\u001b[49m\u001b[43minterrupt_before\u001b[49m\u001b[43m,\u001b[49m\n\u001b[32m   2725\u001b[39m \u001b[43m    \u001b[49m\u001b[43minterrupt_after\u001b[49m\u001b[43m=\u001b[49m\u001b[43minterrupt_after\u001b[49m\u001b[43m,\u001b[49m\n\u001b[32m   2726\u001b[39m \u001b[43m    \u001b[49m\u001b[43mcheckpoint_during\u001b[49m\u001b[43m=\u001b[49m\u001b[43mcheckpoint_during\u001b[49m\u001b[43m,\u001b[49m\n\u001b[32m   2727\u001b[39m \u001b[43m    \u001b[49m\u001b[43mdebug\u001b[49m\u001b[43m=\u001b[49m\u001b[43mdebug\u001b[49m\u001b[43m,\u001b[49m\n\u001b[32m   2728\u001b[39m \u001b[43m    \u001b[49m\u001b[43m*\u001b[49m\u001b[43m*\u001b[49m\u001b[43mkwargs\u001b[49m\u001b[43m,\u001b[49m\n\u001b[32m   2729\u001b[39m \u001b[43m\u001b[49m\u001b[43m)\u001b[49m\u001b[43m:\u001b[49m\n\u001b[32m   2730\u001b[39m \u001b[43m    \u001b[49m\u001b[38;5;28;43;01mif\u001b[39;49;00m\u001b[43m \u001b[49m\u001b[43mstream_mode\u001b[49m\u001b[43m \u001b[49m\u001b[43m==\u001b[49m\u001b[43m \u001b[49m\u001b[33;43m\"\u001b[39;49m\u001b[33;43mvalues\u001b[39;49m\u001b[33;43m\"\u001b[39;49m\u001b[43m:\u001b[49m\n\u001b[32m   2731\u001b[39m \u001b[43m        \u001b[49m\u001b[38;5;28;43;01mif\u001b[39;49;00m\u001b[43m \u001b[49m\u001b[43m(\u001b[49m\n\u001b[32m   2732\u001b[39m \u001b[43m            \u001b[49m\u001b[38;5;28;43misinstance\u001b[39;49m\u001b[43m(\u001b[49m\u001b[43mchunk\u001b[49m\u001b[43m,\u001b[49m\u001b[43m \u001b[49m\u001b[38;5;28;43mdict\u001b[39;49m\u001b[43m)\u001b[49m\n\u001b[32m   2733\u001b[39m \u001b[43m            \u001b[49m\u001b[38;5;129;43;01mand\u001b[39;49;00m\u001b[43m \u001b[49m\u001b[43m(\u001b[49m\u001b[43mints\u001b[49m\u001b[43m \u001b[49m\u001b[43m:=\u001b[49m\u001b[43m \u001b[49m\u001b[43mchunk\u001b[49m\u001b[43m.\u001b[49m\u001b[43mget\u001b[49m\u001b[43m(\u001b[49m\u001b[43mINTERRUPT\u001b[49m\u001b[43m)\u001b[49m\u001b[43m)\u001b[49m\u001b[43m \u001b[49m\u001b[38;5;129;43;01mis\u001b[39;49;00m\u001b[43m \u001b[49m\u001b[38;5;129;43;01mnot\u001b[39;49;00m\u001b[43m \u001b[49m\u001b[38;5;28;43;01mNone\u001b[39;49;00m\n\u001b[32m   2734\u001b[39m \u001b[43m        \u001b[49m\u001b[43m)\u001b[49m\u001b[43m:\u001b[49m\n",
      "\u001b[36mFile \u001b[39m\u001b[32mc:\\Users\\aayushisharma\\OneDrive - Nagarro\\Agentic AI training\\course hands on\\5-LangGraph\\.venv\\Lib\\site-packages\\langgraph\\pregel\\__init__.py:2436\u001b[39m, in \u001b[36mPregel.stream\u001b[39m\u001b[34m(self, input, config, stream_mode, output_keys, interrupt_before, interrupt_after, checkpoint_during, debug, subgraphs)\u001b[39m\n\u001b[32m   2434\u001b[39m         \u001b[38;5;28;01mfor\u001b[39;00m task \u001b[38;5;129;01min\u001b[39;00m loop.match_cached_writes():\n\u001b[32m   2435\u001b[39m             loop.output_writes(task.id, task.writes, cached=\u001b[38;5;28;01mTrue\u001b[39;00m)\n\u001b[32m-> \u001b[39m\u001b[32m2436\u001b[39m \u001b[43m        \u001b[49m\u001b[38;5;28;43;01mfor\u001b[39;49;00m\u001b[43m \u001b[49m\u001b[43m_\u001b[49m\u001b[43m \u001b[49m\u001b[38;5;129;43;01min\u001b[39;49;00m\u001b[43m \u001b[49m\u001b[43mrunner\u001b[49m\u001b[43m.\u001b[49m\u001b[43mtick\u001b[49m\u001b[43m(\u001b[49m\n\u001b[32m   2437\u001b[39m \u001b[43m            \u001b[49m\u001b[43m[\u001b[49m\u001b[43mt\u001b[49m\u001b[43m \u001b[49m\u001b[38;5;28;43;01mfor\u001b[39;49;00m\u001b[43m \u001b[49m\u001b[43mt\u001b[49m\u001b[43m \u001b[49m\u001b[38;5;129;43;01min\u001b[39;49;00m\u001b[43m \u001b[49m\u001b[43mloop\u001b[49m\u001b[43m.\u001b[49m\u001b[43mtasks\u001b[49m\u001b[43m.\u001b[49m\u001b[43mvalues\u001b[49m\u001b[43m(\u001b[49m\u001b[43m)\u001b[49m\u001b[43m \u001b[49m\u001b[38;5;28;43;01mif\u001b[39;49;00m\u001b[43m \u001b[49m\u001b[38;5;129;43;01mnot\u001b[39;49;00m\u001b[43m \u001b[49m\u001b[43mt\u001b[49m\u001b[43m.\u001b[49m\u001b[43mwrites\u001b[49m\u001b[43m]\u001b[49m\u001b[43m,\u001b[49m\n\u001b[32m   2438\u001b[39m \u001b[43m            \u001b[49m\u001b[43mtimeout\u001b[49m\u001b[43m=\u001b[49m\u001b[38;5;28;43mself\u001b[39;49m\u001b[43m.\u001b[49m\u001b[43mstep_timeout\u001b[49m\u001b[43m,\u001b[49m\n\u001b[32m   2439\u001b[39m \u001b[43m            \u001b[49m\u001b[43mget_waiter\u001b[49m\u001b[43m=\u001b[49m\u001b[43mget_waiter\u001b[49m\u001b[43m,\u001b[49m\n\u001b[32m   2440\u001b[39m \u001b[43m            \u001b[49m\u001b[43mschedule_task\u001b[49m\u001b[43m=\u001b[49m\u001b[43mloop\u001b[49m\u001b[43m.\u001b[49m\u001b[43maccept_push\u001b[49m\u001b[43m,\u001b[49m\n\u001b[32m   2441\u001b[39m \u001b[43m        \u001b[49m\u001b[43m)\u001b[49m\u001b[43m:\u001b[49m\n\u001b[32m   2442\u001b[39m \u001b[43m            \u001b[49m\u001b[38;5;66;43;03m# emit output\u001b[39;49;00m\n\u001b[32m   2443\u001b[39m \u001b[43m            \u001b[49m\u001b[38;5;28;43;01myield from\u001b[39;49;00m\u001b[43m \u001b[49m\u001b[43moutput\u001b[49m\u001b[43m(\u001b[49m\u001b[43m)\u001b[49m\n\u001b[32m   2444\u001b[39m \u001b[38;5;66;03m# emit output\u001b[39;00m\n",
      "\u001b[36mFile \u001b[39m\u001b[32mc:\\Users\\aayushisharma\\OneDrive - Nagarro\\Agentic AI training\\course hands on\\5-LangGraph\\.venv\\Lib\\site-packages\\langgraph\\pregel\\runner.py:161\u001b[39m, in \u001b[36mPregelRunner.tick\u001b[39m\u001b[34m(self, tasks, reraise, timeout, retry_policy, get_waiter, schedule_task)\u001b[39m\n\u001b[32m    159\u001b[39m t = tasks[\u001b[32m0\u001b[39m]\n\u001b[32m    160\u001b[39m \u001b[38;5;28;01mtry\u001b[39;00m:\n\u001b[32m--> \u001b[39m\u001b[32m161\u001b[39m     \u001b[43mrun_with_retry\u001b[49m\u001b[43m(\u001b[49m\n\u001b[32m    162\u001b[39m \u001b[43m        \u001b[49m\u001b[43mt\u001b[49m\u001b[43m,\u001b[49m\n\u001b[32m    163\u001b[39m \u001b[43m        \u001b[49m\u001b[43mretry_policy\u001b[49m\u001b[43m,\u001b[49m\n\u001b[32m    164\u001b[39m \u001b[43m        \u001b[49m\u001b[43mconfigurable\u001b[49m\u001b[43m=\u001b[49m\u001b[43m{\u001b[49m\n\u001b[32m    165\u001b[39m \u001b[43m            \u001b[49m\u001b[43mCONFIG_KEY_CALL\u001b[49m\u001b[43m:\u001b[49m\u001b[43m \u001b[49m\u001b[43mpartial\u001b[49m\u001b[43m(\u001b[49m\n\u001b[32m    166\u001b[39m \u001b[43m                \u001b[49m\u001b[43m_call\u001b[49m\u001b[43m,\u001b[49m\n\u001b[32m    167\u001b[39m \u001b[43m                \u001b[49m\u001b[43mweakref\u001b[49m\u001b[43m.\u001b[49m\u001b[43mref\u001b[49m\u001b[43m(\u001b[49m\u001b[43mt\u001b[49m\u001b[43m)\u001b[49m\u001b[43m,\u001b[49m\n\u001b[32m    168\u001b[39m \u001b[43m                \u001b[49m\u001b[43mretry\u001b[49m\u001b[43m=\u001b[49m\u001b[43mretry_policy\u001b[49m\u001b[43m,\u001b[49m\n\u001b[32m    169\u001b[39m \u001b[43m                \u001b[49m\u001b[43mfutures\u001b[49m\u001b[43m=\u001b[49m\u001b[43mweakref\u001b[49m\u001b[43m.\u001b[49m\u001b[43mref\u001b[49m\u001b[43m(\u001b[49m\u001b[43mfutures\u001b[49m\u001b[43m)\u001b[49m\u001b[43m,\u001b[49m\n\u001b[32m    170\u001b[39m \u001b[43m                \u001b[49m\u001b[43mschedule_task\u001b[49m\u001b[43m=\u001b[49m\u001b[43mschedule_task\u001b[49m\u001b[43m,\u001b[49m\n\u001b[32m    171\u001b[39m \u001b[43m                \u001b[49m\u001b[43msubmit\u001b[49m\u001b[43m=\u001b[49m\u001b[38;5;28;43mself\u001b[39;49m\u001b[43m.\u001b[49m\u001b[43msubmit\u001b[49m\u001b[43m,\u001b[49m\n\u001b[32m    172\u001b[39m \u001b[43m            \u001b[49m\u001b[43m)\u001b[49m\u001b[43m,\u001b[49m\n\u001b[32m    173\u001b[39m \u001b[43m        \u001b[49m\u001b[43m}\u001b[49m\u001b[43m,\u001b[49m\n\u001b[32m    174\u001b[39m \u001b[43m    \u001b[49m\u001b[43m)\u001b[49m\n\u001b[32m    175\u001b[39m     \u001b[38;5;28mself\u001b[39m.commit(t, \u001b[38;5;28;01mNone\u001b[39;00m)\n\u001b[32m    176\u001b[39m \u001b[38;5;28;01mexcept\u001b[39;00m \u001b[38;5;167;01mException\u001b[39;00m \u001b[38;5;28;01mas\u001b[39;00m exc:\n",
      "\u001b[36mFile \u001b[39m\u001b[32mc:\\Users\\aayushisharma\\OneDrive - Nagarro\\Agentic AI training\\course hands on\\5-LangGraph\\.venv\\Lib\\site-packages\\langgraph\\pregel\\retry.py:40\u001b[39m, in \u001b[36mrun_with_retry\u001b[39m\u001b[34m(task, retry_policy, configurable)\u001b[39m\n\u001b[32m     38\u001b[39m     task.writes.clear()\n\u001b[32m     39\u001b[39m     \u001b[38;5;66;03m# run the task\u001b[39;00m\n\u001b[32m---> \u001b[39m\u001b[32m40\u001b[39m     \u001b[38;5;28;01mreturn\u001b[39;00m \u001b[43mtask\u001b[49m\u001b[43m.\u001b[49m\u001b[43mproc\u001b[49m\u001b[43m.\u001b[49m\u001b[43minvoke\u001b[49m\u001b[43m(\u001b[49m\u001b[43mtask\u001b[49m\u001b[43m.\u001b[49m\u001b[43minput\u001b[49m\u001b[43m,\u001b[49m\u001b[43m \u001b[49m\u001b[43mconfig\u001b[49m\u001b[43m)\u001b[49m\n\u001b[32m     41\u001b[39m \u001b[38;5;28;01mexcept\u001b[39;00m ParentCommand \u001b[38;5;28;01mas\u001b[39;00m exc:\n\u001b[32m     42\u001b[39m     ns: \u001b[38;5;28mstr\u001b[39m = config[CONF][CONFIG_KEY_CHECKPOINT_NS]\n",
      "\u001b[36mFile \u001b[39m\u001b[32mc:\\Users\\aayushisharma\\OneDrive - Nagarro\\Agentic AI training\\course hands on\\5-LangGraph\\.venv\\Lib\\site-packages\\langgraph\\utils\\runnable.py:623\u001b[39m, in \u001b[36mRunnableSeq.invoke\u001b[39m\u001b[34m(self, input, config, **kwargs)\u001b[39m\n\u001b[32m    621\u001b[39m     \u001b[38;5;66;03m# run in context\u001b[39;00m\n\u001b[32m    622\u001b[39m     \u001b[38;5;28;01mwith\u001b[39;00m set_config_context(config, run) \u001b[38;5;28;01mas\u001b[39;00m context:\n\u001b[32m--> \u001b[39m\u001b[32m623\u001b[39m         \u001b[38;5;28minput\u001b[39m = \u001b[43mcontext\u001b[49m\u001b[43m.\u001b[49m\u001b[43mrun\u001b[49m\u001b[43m(\u001b[49m\u001b[43mstep\u001b[49m\u001b[43m.\u001b[49m\u001b[43minvoke\u001b[49m\u001b[43m,\u001b[49m\u001b[43m \u001b[49m\u001b[38;5;28;43minput\u001b[39;49m\u001b[43m,\u001b[49m\u001b[43m \u001b[49m\u001b[43mconfig\u001b[49m\u001b[43m,\u001b[49m\u001b[43m \u001b[49m\u001b[43m*\u001b[49m\u001b[43m*\u001b[49m\u001b[43mkwargs\u001b[49m\u001b[43m)\u001b[49m\n\u001b[32m    624\u001b[39m \u001b[38;5;28;01melse\u001b[39;00m:\n\u001b[32m    625\u001b[39m     \u001b[38;5;28minput\u001b[39m = step.invoke(\u001b[38;5;28minput\u001b[39m, config)\n",
      "\u001b[36mFile \u001b[39m\u001b[32mc:\\Users\\aayushisharma\\OneDrive - Nagarro\\Agentic AI training\\course hands on\\5-LangGraph\\.venv\\Lib\\site-packages\\langgraph\\utils\\runnable.py:377\u001b[39m, in \u001b[36mRunnableCallable.invoke\u001b[39m\u001b[34m(self, input, config, **kwargs)\u001b[39m\n\u001b[32m    375\u001b[39m         run_manager.on_chain_end(ret)\n\u001b[32m    376\u001b[39m \u001b[38;5;28;01melse\u001b[39;00m:\n\u001b[32m--> \u001b[39m\u001b[32m377\u001b[39m     ret = \u001b[38;5;28;43mself\u001b[39;49m\u001b[43m.\u001b[49m\u001b[43mfunc\u001b[49m\u001b[43m(\u001b[49m\u001b[43m*\u001b[49m\u001b[43margs\u001b[49m\u001b[43m,\u001b[49m\u001b[43m \u001b[49m\u001b[43m*\u001b[49m\u001b[43m*\u001b[49m\u001b[43mkwargs\u001b[49m\u001b[43m)\u001b[49m\n\u001b[32m    378\u001b[39m \u001b[38;5;28;01mif\u001b[39;00m \u001b[38;5;28mself\u001b[39m.recurse \u001b[38;5;129;01mand\u001b[39;00m \u001b[38;5;28misinstance\u001b[39m(ret, Runnable):\n\u001b[32m    379\u001b[39m     \u001b[38;5;28;01mreturn\u001b[39;00m ret.invoke(\u001b[38;5;28minput\u001b[39m, config)\n",
      "\u001b[36mCell\u001b[39m\u001b[36m \u001b[39m\u001b[32mIn[13]\u001b[39m\u001b[32m, line 34\u001b[39m, in \u001b[36minvoke_tools\u001b[39m\u001b[34m(state)\u001b[39m\n\u001b[32m     32\u001b[39m     \u001b[38;5;28;01mif\u001b[39;00m response.lower()==\u001b[33m\"\u001b[39m\u001b[33mno\u001b[39m\u001b[33m\"\u001b[39m:\n\u001b[32m     33\u001b[39m         \u001b[38;5;28mprint\u001b[39m(\u001b[33m\"\u001b[39m\u001b[33mweb search discarded by the user. exiting gracefully\u001b[39m\u001b[33m\"\u001b[39m)\n\u001b[32m---> \u001b[39m\u001b[32m34\u001b[39m         \u001b[38;5;28;01mraise\u001b[39;00m \u001b[38;5;167;01mException\u001b[39;00m(\u001b[33m\"\u001b[39m\u001b[33mWeb search discarded by the user.\u001b[39m\u001b[33m\"\u001b[39m)\n\u001b[32m     37\u001b[39m response=tool_mapping[tool_details[\u001b[32m0\u001b[39m][\u001b[33m\"\u001b[39m\u001b[33mname\u001b[39m\u001b[33m\"\u001b[39m]].invoke(tool_details[\u001b[32m0\u001b[39m][\u001b[33m\"\u001b[39m\u001b[33margs\u001b[39m\u001b[33m\"\u001b[39m])\n\u001b[32m     38\u001b[39m \u001b[38;5;28;01mreturn\u001b[39;00m {\u001b[33m\"\u001b[39m\u001b[33mmessages\u001b[39m\u001b[33m\"\u001b[39m:[response]}\n",
      "\u001b[31mException\u001b[39m: Web search discarded by the user.",
      "During task with name 'tool' and id 'ccc660cf-0263-2e7a-1d30-e019169f5107'"
     ]
    }
   ],
   "source": [
    "# human replied with no\n",
    "app.invoke({\"messages\":[\"What is the current gdp of the india?\"]})"
   ]
  },
  {
   "cell_type": "markdown",
   "metadata": {},
   "source": [
    "## Human in loop (with inbuilt langgraph functions)\n",
    "\n",
    "### creating workflow and using interupt before to ask for human input"
   ]
  },
  {
   "cell_type": "code",
   "execution_count": 19,
   "metadata": {},
   "outputs": [
    {
     "data": {
      "image/png": "[encoded data removed]",
      "text/plain": [
       "<IPython.core.display.Image object>"
      ]
     },
     "metadata": {},
     "output_type": "display_data"
    }
   ],
   "source": [
    "from langgraph.prebuilt import ToolNode, tools_condition\n",
    "from langgraph.checkpoint.memory import MemorySaver\n",
    "from langchain_core.messages import HumanMessage\n",
    "\n",
    "tool_node = ToolNode(tools)\n",
    "llm_with_tools=llm.bind_tools(tools)\n",
    "\n",
    "def ai_assistant(state:AgentState):\n",
    "    response=llm_with_tools.invoke(state[\"messages\"])\n",
    "    return {\"messages\":[response]}\n",
    "\n",
    "memory = MemorySaver()\n",
    "\n",
    "graph_build = StateGraph(AgentState)\n",
    "graph_build.add_node(\"ai_assistant\", ai_assistant)\n",
    "graph_build.add_node(\"tools\",tool_node)\n",
    "graph_build.set_entry_point(\"ai_assistant\")\n",
    "graph_build.add_conditional_edges(\"ai_assistant\",\n",
    "                                    tools_condition,\n",
    "                                    )\n",
    "graph_build.add_edge(\"tools\", \"ai_assistant\")\n",
    "app2=graph_build.compile(checkpointer=memory,interrupt_before=[\"tools\"])\n",
    "\n",
    "from IPython.display import Image, display\n",
    "display(Image(app2.get_graph().draw_mermaid_png()))"
   ]
  },
  {
   "cell_type": "markdown",
   "metadata": {},
   "source": [
    "### Initialize memory thread and chk for output"
   ]
  },
  {
   "cell_type": "code",
   "execution_count": 20,
   "metadata": {},
   "outputs": [
    {
     "data": {
      "text/plain": [
       "{'messages': [HumanMessage(content='What is the current gdp of the china?', additional_kwargs={}, response_metadata={}),\n",
       "  AIMessage(content='', additional_kwargs={'tool_calls': [{'id': 'tn3j4fjg5', 'function': {'arguments': '{\"query\":\"current GDP of China\"}', 'name': 'search'}, 'type': 'function'}]}, response_metadata={'token_usage': {'completion_tokens': 185, 'prompt_tokens': 176, 'total_tokens': 361, 'completion_time': 0.710125217, 'prompt_time': 0.02157076, 'queue_time': 0.058972199999999995, 'total_time': 0.731695977}, 'model_name': 'deepseek-r1-distill-llama-70b', 'system_fingerprint': 'fp_1bbe7845ec', 'finish_reason': 'tool_calls', 'logprobs': None}, id='run--d81dcd0e-04f6-47b9-b6a4-cafc35af1b57-0', tool_calls=[{'name': 'search', 'args': {'query': 'current GDP of China'}, 'id': 'tn3j4fjg5', 'type': 'tool_call'}], usage_metadata={'input_tokens': 176, 'output_tokens': 185, 'total_tokens': 361})]}"
      ]
     },
     "execution_count": 20,
     "metadata": {},
     "output_type": "execute_result"
    }
   ],
   "source": [
    "config={\"configurable\":{\"thread_id\":\"1\"}}\n",
    "response=app2.invoke({\"messages\":[HumanMessage(\"What is the current gdp of the china?\")]},config=config)\n",
    "response"
   ]
  },
  {
   "cell_type": "markdown",
   "metadata": {},
   "source": [
    "### Capture the snapshot of the state so we will resume from here"
   ]
  },
  {
   "cell_type": "code",
   "execution_count": 21,
   "metadata": {},
   "outputs": [
    {
     "data": {
      "text/plain": [
       "StateSnapshot(values={'messages': [HumanMessage(content='What is the current gdp of the china?', additional_kwargs={}, response_metadata={}), AIMessage(content='', additional_kwargs={'tool_calls': [{'id': 'tn3j4fjg5', 'function': {'arguments': '{\"query\":\"current GDP of China\"}', 'name': 'search'}, 'type': 'function'}]}, response_metadata={'token_usage': {'completion_tokens': 185, 'prompt_tokens': 176, 'total_tokens': 361, 'completion_time': 0.710125217, 'prompt_time': 0.02157076, 'queue_time': 0.058972199999999995, 'total_time': 0.731695977}, 'model_name': 'deepseek-r1-distill-llama-70b', 'system_fingerprint': 'fp_1bbe7845ec', 'finish_reason': 'tool_calls', 'logprobs': None}, id='run--d81dcd0e-04f6-47b9-b6a4-cafc35af1b57-0', tool_calls=[{'name': 'search', 'args': {'query': 'current GDP of China'}, 'id': 'tn3j4fjg5', 'type': 'tool_call'}], usage_metadata={'input_tokens': 176, 'output_tokens': 185, 'total_tokens': 361})]}, next=('tools',), config={'configurable': {'thread_id': '1', 'checkpoint_ns': '', 'checkpoint_id': '1f0558a9-9aed-6d5b-8001-13c55d60bf83'}}, metadata={'source': 'loop', 'writes': {'ai_assistant': {'messages': [AIMessage(content='', additional_kwargs={'tool_calls': [{'id': 'tn3j4fjg5', 'function': {'arguments': '{\"query\":\"current GDP of China\"}', 'name': 'search'}, 'type': 'function'}]}, response_metadata={'token_usage': {'completion_tokens': 185, 'prompt_tokens': 176, 'total_tokens': 361, 'completion_time': 0.710125217, 'prompt_time': 0.02157076, 'queue_time': 0.058972199999999995, 'total_time': 0.731695977}, 'model_name': 'deepseek-r1-distill-llama-70b', 'system_fingerprint': 'fp_1bbe7845ec', 'finish_reason': 'tool_calls', 'logprobs': None}, id='run--d81dcd0e-04f6-47b9-b6a4-cafc35af1b57-0', tool_calls=[{'name': 'search', 'args': {'query': 'current GDP of China'}, 'id': 'tn3j4fjg5', 'type': 'tool_call'}], usage_metadata={'input_tokens': 176, 'output_tokens': 185, 'total_tokens': 361})]}}, 'step': 1, 'parents': {}, 'thread_id': '1'}, created_at='2025-06-30T08:17:02.070716+00:00', parent_config={'configurable': {'thread_id': '1', 'checkpoint_ns': '', 'checkpoint_id': '1f0558a9-922d-6c32-8000-dc7086609c71'}}, tasks=(PregelTask(id='ca6c1b09-c137-de11-862b-a4a7c470a4d6', name='tools', path=('__pregel_pull', 'tools'), error=None, interrupts=(), state=None, result=None),), interrupts=())"
      ]
     },
     "execution_count": 21,
     "metadata": {},
     "output_type": "execute_result"
    }
   ],
   "source": [
    "snapshot=app2.get_state(config)\n",
    "snapshot"
   ]
  },
  {
   "cell_type": "code",
   "execution_count": 22,
   "metadata": {},
   "outputs": [
    {
     "data": {
      "text/plain": [
       "('tools',)"
      ]
     },
     "execution_count": 22,
     "metadata": {},
     "output_type": "execute_result"
    }
   ],
   "source": [
    "snapshot.next"
   ]
  },
  {
   "cell_type": "code",
   "execution_count": 24,
   "metadata": {},
   "outputs": [
    {
     "data": {
      "text/plain": [
       "AIMessage(content='', additional_kwargs={'tool_calls': [{'id': 'tn3j4fjg5', 'function': {'arguments': '{\"query\":\"current GDP of China\"}', 'name': 'search'}, 'type': 'function'}]}, response_metadata={'token_usage': {'completion_tokens': 185, 'prompt_tokens': 176, 'total_tokens': 361, 'completion_time': 0.710125217, 'prompt_time': 0.02157076, 'queue_time': 0.058972199999999995, 'total_time': 0.731695977}, 'model_name': 'deepseek-r1-distill-llama-70b', 'system_fingerprint': 'fp_1bbe7845ec', 'finish_reason': 'tool_calls', 'logprobs': None}, id='run--d81dcd0e-04f6-47b9-b6a4-cafc35af1b57-0', tool_calls=[{'name': 'search', 'args': {'query': 'current GDP of China'}, 'id': 'tn3j4fjg5', 'type': 'tool_call'}], usage_metadata={'input_tokens': 176, 'output_tokens': 185, 'total_tokens': 361})"
      ]
     },
     "execution_count": 24,
     "metadata": {},
     "output_type": "execute_result"
    }
   ],
   "source": [
    "last_message=snapshot.values[\"messages\"][-1]\n",
    "last_message"
   ]
  },
  {
   "cell_type": "code",
   "execution_count": 25,
   "metadata": {},
   "outputs": [
    {
     "data": {
      "text/plain": [
       "[{'name': 'search',\n",
       "  'args': {'query': 'current GDP of China'},\n",
       "  'id': 'tn3j4fjg5',\n",
       "  'type': 'tool_call'}]"
      ]
     },
     "execution_count": 25,
     "metadata": {},
     "output_type": "execute_result"
    }
   ],
   "source": [
    "tool_details=last_message.tool_calls\n",
    "tool_details"
   ]
  },
  {
   "cell_type": "markdown",
   "metadata": {},
   "source": [
    "### taking human input and resuming from last state"
   ]
  },
  {
   "cell_type": "code",
   "execution_count": 26,
   "metadata": {},
   "outputs": [
    {
     "name": "stdout",
     "output_type": "stream",
     "text": [
      "{'messages': [HumanMessage(content='What is the current gdp of the china?', additional_kwargs={}, response_metadata={}), AIMessage(content='', additional_kwargs={'tool_calls': [{'id': 'tn3j4fjg5', 'function': {'arguments': '{\"query\":\"current GDP of China\"}', 'name': 'search'}, 'type': 'function'}]}, response_metadata={'token_usage': {'completion_tokens': 185, 'prompt_tokens': 176, 'total_tokens': 361, 'completion_time': 0.710125217, 'prompt_time': 0.02157076, 'queue_time': 0.058972199999999995, 'total_time': 0.731695977}, 'model_name': 'deepseek-r1-distill-llama-70b', 'system_fingerprint': 'fp_1bbe7845ec', 'finish_reason': 'tool_calls', 'logprobs': None}, id='run--d81dcd0e-04f6-47b9-b6a4-cafc35af1b57-0', tool_calls=[{'name': 'search', 'args': {'query': 'current GDP of China'}, 'id': 'tn3j4fjg5', 'type': 'tool_call'}], usage_metadata={'input_tokens': 176, 'output_tokens': 185, 'total_tokens': 361}), ToolMessage(content='Result for current GDP of China is: \\n[{\\'title\\': \\'China - GDP - 2025 Data 2026 Forecast 1960-2023 Historical\\', \\'url\\': \\'https://tradingeconomics.com/china/gdp-us-dollar-wb-data.html\\', \\'content\\': \\'GDP (current US$) in China was reported at 17794783039552 USD in 2023, according to the World Bank collection of development indicators, compiled from officially recognized sources. China - GDP - actual values, historical data, forecasts and projections were sourced from the World Bank on June of 2025.\\', \\'score\\': 0.91362286}, {\\'title\\': \\'China GDP - Trading Economics\\', \\'url\\': \\'https://tradingeconomics.com/china/gdp\\', \\'content\\': \\'##### Members\\\\n\\\\n##### \\\\n\\\\n# China GDP\\\\n\\\\n## The Gross Domestic Product (GDP) in China was worth 17794.78 billion US dollars in 2023, according to official data from the World Bank. The GDP value of China represents 16.88 percent of the world economy. source: World Bank [...] ### GDP in China is expected to reach 18542.00 USD Billion by the end of 2025, according to Trading Economics global macro models and analysts expectations. In the long-term, the China GDP is projected to trend around 19284.00 USD Billion in 2026 and 20094.00 USD Billion in 2027, according to our econometric models. [...] | Related | Last | Previous | Unit | Reference |\\\\n| --- | --- | --- | --- | --- |\\\\n| Full Year GDP Growth | 5.00 | 5.40 | percent | Dec 2024 |\\\\n| GDP | 17794.78 | 17881.78 | USD Billion | Dec 2023 |\\\\n| GDP Growth Rate YoY | 5.40 | 5.40 | percent | Mar 2025 |\\\\n| GDP Growth Rate | 1.20 | 1.60 | percent | Mar 2025 |\\\\n| GDP per Capita | 12175.20 | 11555.93 | USD | Dec 2023 |\\\\n| GDP per Capita PPP | 22137.60 | 21011.62 | USD | Dec 2023 |\\', \\'score\\': 0.8690161}, {\\'title\\': \\'PDF\\', \\'url\\': \\'https://thedocs.worldbank.org/en/doc/8ae5ce818673952a85fee1ee57c3e933-0070012025/original/CEU-June-2025-EN.pdf\\', \\'content\\': \\'Structural challenges—including slowing productivity growth, high debt, and an aging population—are expected to constrain growth over the medium term. China Economic Outlook 2021 2022 2023 2024 2025f 2026f Real GDP growth (%) 8.6 3.1 5.4 5.0 4.5 4.0 Consumer price index (% change, average) 0.9 2.0 0.2 0.2 0.5 1.3 Current account balance (% of GDP) 1.9 2.4 1.4 2.2 1.0 0.8 Consolidated fiscal balance (% of GDP) -3.9 -6.1 -5.5 -6.5 -8.1 -7.8 Source: World Bank. Note: f = forecast (baseline). [...] loan Mortgage China Economic Update - June 2025 17 II. Outlook, Risks, and Policy Implications Outlook China’s GDP growth is projected to moderate to 4.5 percent in 2025 and 4.0 percent in 2026. Despite export frontloading in the first half of the year, export growth is expected to decelerate from the level observed last year. Significantly higher uncertainty could temper manufacturing investment and labor demand. Fiscal policy will be the main lever in mitigating the negative impact of trade [...] Worker Scheme VAT Value-Added Tax y/y Year-on-year Ytd Year-to-Date 3mma Three-month moving average China Economic Update - June 2025 1 Executive Summary China’s economy maintained solid growth momentum in early 2025, with real GDP expanding by 5.4 percent year-on-year (y/y) in the first quarter—matching the pace of the previous quarter. Consumption growth, supported by fiscal subsidies, improved, though it remains below pre-COVID levels, contributing only 2.8 percentage points (ppts) to y/y\\', \\'score\\': 0.73207545}, {\\'title\\': \\'China: GDP at current prices 1985-2030| Statista\\', \\'url\\': \\'https://www.statista.com/statistics/263770/gross-domestic-product-gdp-of-china/\\', \\'content\\': \\'Gross domestic product (GDP) at current prices in China from 1985 to 2024 with forecasts until 2030 (in billion U.S. dollars)\\', \\'score\\': 0.72395444}, {\\'title\\': \\'World GDP Rankings 2025 | Top 10 Countries Ranked By GDP - Forbes India\\', \\'url\\': \\'https://www.forbesindia.com/article/explainers/top-10-largest-economies-in-the-world/86159/1\\', \\'content\\': \"The largest economy in Asia is China, with a nominal GDP of over $18,270 billion in 2025. Japan and India rank next to China in Asia\\'s GDP rankings. 4. What are the top 10 richest countries in the\", \\'score\\': 0.6490677}]', name='search', tool_call_id='tn3j4fjg5'), AIMessage(content=\"The current GDP of China, as of the latest available data from 2023, is approximately **17,794.78 billion US dollars**. This figure represents China's economic output and accounts for about **16.88% of the global economy**. For the most accurate and up-to-date information, refer to the latest reports from the World Bank or other authoritative financial institutions.\", additional_kwargs={}, response_metadata={'token_usage': {'completion_tokens': 274, 'prompt_tokens': 1417, 'total_tokens': 1691, 'completion_time': 1.304684737, 'prompt_time': 0.119361409, 'queue_time': 0.155611301, 'total_time': 1.424046146}, 'model_name': 'deepseek-r1-distill-llama-70b', 'system_fingerprint': 'fp_1bbe7845ec', 'finish_reason': 'stop', 'logprobs': None}, id='run--d295227e-1012-4c68-84c9-301f02353a83-0', usage_metadata={'input_tokens': 1417, 'output_tokens': 274, 'total_tokens': 1691})]}\n"
     ]
    }
   ],
   "source": [
    "if tool_details[0][\"name\"]== \"search\":\n",
    "    user_input=input(prompt=f\"[yes/no] do you want to continue with {tool_details[0]['name']}?\").lower()\n",
    "    if user_input==\"no\":\n",
    "        print(\"web tool discarded\")\n",
    "        raise Exception(\"Web tool discarded by the user.\")\n",
    "    else:\n",
    "        response=app2.invoke(None,config)  #none means resume the last state or resume the process\n",
    "        print(response)\n",
    "else:\n",
    "    response=app2.invoke(None,config)\n",
    "    print(response)"
   ]
  },
  {
   "cell_type": "code",
   "execution_count": 37,
   "metadata": {},
   "outputs": [],
   "source": [
    "response=app2.invoke({\"messages\":[HumanMessage(\"What is the current gdp of the japan?\")]},config=config)"
   ]
  },
  {
   "cell_type": "code",
   "execution_count": 28,
   "metadata": {},
   "outputs": [
    {
     "data": {
      "text/plain": [
       "('tools',)"
      ]
     },
     "execution_count": 28,
     "metadata": {},
     "output_type": "execute_result"
    }
   ],
   "source": [
    "snapshot=app2.get_state(config)\n",
    "snapshot.next"
   ]
  },
  {
   "cell_type": "code",
   "execution_count": 29,
   "metadata": {},
   "outputs": [
    {
     "data": {
      "text/plain": [
       "[{'name': 'search',\n",
       "  'args': {'query': 'current GDP of Japan'},\n",
       "  'id': 'aerdw3p8q',\n",
       "  'type': 'tool_call'}]"
      ]
     },
     "execution_count": 29,
     "metadata": {},
     "output_type": "execute_result"
    }
   ],
   "source": [
    "last_message=snapshot.values[\"messages\"][-1]\n",
    "last_message.tool_calls"
   ]
  },
  {
   "cell_type": "code",
   "execution_count": 31,
   "metadata": {},
   "outputs": [
    {
     "data": {
      "text/plain": [
       "'aerdw3p8q'"
      ]
     },
     "execution_count": 31,
     "metadata": {},
     "output_type": "execute_result"
    }
   ],
   "source": [
    "tool_call_id=last_message.tool_calls[0][\"id\"]\n",
    "tool_call_id"
   ]
  },
  {
   "cell_type": "markdown",
   "metadata": {},
   "source": [
    "### appending custom messages in tool message and ai message"
   ]
  },
  {
   "cell_type": "code",
   "execution_count": 32,
   "metadata": {},
   "outputs": [
    {
     "data": {
      "text/plain": [
       "{'configurable': {'thread_id': '1',\n",
       "  'checkpoint_ns': '',\n",
       "  'checkpoint_id': '1f0558b6-fbdf-6ec6-8007-1dc0c68ca1a0'}}"
      ]
     },
     "execution_count": 32,
     "metadata": {},
     "output_type": "execute_result"
    }
   ],
   "source": [
    "from langchain_core.messages import AIMessage,ToolMessage\n",
    "\n",
    "new_message=[\n",
    "    ToolMessage(content=\"according to the latest data 4.1 trillion USD\",tool_call_id=tool_call_id),\n",
    "    AIMessage(content=\"GDP is 4.1 Trillion USD.\")\n",
    "    \n",
    "]\n",
    "\n",
    "app2.update_state(config, \n",
    "                  {\n",
    "                      \"messages\":new_message\n",
    "                   }\n",
    "                  )"
   ]
  },
  {
   "cell_type": "code",
   "execution_count": 33,
   "metadata": {},
   "outputs": [
    {
     "data": {
      "text/plain": [
       "AIMessage(content='GDP is 4.1 Trillion USD.', additional_kwargs={}, response_metadata={})"
      ]
     },
     "execution_count": 33,
     "metadata": {},
     "output_type": "execute_result"
    }
   ],
   "source": [
    "app2.get_state(config).values[\"messages\"][-1]"
   ]
  },
  {
   "cell_type": "code",
   "execution_count": 34,
   "metadata": {},
   "outputs": [
    {
     "data": {
      "text/plain": [
       "{'messages': [HumanMessage(content='What is the current gdp of the china?', additional_kwargs={}, response_metadata={}),\n",
       "  AIMessage(content='', additional_kwargs={'tool_calls': [{'id': 'tn3j4fjg5', 'function': {'arguments': '{\"query\":\"current GDP of China\"}', 'name': 'search'}, 'type': 'function'}]}, response_metadata={'token_usage': {'completion_tokens': 185, 'prompt_tokens': 176, 'total_tokens': 361, 'completion_time': 0.710125217, 'prompt_time': 0.02157076, 'queue_time': 0.058972199999999995, 'total_time': 0.731695977}, 'model_name': 'deepseek-r1-distill-llama-70b', 'system_fingerprint': 'fp_1bbe7845ec', 'finish_reason': 'tool_calls', 'logprobs': None}, id='run--d81dcd0e-04f6-47b9-b6a4-cafc35af1b57-0', tool_calls=[{'name': 'search', 'args': {'query': 'current GDP of China'}, 'id': 'tn3j4fjg5', 'type': 'tool_call'}], usage_metadata={'input_tokens': 176, 'output_tokens': 185, 'total_tokens': 361}),\n",
       "  ToolMessage(content='Result for current GDP of China is: \\n[{\\'title\\': \\'China - GDP - 2025 Data 2026 Forecast 1960-2023 Historical\\', \\'url\\': \\'https://tradingeconomics.com/china/gdp-us-dollar-wb-data.html\\', \\'content\\': \\'GDP (current US$) in China was reported at 17794783039552 USD in 2023, according to the World Bank collection of development indicators, compiled from officially recognized sources. China - GDP - actual values, historical data, forecasts and projections were sourced from the World Bank on June of 2025.\\', \\'score\\': 0.91362286}, {\\'title\\': \\'China GDP - Trading Economics\\', \\'url\\': \\'https://tradingeconomics.com/china/gdp\\', \\'content\\': \\'##### Members\\\\n\\\\n##### \\\\n\\\\n# China GDP\\\\n\\\\n## The Gross Domestic Product (GDP) in China was worth 17794.78 billion US dollars in 2023, according to official data from the World Bank. The GDP value of China represents 16.88 percent of the world economy. source: World Bank [...] ### GDP in China is expected to reach 18542.00 USD Billion by the end of 2025, according to Trading Economics global macro models and analysts expectations. In the long-term, the China GDP is projected to trend around 19284.00 USD Billion in 2026 and 20094.00 USD Billion in 2027, according to our econometric models. [...] | Related | Last | Previous | Unit | Reference |\\\\n| --- | --- | --- | --- | --- |\\\\n| Full Year GDP Growth | 5.00 | 5.40 | percent | Dec 2024 |\\\\n| GDP | 17794.78 | 17881.78 | USD Billion | Dec 2023 |\\\\n| GDP Growth Rate YoY | 5.40 | 5.40 | percent | Mar 2025 |\\\\n| GDP Growth Rate | 1.20 | 1.60 | percent | Mar 2025 |\\\\n| GDP per Capita | 12175.20 | 11555.93 | USD | Dec 2023 |\\\\n| GDP per Capita PPP | 22137.60 | 21011.62 | USD | Dec 2023 |\\', \\'score\\': 0.8690161}, {\\'title\\': \\'PDF\\', \\'url\\': \\'https://thedocs.worldbank.org/en/doc/8ae5ce818673952a85fee1ee57c3e933-0070012025/original/CEU-June-2025-EN.pdf\\', \\'content\\': \\'Structural challenges—including slowing productivity growth, high debt, and an aging population—are expected to constrain growth over the medium term. China Economic Outlook 2021 2022 2023 2024 2025f 2026f Real GDP growth (%) 8.6 3.1 5.4 5.0 4.5 4.0 Consumer price index (% change, average) 0.9 2.0 0.2 0.2 0.5 1.3 Current account balance (% of GDP) 1.9 2.4 1.4 2.2 1.0 0.8 Consolidated fiscal balance (% of GDP) -3.9 -6.1 -5.5 -6.5 -8.1 -7.8 Source: World Bank. Note: f = forecast (baseline). [...] loan Mortgage China Economic Update - June 2025 17 II. Outlook, Risks, and Policy Implications Outlook China’s GDP growth is projected to moderate to 4.5 percent in 2025 and 4.0 percent in 2026. Despite export frontloading in the first half of the year, export growth is expected to decelerate from the level observed last year. Significantly higher uncertainty could temper manufacturing investment and labor demand. Fiscal policy will be the main lever in mitigating the negative impact of trade [...] Worker Scheme VAT Value-Added Tax y/y Year-on-year Ytd Year-to-Date 3mma Three-month moving average China Economic Update - June 2025 1 Executive Summary China’s economy maintained solid growth momentum in early 2025, with real GDP expanding by 5.4 percent year-on-year (y/y) in the first quarter—matching the pace of the previous quarter. Consumption growth, supported by fiscal subsidies, improved, though it remains below pre-COVID levels, contributing only 2.8 percentage points (ppts) to y/y\\', \\'score\\': 0.73207545}, {\\'title\\': \\'China: GDP at current prices 1985-2030| Statista\\', \\'url\\': \\'https://www.statista.com/statistics/263770/gross-domestic-product-gdp-of-china/\\', \\'content\\': \\'Gross domestic product (GDP) at current prices in China from 1985 to 2024 with forecasts until 2030 (in billion U.S. dollars)\\', \\'score\\': 0.72395444}, {\\'title\\': \\'World GDP Rankings 2025 | Top 10 Countries Ranked By GDP - Forbes India\\', \\'url\\': \\'https://www.forbesindia.com/article/explainers/top-10-largest-economies-in-the-world/86159/1\\', \\'content\\': \"The largest economy in Asia is China, with a nominal GDP of over $18,270 billion in 2025. Japan and India rank next to China in Asia\\'s GDP rankings. 4. What are the top 10 richest countries in the\", \\'score\\': 0.6490677}]', name='search', tool_call_id='tn3j4fjg5'),\n",
       "  AIMessage(content=\"The current GDP of China, as of the latest available data from 2023, is approximately **17,794.78 billion US dollars**. This figure represents China's economic output and accounts for about **16.88% of the global economy**. For the most accurate and up-to-date information, refer to the latest reports from the World Bank or other authoritative financial institutions.\", additional_kwargs={}, response_metadata={'token_usage': {'completion_tokens': 274, 'prompt_tokens': 1417, 'total_tokens': 1691, 'completion_time': 1.304684737, 'prompt_time': 0.119361409, 'queue_time': 0.155611301, 'total_time': 1.424046146}, 'model_name': 'deepseek-r1-distill-llama-70b', 'system_fingerprint': 'fp_1bbe7845ec', 'finish_reason': 'stop', 'logprobs': None}, id='run--d295227e-1012-4c68-84c9-301f02353a83-0', usage_metadata={'input_tokens': 1417, 'output_tokens': 274, 'total_tokens': 1691}),\n",
       "  HumanMessage(content='What is the current gdp of the japan?', additional_kwargs={}, response_metadata={}),\n",
       "  AIMessage(content='', additional_kwargs={'tool_calls': [{'id': 'aerdw3p8q', 'function': {'arguments': '{\"query\":\"current GDP of Japan\"}', 'name': 'search'}, 'type': 'function'}]}, response_metadata={'token_usage': {'completion_tokens': 220, 'prompt_tokens': 1507, 'total_tokens': 1727, 'completion_time': 1.091756597, 'prompt_time': 0.118732209, 'queue_time': 0.055244977, 'total_time': 1.210488806}, 'model_name': 'deepseek-r1-distill-llama-70b', 'system_fingerprint': 'fp_1bbe7845ec', 'finish_reason': 'tool_calls', 'logprobs': None}, id='run--945d31c4-e73c-49c1-a5da-b25af9e85bf1-0', tool_calls=[{'name': 'search', 'args': {'query': 'current GDP of Japan'}, 'id': 'aerdw3p8q', 'type': 'tool_call'}], usage_metadata={'input_tokens': 1507, 'output_tokens': 220, 'total_tokens': 1727}),\n",
       "  ToolMessage(content='according to the latest data 4.1 trillion USD', tool_call_id='aerdw3p8q'),\n",
       "  AIMessage(content='GDP is 4.1 Trillion USD.', additional_kwargs={}, response_metadata={})]}"
      ]
     },
     "execution_count": 34,
     "metadata": {},
     "output_type": "execute_result"
    }
   ],
   "source": [
    "app2.invoke(None,config=config)"
   ]
  },
  {
   "cell_type": "code",
   "execution_count": 35,
   "metadata": {},
   "outputs": [
    {
     "data": {
      "text/plain": [
       "{'messages': [HumanMessage(content='What is the current gdp of the china?', additional_kwargs={}, response_metadata={}),\n",
       "  AIMessage(content='', additional_kwargs={'tool_calls': [{'id': 'tn3j4fjg5', 'function': {'arguments': '{\"query\":\"current GDP of China\"}', 'name': 'search'}, 'type': 'function'}]}, response_metadata={'token_usage': {'completion_tokens': 185, 'prompt_tokens': 176, 'total_tokens': 361, 'completion_time': 0.710125217, 'prompt_time': 0.02157076, 'queue_time': 0.058972199999999995, 'total_time': 0.731695977}, 'model_name': 'deepseek-r1-distill-llama-70b', 'system_fingerprint': 'fp_1bbe7845ec', 'finish_reason': 'tool_calls', 'logprobs': None}, id='run--d81dcd0e-04f6-47b9-b6a4-cafc35af1b57-0', tool_calls=[{'name': 'search', 'args': {'query': 'current GDP of China'}, 'id': 'tn3j4fjg5', 'type': 'tool_call'}], usage_metadata={'input_tokens': 176, 'output_tokens': 185, 'total_tokens': 361}),\n",
       "  ToolMessage(content='Result for current GDP of China is: \\n[{\\'title\\': \\'China - GDP - 2025 Data 2026 Forecast 1960-2023 Historical\\', \\'url\\': \\'https://tradingeconomics.com/china/gdp-us-dollar-wb-data.html\\', \\'content\\': \\'GDP (current US$) in China was reported at 17794783039552 USD in 2023, according to the World Bank collection of development indicators, compiled from officially recognized sources. China - GDP - actual values, historical data, forecasts and projections were sourced from the World Bank on June of 2025.\\', \\'score\\': 0.91362286}, {\\'title\\': \\'China GDP - Trading Economics\\', \\'url\\': \\'https://tradingeconomics.com/china/gdp\\', \\'content\\': \\'##### Members\\\\n\\\\n##### \\\\n\\\\n# China GDP\\\\n\\\\n## The Gross Domestic Product (GDP) in China was worth 17794.78 billion US dollars in 2023, according to official data from the World Bank. The GDP value of China represents 16.88 percent of the world economy. source: World Bank [...] ### GDP in China is expected to reach 18542.00 USD Billion by the end of 2025, according to Trading Economics global macro models and analysts expectations. In the long-term, the China GDP is projected to trend around 19284.00 USD Billion in 2026 and 20094.00 USD Billion in 2027, according to our econometric models. [...] | Related | Last | Previous | Unit | Reference |\\\\n| --- | --- | --- | --- | --- |\\\\n| Full Year GDP Growth | 5.00 | 5.40 | percent | Dec 2024 |\\\\n| GDP | 17794.78 | 17881.78 | USD Billion | Dec 2023 |\\\\n| GDP Growth Rate YoY | 5.40 | 5.40 | percent | Mar 2025 |\\\\n| GDP Growth Rate | 1.20 | 1.60 | percent | Mar 2025 |\\\\n| GDP per Capita | 12175.20 | 11555.93 | USD | Dec 2023 |\\\\n| GDP per Capita PPP | 22137.60 | 21011.62 | USD | Dec 2023 |\\', \\'score\\': 0.8690161}, {\\'title\\': \\'PDF\\', \\'url\\': \\'https://thedocs.worldbank.org/en/doc/8ae5ce818673952a85fee1ee57c3e933-0070012025/original/CEU-June-2025-EN.pdf\\', \\'content\\': \\'Structural challenges—including slowing productivity growth, high debt, and an aging population—are expected to constrain growth over the medium term. China Economic Outlook 2021 2022 2023 2024 2025f 2026f Real GDP growth (%) 8.6 3.1 5.4 5.0 4.5 4.0 Consumer price index (% change, average) 0.9 2.0 0.2 0.2 0.5 1.3 Current account balance (% of GDP) 1.9 2.4 1.4 2.2 1.0 0.8 Consolidated fiscal balance (% of GDP) -3.9 -6.1 -5.5 -6.5 -8.1 -7.8 Source: World Bank. Note: f = forecast (baseline). [...] loan Mortgage China Economic Update - June 2025 17 II. Outlook, Risks, and Policy Implications Outlook China’s GDP growth is projected to moderate to 4.5 percent in 2025 and 4.0 percent in 2026. Despite export frontloading in the first half of the year, export growth is expected to decelerate from the level observed last year. Significantly higher uncertainty could temper manufacturing investment and labor demand. Fiscal policy will be the main lever in mitigating the negative impact of trade [...] Worker Scheme VAT Value-Added Tax y/y Year-on-year Ytd Year-to-Date 3mma Three-month moving average China Economic Update - June 2025 1 Executive Summary China’s economy maintained solid growth momentum in early 2025, with real GDP expanding by 5.4 percent year-on-year (y/y) in the first quarter—matching the pace of the previous quarter. Consumption growth, supported by fiscal subsidies, improved, though it remains below pre-COVID levels, contributing only 2.8 percentage points (ppts) to y/y\\', \\'score\\': 0.73207545}, {\\'title\\': \\'China: GDP at current prices 1985-2030| Statista\\', \\'url\\': \\'https://www.statista.com/statistics/263770/gross-domestic-product-gdp-of-china/\\', \\'content\\': \\'Gross domestic product (GDP) at current prices in China from 1985 to 2024 with forecasts until 2030 (in billion U.S. dollars)\\', \\'score\\': 0.72395444}, {\\'title\\': \\'World GDP Rankings 2025 | Top 10 Countries Ranked By GDP - Forbes India\\', \\'url\\': \\'https://www.forbesindia.com/article/explainers/top-10-largest-economies-in-the-world/86159/1\\', \\'content\\': \"The largest economy in Asia is China, with a nominal GDP of over $18,270 billion in 2025. Japan and India rank next to China in Asia\\'s GDP rankings. 4. What are the top 10 richest countries in the\", \\'score\\': 0.6490677}]', name='search', tool_call_id='tn3j4fjg5'),\n",
       "  AIMessage(content=\"The current GDP of China, as of the latest available data from 2023, is approximately **17,794.78 billion US dollars**. This figure represents China's economic output and accounts for about **16.88% of the global economy**. For the most accurate and up-to-date information, refer to the latest reports from the World Bank or other authoritative financial institutions.\", additional_kwargs={}, response_metadata={'token_usage': {'completion_tokens': 274, 'prompt_tokens': 1417, 'total_tokens': 1691, 'completion_time': 1.304684737, 'prompt_time': 0.119361409, 'queue_time': 0.155611301, 'total_time': 1.424046146}, 'model_name': 'deepseek-r1-distill-llama-70b', 'system_fingerprint': 'fp_1bbe7845ec', 'finish_reason': 'stop', 'logprobs': None}, id='run--d295227e-1012-4c68-84c9-301f02353a83-0', usage_metadata={'input_tokens': 1417, 'output_tokens': 274, 'total_tokens': 1691}),\n",
       "  HumanMessage(content='What is the current gdp of the japan?', additional_kwargs={}, response_metadata={}),\n",
       "  AIMessage(content='', additional_kwargs={'tool_calls': [{'id': 'aerdw3p8q', 'function': {'arguments': '{\"query\":\"current GDP of Japan\"}', 'name': 'search'}, 'type': 'function'}]}, response_metadata={'token_usage': {'completion_tokens': 220, 'prompt_tokens': 1507, 'total_tokens': 1727, 'completion_time': 1.091756597, 'prompt_time': 0.118732209, 'queue_time': 0.055244977, 'total_time': 1.210488806}, 'model_name': 'deepseek-r1-distill-llama-70b', 'system_fingerprint': 'fp_1bbe7845ec', 'finish_reason': 'tool_calls', 'logprobs': None}, id='run--945d31c4-e73c-49c1-a5da-b25af9e85bf1-0', tool_calls=[{'name': 'search', 'args': {'query': 'current GDP of Japan'}, 'id': 'aerdw3p8q', 'type': 'tool_call'}], usage_metadata={'input_tokens': 1507, 'output_tokens': 220, 'total_tokens': 1727}),\n",
       "  ToolMessage(content='according to the latest data 4.1 trillion USD', tool_call_id='aerdw3p8q'),\n",
       "  AIMessage(content='GDP is 4.1 Trillion USD.', additional_kwargs={}, response_metadata={}),\n",
       "  HumanMessage(content='What is the current gdp of the japan?', additional_kwargs={}, response_metadata={}),\n",
       "  AIMessage(content='The current GDP of Japan is approximately **4.1 trillion USD** (as of the latest available data from 2023). For the most accurate and up-to-date information, refer to the latest reports from the World Bank or other authoritative financial institutions.', additional_kwargs={}, response_metadata={'token_usage': {'completion_tokens': 234, 'prompt_tokens': 1594, 'total_tokens': 1828, 'completion_time': 0.994338519, 'prompt_time': 0.125270556, 'queue_time': 0.058689304, 'total_time': 1.119609075}, 'model_name': 'deepseek-r1-distill-llama-70b', 'system_fingerprint': 'fp_1bbe7845ec', 'finish_reason': 'stop', 'logprobs': None}, id='run--d97ad70b-358c-42cd-b976-d316172be5f1-0', usage_metadata={'input_tokens': 1594, 'output_tokens': 234, 'total_tokens': 1828})]}"
      ]
     },
     "execution_count": 35,
     "metadata": {},
     "output_type": "execute_result"
    }
   ],
   "source": [
    "app2.invoke({\"messages\":[HumanMessage(\"What is the current gdp of the japan?\")]},config=config)"
   ]
  },
  {
   "cell_type": "code",
   "execution_count": null,
   "metadata": {},
   "outputs": [],
   "source": []
  }
 ],
 "metadata": {
  "kernelspec": {
   "display_name": ".venv",
   "language": "python",
   "name": "python3"
  },
  "language_info": {
   "codemirror_mode": {
    "name": "ipython",
    "version": 3
   },
   "file_extension": ".py",
   "mimetype": "text/x-python",
   "name": "python",
   "nbconvert_exporter": "python",
   "pygments_lexer": "ipython3",
   "version": "3.11.0"
  }
 },
 "nbformat": 4,
 "nbformat_minor": 2
}
