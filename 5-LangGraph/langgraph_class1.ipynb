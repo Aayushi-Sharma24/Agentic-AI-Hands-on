{
 "cells": [
  {
   "cell_type": "markdown",
   "metadata": {},
   "source": [
    "## A basic LangGraph Workflow\n",
    "### Creating functions which will act as nodes in langgraph"
   ]
  },
  {
   "cell_type": "code",
   "execution_count": 22,
   "metadata": {},
   "outputs": [],
   "source": [
    "def function1(input):\n",
    "    return input + \" from first function\"\n",
    "\n",
    "def function2(input):\n",
    "    return input + \" from second function\""
   ]
  },
  {
   "cell_type": "markdown",
   "metadata": {},
   "source": [
    "### Creating workflow"
   ]
  },
  {
   "cell_type": "code",
   "execution_count": 24,
   "metadata": {},
   "outputs": [],
   "source": [
    "from langgraph.graph import Graph\n",
    "\n",
    "workflow = Graph()\n",
    "workflow.add_node(\"func1\", function1)\n",
    "workflow.add_node(\"func2\", function2)\n",
    "workflow.add_edge(\"func1\",\"func2\")\n",
    "workflow.set_entry_point(\"func1\")\n",
    "workflow.set_finish_point(\"func2\")\n",
    "app = workflow.compile()"
   ]
  },
  {
   "cell_type": "code",
   "execution_count": 25,
   "metadata": {},
   "outputs": [
    {
     "data": {
      "text/plain": [
       "Graph(nodes={'func1': Node(id='func1', name='func1', data=func1(tags=None, recurse=True, explode_args=False, func_accepts_config=False, func_accepts={}), metadata=None), 'func2': Node(id='func2', name='func2', data=func2(tags=None, recurse=True, explode_args=False, func_accepts_config=False, func_accepts={}), metadata=None), '__start__': Node(id='__start__', name='__start__', data=None, metadata=None), '__end__': Node(id='__end__', name='__end__', data=None, metadata=None)}, edges=[Edge(source='__start__', target='func1', data=None, conditional=False), Edge(source='func1', target='func2', data=None, conditional=False), Edge(source='func2', target='__end__', data=None, conditional=False)])"
      ]
     },
     "execution_count": 25,
     "metadata": {},
     "output_type": "execute_result"
    }
   ],
   "source": [
    "app.get_graph()"
   ]
  },
  {
   "cell_type": "markdown",
   "metadata": {},
   "source": [
    "#### Code to display workflow"
   ]
  },
  {
   "cell_type": "code",
   "execution_count": 26,
   "metadata": {},
   "outputs": [
    {
     "data": {
      "image/png": "[encoded data removed]",
      "text/plain": [
       "<IPython.core.display.Image object>"
      ]
     },
     "metadata": {},
     "output_type": "display_data"
    }
   ],
   "source": [
    "from IPython.display import Image, display\n",
    "display(Image(app.get_graph().draw_mermaid_png()))"
   ]
  },
  {
   "cell_type": "code",
   "execution_count": null,
   "metadata": {},
   "outputs": [
    {
     "data": {
      "text/plain": [
       "'hi hello how are you today? from first function from second function'"
      ]
     },
     "execution_count": 27,
     "metadata": {},
     "output_type": "execute_result"
    }
   ],
   "source": [
    "# final output from workflow\n",
    "app.invoke(\"hi hello how are you today?\")"
   ]
  },
  {
   "cell_type": "markdown",
   "metadata": {},
   "source": [
    "### To stream output from each node"
   ]
  },
  {
   "cell_type": "code",
   "execution_count": 28,
   "metadata": {},
   "outputs": [
    {
     "name": "stdout",
     "output_type": "stream",
     "text": [
      "here is output from func1\n",
      "_______\n",
      "hi this is rohit from first function\n",
      "\n",
      "\n",
      "here is output from func2\n",
      "_______\n",
      "hi this is rohit from first function from second function\n",
      "\n",
      "\n"
     ]
    }
   ],
   "source": [
    "for output in app.stream(\"hi this is rohit\"):\n",
    "    for key,value in output.items():\n",
    "        print(f\"here is output from {key}\")\n",
    "        print(\"_______\")\n",
    "        print(value)\n",
    "        print(\"\\n\")"
   ]
  },
  {
   "cell_type": "markdown",
   "metadata": {},
   "source": [
    "## A simple Langgraph workflow powered by Gemini LLM"
   ]
  },
  {
   "cell_type": "code",
   "execution_count": 29,
   "metadata": {},
   "outputs": [],
   "source": [
    "from langchain_google_genai import ChatGoogleGenerativeAI\n",
    "import os\n",
    "from dotenv import load_dotenv\n",
    "\n",
    "load_dotenv()\n",
    "os.environ['GOOGLE_API_KEY'] = os.getenv('GOOGLE_API_KEY')\n",
    "\n",
    "# Node 1 - LLM\n",
    "def llm(input):\n",
    "    model=ChatGoogleGenerativeAI(model='gemini-1.5-flash')\n",
    "    output=model.invoke(input)\n",
    "    return output.content\n",
    "\n",
    "# Node 2 - Counting Tokens\n",
    "def token_counter(input):\n",
    "    token=input.split()\n",
    "    token_number=len(token)\n",
    "    return f\"total token number in the generated answer is {token_number}\""
   ]
  },
  {
   "cell_type": "markdown",
   "metadata": {},
   "source": [
    "### Creating Workflow"
   ]
  },
  {
   "cell_type": "code",
   "execution_count": 30,
   "metadata": {},
   "outputs": [],
   "source": [
    "workflow2 = Graph()\n",
    "workflow2.add_node(\"My LLM\", llm)\n",
    "workflow2.add_node(\"Count Tokens\", token_counter)\n",
    "workflow2.add_edge(\"My LLM\", \"Count Tokens\")\n",
    "workflow2.set_entry_point(\"My LLM\")\n",
    "workflow2.set_finish_point(\"Count Tokens\")\n",
    "app=workflow2.compile()"
   ]
  },
  {
   "cell_type": "code",
   "execution_count": 31,
   "metadata": {},
   "outputs": [
    {
     "data": {
      "image/png": "[encoded data removed]",
      "text/plain": [
       "<IPython.core.display.Image object>"
      ]
     },
     "metadata": {},
     "output_type": "display_data"
    }
   ],
   "source": [
    "from IPython.display import Image, display\n",
    "display(Image(app.get_graph().draw_mermaid_png()))"
   ]
  },
  {
   "cell_type": "code",
   "execution_count": 32,
   "metadata": {},
   "outputs": [
    {
     "data": {
      "text/plain": [
       "'total token number in the generated answer is 58'"
      ]
     },
     "execution_count": 32,
     "metadata": {},
     "output_type": "execute_result"
    }
   ],
   "source": [
    "app.invoke(\"can you tell me about the india's capital?\")"
   ]
  },
  {
   "cell_type": "code",
   "execution_count": 33,
   "metadata": {},
   "outputs": [
    {
     "name": "stdout",
     "output_type": "stream",
     "text": [
      "here is output from My LLM\n",
      "_______\n",
      "Tata Enterprises, more accurately referred to as the **Tata Group**, is a massive Indian multinational conglomerate headquartered in Mumbai.  It's not a single entity but a network of more than 100 operating companies, under the umbrella of Tata Sons, a holding company.  Understanding its complexity requires looking at several key aspects:\n",
      "\n",
      "**I. History and Founding:**\n",
      "\n",
      "The Tata Group's origins trace back to 1868 when Jamsetji Tata, a Parsi entrepreneur, founded the Empress Mills, a textile company in Nagpur.  His vision extended beyond profit, encompassing philanthropy and nation-building.  This ethos of social responsibility continues to define the group today.  Over the decades, the group diversified into various sectors, driven by successive generations of leadership.\n",
      "\n",
      "**II. Structure and Ownership:**\n",
      "\n",
      "* **Tata Sons:** This is the primary holding company, owning stakes in various Tata companies.  It's structured as a complex web of holding companies and subsidiaries.  While publicly traded, a significant portion of Tata Sons is held by philanthropic trusts, which prevents any single entity from gaining controlling influence.  These trusts are instrumental in maintaining the group's commitment to social responsibility and long-term vision.\n",
      "\n",
      "* **Operating Companies:**  These are the numerous businesses that comprise the group.  They operate independently within their respective sectors, but benefit from shared resources, brand recognition, and the overall Tata Group's reputation.\n",
      "\n",
      "* **Subsidiaries and Joint Ventures:**  The Group engages in numerous joint ventures and has several subsidiaries, both within India and globally. This allows for expansion into new markets and technologies.\n",
      "\n",
      "**III. Key Sectors and Businesses:**\n",
      "\n",
      "The Tata Group's presence spans an incredibly broad range of sectors, including:\n",
      "\n",
      "* **Automotive:** Tata Motors (cars, trucks, buses), Jaguar Land Rover (luxury vehicles) – a significant global player.\n",
      "* **Steel:** Tata Steel – one of the world's largest steel producers.\n",
      "* **Information Technology:** Tata Consultancy Services (TCS), Tata Elxsi, and others – major players in the global IT services industry.\n",
      "* **Consumer Goods:** Tata Consumer Products (tea, coffee, salt, etc.), Titan Company (watches, jewellery), Voltas (air conditioners, etc.) – reaching millions of consumers daily.\n",
      "* **Chemicals:** Tata Chemicals – a significant player in the chemical industry.\n",
      "* **Power:** Tata Power – involved in power generation and distribution.\n",
      "* **Telecommunications:** Tata Teleservices (though its presence has diminished in recent years).\n",
      "* **Hospitality:** Taj Hotels Palaces Resorts Safaris – a luxury hotel chain with a global presence.\n",
      "* **Aerospace & Defence:** Tata Advanced Systems.\n",
      "* **Retail:** Trent (Westside, Star Bazaar)\n",
      "* **Financial Services:**  Tata Capital, Tata AIG General Insurance, and others.\n",
      "\n",
      "**IV. Global Presence:**\n",
      "\n",
      "The Tata Group's footprint extends beyond India, with significant operations and investments in numerous countries across the globe, notably in the UK, USA, Europe, and other parts of Asia.  This international reach is a testament to its global ambitions and competitiveness.\n",
      "\n",
      "**V. Corporate Governance and Social Responsibility:**\n",
      "\n",
      "The Tata Group is known for its relatively strong corporate governance structures and its commitment to corporate social responsibility (CSR).  The philanthropic trusts that hold significant stakes in Tata Sons play a crucial role in this aspect.  The group has a long history of supporting education, healthcare, and other social causes.  However, the group has also faced criticism and scrutiny regarding certain business practices and ethical concerns at times.\n",
      "\n",
      "**VI. Challenges and Future Outlook:**\n",
      "\n",
      "The Tata Group, like any large conglomerate, faces various challenges, including:\n",
      "\n",
      "* **Competition:** Intense competition in various sectors, both domestically and internationally.\n",
      "* **Economic Fluctuations:** Vulnerability to global economic downturns.\n",
      "* **Technological Disruption:** Adapting to rapid technological advancements across sectors.\n",
      "* **Succession Planning:** Ensuring smooth transitions in leadership.\n",
      "* **Maintaining Brand Reputation:** Protecting the Group's reputation and values in a dynamic and often challenging business environment.\n",
      "\n",
      "Despite these challenges, the Tata Group remains a powerful and influential force in the Indian and global economy. Its diversified portfolio, strong brands, and commitment to social responsibility position it for continued growth and impact in the years to come.  However,  navigating the complexities of a globalized and rapidly changing world will remain a key focus for its future success.\n",
      "\n",
      "\n",
      "here is output from Count Tokens\n",
      "_______\n",
      "total token number in the generated answer is 658\n",
      "\n",
      "\n"
     ]
    }
   ],
   "source": [
    "for output in app.stream(\"tell me about the tata enterpirse in very detail.\"):\n",
    "    for key,value in output.items():\n",
    "        print(f\"here is output from {key}\")\n",
    "        print(\"_______\")\n",
    "        print(value)\n",
    "        print(\"\\n\")"
   ]
  },
  {
   "cell_type": "code",
   "execution_count": null,
   "metadata": {},
   "outputs": [],
   "source": []
  }
 ],
 "metadata": {
  "kernelspec": {
   "display_name": ".venv",
   "language": "python",
   "name": "python3"
  },
  "language_info": {
   "name": "python",
   "version": "3.11.0"
  }
 },
 "nbformat": 4,
 "nbformat_minor": 2
}
